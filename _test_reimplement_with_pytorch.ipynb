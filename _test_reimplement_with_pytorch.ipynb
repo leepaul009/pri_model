{
 "cells": [
  {
   "cell_type": "code",
   "execution_count": 2,
   "id": "15b96f31",
   "metadata": {},
   "outputs": [
    {
     "name": "stderr",
     "output_type": "stream",
     "text": [
      "/home/megvii/anaconda3/envs/paul-py3/lib/python3.8/site-packages/tqdm/auto.py:21: TqdmWarning: IProgress not found. Please update jupyter and ipywidgets. See https://ipywidgets.readthedocs.io/en/stable/user_install.html\n",
      "  from .autonotebook import tqdm as notebook_tqdm\n"
     ]
    }
   ],
   "source": [
    "import torch\n",
    "from neighborhoods import LocalNeighborhood"
   ]
  },
  {
   "cell_type": "code",
   "execution_count": 2,
   "id": "4d405f2e",
   "metadata": {},
   "outputs": [
    {
     "name": "stdout",
     "output_type": "stream",
     "text": [
      "neighbor_coordinates size=1\n"
     ]
    }
   ],
   "source": [
    "coordinates=['index_distance']\n",
    "config = None\n",
    "nei_layer = LocalNeighborhood(\n",
    "    config, Kmax=14, coordinates=coordinates, self_neighborhood=True)\n",
    "\n",
    "bs = 2\n",
    "s1 = 256\n",
    "h = 32\n",
    "indices = torch.arange(s1).repeat(bs, 1).unsqueeze(dim=-1)\n",
    "feat1 = torch.rand(bs, s1, h)\n",
    "feat2 = torch.rand(bs, s1, h)\n",
    "inputs = [indices, feat1, feat2]\n",
    "output = nei_layer(inputs)"
   ]
  },
  {
   "cell_type": "code",
   "execution_count": 3,
   "id": "2c607044",
   "metadata": {
    "scrolled": true
   },
   "outputs": [
    {
     "name": "stdout",
     "output_type": "stream",
     "text": [
      "torch.Size([2, 256, 14, 1])\n",
      "torch.Size([256, 14, 32])\n",
      "torch.Size([256, 14, 32])\n",
      "torch.Size([256, 14, 32])\n",
      "torch.Size([256, 14, 32])\n"
     ]
    }
   ],
   "source": [
    "for it in output:\n",
    "    for iit in it:\n",
    "        print(iit.shape)"
   ]
  },
  {
   "cell_type": "code",
   "execution_count": 10,
   "id": "0410adae",
   "metadata": {},
   "outputs": [
    {
     "data": {
      "text/plain": [
       "torch.Size([2, 256, 14, 1])"
      ]
     },
     "execution_count": 10,
     "metadata": {},
     "output_type": "execute_result"
    }
   ],
   "source": [
    "output[0][0].shape"
   ]
  },
  {
   "cell_type": "code",
   "execution_count": 14,
   "id": "60ac8a42",
   "metadata": {},
   "outputs": [
    {
     "data": {
      "text/plain": [
       "(torch.Size([5, 3, 20]), torch.Size([2, 3, 20]))"
      ]
     },
     "execution_count": 14,
     "metadata": {},
     "output_type": "execute_result"
    }
   ],
   "source": [
    "import torch.nn as nn\n",
    "rnn = nn.RNN(10, 20, 2)\n",
    "input = torch.randn(5, 3, 10)\n",
    "\n",
    "output, hn = rnn(input)\n",
    "output.shape, hn.shape"
   ]
  },
  {
   "cell_type": "code",
   "execution_count": 15,
   "id": "617d88f4",
   "metadata": {},
   "outputs": [
    {
     "data": {
      "text/plain": [
       "torch.Size([5, 3, 20])"
      ]
     },
     "execution_count": 15,
     "metadata": {},
     "output_type": "execute_result"
    }
   ],
   "source": [
    "x1 = torch.randn(5, 3, 10)\n",
    "x2 = torch.randn(5, 3, 10)\n",
    "torch.cat([x1, x2],dim=-1).shape"
   ]
  },
  {
   "cell_type": "code",
   "execution_count": 18,
   "id": "5d449cc2",
   "metadata": {},
   "outputs": [],
   "source": [
    "import torch.nn as nn\n",
    "\n",
    "class TimeDistributed(nn.Module):\n",
    "    def __init__(self, module, batch_first=False):\n",
    "        super(TimeDistributed, self).__init__()\n",
    "        self.module = module\n",
    "        self.batch_first = batch_first\n",
    "\n",
    "    def forward(self, x):\n",
    "\n",
    "        if len(x.size()) <= 2:\n",
    "            return self.module(x)\n",
    "\n",
    "        # Squash samples and timesteps into a single axis\n",
    "        x_reshape = x.contiguous().view(-1, x.size(-1))  # (samples * timesteps, input_size)\n",
    "\n",
    "        y = self.module(x_reshape)\n",
    "\n",
    "        # We have to reshape Y\n",
    "        if self.batch_first:\n",
    "            y = y.contiguous().view(x.size(0), -1, y.size(-1))  # (samples, timesteps, output_size)\n",
    "        else:\n",
    "            y = y.view(-1, x.size(1), y.size(-1))  # (timesteps, samples, output_size)\n",
    "\n",
    "        return y"
   ]
  },
  {
   "cell_type": "code",
   "execution_count": 20,
   "id": "7776ea2d",
   "metadata": {},
   "outputs": [
    {
     "data": {
      "text/plain": [
       "torch.Size([5, 3, 32])"
      ]
     },
     "execution_count": 20,
     "metadata": {},
     "output_type": "execute_result"
    }
   ],
   "source": [
    "# torch.nn.Linear(in_features, out_features, bias=True, device=None, dtype=None)\n",
    "dense = nn.Linear(20, 32, bias=False)\n",
    "seq_net = TimeDistributed(dense, batch_first=True)\n",
    "\n",
    "x1 = torch.randn(5, 3, 20)\n",
    "y = seq_net(x1)\n",
    "y.shape"
   ]
  },
  {
   "cell_type": "code",
   "execution_count": 26,
   "id": "1b3e06c6",
   "metadata": {},
   "outputs": [
    {
     "data": {
      "text/plain": [
       "torch.Size([2, 10, 64])"
      ]
     },
     "execution_count": 26,
     "metadata": {},
     "output_type": "execute_result"
    }
   ],
   "source": [
    "from modeling.lib import GlobalGraph\n",
    "\n",
    "inputs = torch.rand(2, 10, 64)\n",
    "mask = torch.ones([2,10,10])\n",
    "\n",
    "gnet = GlobalGraph(64)\n",
    "output = gnet(inputs, mask)\n",
    "output.shape"
   ]
  },
  {
   "cell_type": "code",
   "execution_count": 36,
   "id": "5953ab8d",
   "metadata": {
    "collapsed": true
   },
   "outputs": [
    {
     "name": "stdout",
     "output_type": "stream",
     "text": [
      "tensor([[[2],\n",
      "         [0],\n",
      "         [5],\n",
      "         [5],\n",
      "         [2]],\n",
      "\n",
      "        [[3],\n",
      "         [0],\n",
      "         [1],\n",
      "         [3],\n",
      "         [4]]])\n",
      "tensor([[[ 2],\n",
      "         [ 0],\n",
      "         [ 5],\n",
      "         [ 5],\n",
      "         [ 2]],\n",
      "\n",
      "        [[13],\n",
      "         [10],\n",
      "         [11],\n",
      "         [13],\n",
      "         [14]]])\n"
     ]
    }
   ],
   "source": [
    "# tf.gather_nd(points, triplets[:, :, 1:2], batch_dims=1)\n",
    "points = torch.rand(2,10,3)\n",
    "triplets = torch.randint(0, 10, (2,5,3))\n",
    "offsets = (torch.arange(2) * 10).reshape(2,1,1)\n",
    "\n",
    "indices = triplets[:,:,1:2]\n",
    "print(indices)\n",
    "indices = indices + offsets\n",
    "print(indices)\n"
   ]
  },
  {
   "cell_type": "code",
   "execution_count": 42,
   "id": "2c022956",
   "metadata": {},
   "outputs": [
    {
     "data": {
      "text/plain": [
       "torch.Size([125, 4, 4, 4, 32])"
      ]
     },
     "execution_count": 42,
     "metadata": {},
     "output_type": "execute_result"
    }
   ],
   "source": [
    "import numpy as np\n",
    "batch_dim =3\n",
    "batch_size = 5\n",
    "params = torch.randn(batch_size, batch_size, batch_size, 4, 4, 4, 32)\n",
    "indices = torch.randint(4, (batch_size, batch_size, batch_size, 12, 3))\n",
    "\n",
    "batch_dims = params.size()[:batch_dim]  # [b1, ..., bn]\n",
    "batch_size = np.cumprod(list(batch_dims))[-1]  # b1 * ... * bn\n",
    "c_dim = params.size()[-1]  # c\n",
    "grid_dims = params.size()[batch_dim:-1]  # [g1, ..., gm]\n",
    "n_indices = indices.size(-2)  # x\n",
    "n_pos = indices.size(-1)  # m\n",
    "\n",
    "# reshape leadning batch dims to a single batch dim\n",
    "params = params.reshape(batch_size, *grid_dims, c_dim)\n",
    "indices = indices.reshape(batch_size, n_indices, n_pos)\n",
    "\n",
    "batch_enumeration = torch.arange(batch_size).unsqueeze(1)\n",
    "gather_dims = [indices[:, :, i] for i in range(len(grid_dims))]\n",
    "gather_dims.insert(0, batch_enumeration)\n",
    "\n",
    "\n"
   ]
  },
  {
   "cell_type": "code",
   "execution_count": 64,
   "id": "df68693e",
   "metadata": {},
   "outputs": [
    {
     "name": "stdout",
     "output_type": "stream",
     "text": [
      "tensor([[[0.6688, 0.5033],\n",
      "         [0.9680, 0.8551],\n",
      "         [0.5141, 0.1596],\n",
      "         [0.1239, 0.5980],\n",
      "         [0.9618, 0.2434]],\n",
      "\n",
      "        [[0.4828, 0.1921],\n",
      "         [0.5933, 0.6344],\n",
      "         [0.5788, 0.8869],\n",
      "         [0.3521, 0.6423],\n",
      "         [0.8749, 0.6521]]])\n"
     ]
    },
    {
     "data": {
      "text/plain": [
       "(tensor([[[[0.6688, 0.5033],\n",
       "           [0.9680, 0.8551],\n",
       "           [0.5141, 0.1596]],\n",
       " \n",
       "          [[0.9680, 0.8551],\n",
       "           [0.5141, 0.1596],\n",
       "           [0.1239, 0.5980]]],\n",
       " \n",
       " \n",
       "         [[[0.5788, 0.8869],\n",
       "           [0.3521, 0.6423],\n",
       "           [0.8749, 0.6521]],\n",
       " \n",
       "          [[0.5788, 0.8869],\n",
       "           [0.3521, 0.6423],\n",
       "           [0.8749, 0.6521]]]]),\n",
       " torch.Size([2, 2, 3, 2]))"
      ]
     },
     "execution_count": 64,
     "metadata": {},
     "output_type": "execute_result"
    }
   ],
   "source": [
    "params = torch.rand(2, 5, 2)\n",
    "print(params)\n",
    "batch_dim = torch.arange(2).unsqueeze(1).unsqueeze(1)\n",
    "dim2 = torch.tensor([ [[0,1,2], [1,2,3]], [[2,3,4], [2,3,4]] ])\n",
    "dims = [batch_dim, dim2]\n",
    "params[dims], params[dims].shape"
   ]
  },
  {
   "cell_type": "code",
   "execution_count": 77,
   "id": "fdf6a756",
   "metadata": {},
   "outputs": [
    {
     "data": {
      "text/plain": [
       "torch.Size([5, 5, 1, 1, 1])"
      ]
     },
     "execution_count": 77,
     "metadata": {},
     "output_type": "execute_result"
    }
   ],
   "source": [
    "sz1 = torch.Size([5 for _ in range(2)])\n",
    "sz2 = torch.Size([1 for _ in range(2)])\n",
    "x = torch.rand(25,1)\n",
    "x.reshape(*sz1, *sz2, 1).shape"
   ]
  },
  {
   "cell_type": "code",
   "execution_count": 3,
   "id": "48d5df04",
   "metadata": {},
   "outputs": [],
   "source": [
    "import torch\n",
    "from neighborhoods import gather_nd_torch_ex"
   ]
  },
  {
   "cell_type": "code",
   "execution_count": 5,
   "id": "ad23c5fe",
   "metadata": {},
   "outputs": [
    {
     "data": {
      "text/plain": [
       "torch.Size([2, 6, 3, 3])"
      ]
     },
     "execution_count": 5,
     "metadata": {},
     "output_type": "execute_result"
    }
   ],
   "source": [
    "params = torch.rand(2,4,4,3)\n",
    "indices = torch.randint(4,(2,6,3,2))\n",
    "out = gather_nd_torch_ex(params,indices,1)\n",
    "out.shape"
   ]
  },
  {
   "cell_type": "code",
   "execution_count": 14,
   "id": "01f4187b",
   "metadata": {},
   "outputs": [
    {
     "data": {
      "text/plain": [
       "torch.Size([4, 2, 2, 3])"
      ]
     },
     "execution_count": 14,
     "metadata": {},
     "output_type": "execute_result"
    }
   ],
   "source": [
    "x = torch.tensor([[1,0,0], [1,0,0]]) # (2,3)\n",
    "x = x.expand(4,2,3)\n",
    "y = torch.tensor([[0,-1,0], [1,0,0], [0,0,1]]) # (3,3)\n",
    "y = y.expand(2,3,3)\n",
    "\n",
    "torch.tensordot(x,y, ([-1], [-1])).shape"
   ]
  },
  {
   "cell_type": "code",
   "execution_count": null,
   "id": "119b356b",
   "metadata": {},
   "outputs": [],
   "source": []
  }
 ],
 "metadata": {
  "kernelspec": {
   "display_name": "Python 3",
   "language": "python",
   "name": "python3"
  },
  "language_info": {
   "codemirror_mode": {
    "name": "ipython",
    "version": 3
   },
   "file_extension": ".py",
   "mimetype": "text/x-python",
   "name": "python",
   "nbconvert_exporter": "python",
   "pygments_lexer": "ipython3",
   "version": "3.8.16"
  }
 },
 "nbformat": 4,
 "nbformat_minor": 5
}
