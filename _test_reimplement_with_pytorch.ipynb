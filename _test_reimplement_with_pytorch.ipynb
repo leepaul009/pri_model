{
 "cells": [
  {
   "cell_type": "code",
   "execution_count": 14,
   "id": "15b96f31",
   "metadata": {},
   "outputs": [],
   "source": [
    "import torch\n",
    "from modeling.neighborhoods import LocalNeighborhood"
   ]
  },
  {
   "cell_type": "code",
   "execution_count": 2,
   "id": "4d405f2e",
   "metadata": {},
   "outputs": [
    {
     "name": "stdout",
     "output_type": "stream",
     "text": [
      "neighbor_coordinates size=1\n"
     ]
    }
   ],
   "source": [
    "coordinates=['index_distance']\n",
    "config = None\n",
    "nei_layer = LocalNeighborhood(\n",
    "    config, Kmax=14, coordinates=coordinates, self_neighborhood=True)\n",
    "\n",
    "bs = 2\n",
    "s1 = 256\n",
    "h = 32\n",
    "indices = torch.arange(s1).repeat(bs, 1).unsqueeze(dim=-1)\n",
    "feat1 = torch.rand(bs, s1, h)\n",
    "feat2 = torch.rand(bs, s1, h)\n",
    "inputs = [indices, feat1, feat2]\n",
    "output = nei_layer(inputs)"
   ]
  },
  {
   "cell_type": "code",
   "execution_count": 3,
   "id": "2c607044",
   "metadata": {
    "scrolled": true
   },
   "outputs": [
    {
     "name": "stdout",
     "output_type": "stream",
     "text": [
      "torch.Size([2, 256, 14, 1])\n",
      "torch.Size([256, 14, 32])\n",
      "torch.Size([256, 14, 32])\n",
      "torch.Size([256, 14, 32])\n",
      "torch.Size([256, 14, 32])\n"
     ]
    }
   ],
   "source": [
    "for it in output:\n",
    "    for iit in it:\n",
    "        print(iit.shape)"
   ]
  },
  {
   "cell_type": "code",
   "execution_count": 10,
   "id": "0410adae",
   "metadata": {},
   "outputs": [
    {
     "data": {
      "text/plain": [
       "torch.Size([2, 256, 14, 1])"
      ]
     },
     "execution_count": 10,
     "metadata": {},
     "output_type": "execute_result"
    }
   ],
   "source": [
    "output[0][0].shape"
   ]
  },
  {
   "cell_type": "code",
   "execution_count": 14,
   "id": "60ac8a42",
   "metadata": {},
   "outputs": [
    {
     "data": {
      "text/plain": [
       "(torch.Size([5, 3, 20]), torch.Size([2, 3, 20]))"
      ]
     },
     "execution_count": 14,
     "metadata": {},
     "output_type": "execute_result"
    }
   ],
   "source": [
    "import torch.nn as nn\n",
    "rnn = nn.RNN(10, 20, 2)\n",
    "input = torch.randn(5, 3, 10)\n",
    "\n",
    "output, hn = rnn(input)\n",
    "output.shape, hn.shape"
   ]
  },
  {
   "cell_type": "code",
   "execution_count": 15,
   "id": "617d88f4",
   "metadata": {},
   "outputs": [
    {
     "data": {
      "text/plain": [
       "torch.Size([5, 3, 20])"
      ]
     },
     "execution_count": 15,
     "metadata": {},
     "output_type": "execute_result"
    }
   ],
   "source": [
    "x1 = torch.randn(5, 3, 10)\n",
    "x2 = torch.randn(5, 3, 10)\n",
    "torch.cat([x1, x2],dim=-1).shape"
   ]
  },
  {
   "cell_type": "code",
   "execution_count": 18,
   "id": "5d449cc2",
   "metadata": {},
   "outputs": [],
   "source": [
    "import torch.nn as nn\n",
    "\n",
    "class TimeDistributed(nn.Module):\n",
    "    def __init__(self, module, batch_first=False):\n",
    "        super(TimeDistributed, self).__init__()\n",
    "        self.module = module\n",
    "        self.batch_first = batch_first\n",
    "\n",
    "    def forward(self, x):\n",
    "\n",
    "        if len(x.size()) <= 2:\n",
    "            return self.module(x)\n",
    "\n",
    "        # Squash samples and timesteps into a single axis\n",
    "        x_reshape = x.contiguous().view(-1, x.size(-1))  # (samples * timesteps, input_size)\n",
    "\n",
    "        y = self.module(x_reshape)\n",
    "\n",
    "        # We have to reshape Y\n",
    "        if self.batch_first:\n",
    "            y = y.contiguous().view(x.size(0), -1, y.size(-1))  # (samples, timesteps, output_size)\n",
    "        else:\n",
    "            y = y.view(-1, x.size(1), y.size(-1))  # (timesteps, samples, output_size)\n",
    "\n",
    "        return y"
   ]
  },
  {
   "cell_type": "code",
   "execution_count": 20,
   "id": "7776ea2d",
   "metadata": {},
   "outputs": [
    {
     "data": {
      "text/plain": [
       "torch.Size([5, 3, 32])"
      ]
     },
     "execution_count": 20,
     "metadata": {},
     "output_type": "execute_result"
    }
   ],
   "source": [
    "# torch.nn.Linear(in_features, out_features, bias=True, device=None, dtype=None)\n",
    "dense = nn.Linear(20, 32, bias=False)\n",
    "seq_net = TimeDistributed(dense, batch_first=True)\n",
    "\n",
    "x1 = torch.randn(5, 3, 20)\n",
    "y = seq_net(x1)\n",
    "y.shape"
   ]
  },
  {
   "cell_type": "code",
   "execution_count": 26,
   "id": "1b3e06c6",
   "metadata": {},
   "outputs": [
    {
     "data": {
      "text/plain": [
       "torch.Size([2, 10, 64])"
      ]
     },
     "execution_count": 26,
     "metadata": {},
     "output_type": "execute_result"
    }
   ],
   "source": [
    "from modeling.lib import GlobalGraph\n",
    "\n",
    "inputs = torch.rand(2, 10, 64)\n",
    "mask = torch.ones([2,10,10])\n",
    "\n",
    "gnet = GlobalGraph(64)\n",
    "output = gnet(inputs, mask)\n",
    "output.shape"
   ]
  },
  {
   "cell_type": "code",
   "execution_count": 36,
   "id": "5953ab8d",
   "metadata": {
    "collapsed": true
   },
   "outputs": [
    {
     "name": "stdout",
     "output_type": "stream",
     "text": [
      "tensor([[[2],\n",
      "         [0],\n",
      "         [5],\n",
      "         [5],\n",
      "         [2]],\n",
      "\n",
      "        [[3],\n",
      "         [0],\n",
      "         [1],\n",
      "         [3],\n",
      "         [4]]])\n",
      "tensor([[[ 2],\n",
      "         [ 0],\n",
      "         [ 5],\n",
      "         [ 5],\n",
      "         [ 2]],\n",
      "\n",
      "        [[13],\n",
      "         [10],\n",
      "         [11],\n",
      "         [13],\n",
      "         [14]]])\n"
     ]
    }
   ],
   "source": [
    "# tf.gather_nd(points, triplets[:, :, 1:2], batch_dims=1)\n",
    "points = torch.rand(2,10,3)\n",
    "triplets = torch.randint(0, 10, (2,5,3))\n",
    "offsets = (torch.arange(2) * 10).reshape(2,1,1)\n",
    "\n",
    "indices = triplets[:,:,1:2]\n",
    "print(indices)\n",
    "indices = indices + offsets\n",
    "print(indices)\n"
   ]
  },
  {
   "cell_type": "code",
   "execution_count": 42,
   "id": "2c022956",
   "metadata": {},
   "outputs": [
    {
     "data": {
      "text/plain": [
       "torch.Size([125, 4, 4, 4, 32])"
      ]
     },
     "execution_count": 42,
     "metadata": {},
     "output_type": "execute_result"
    }
   ],
   "source": [
    "import numpy as np\n",
    "batch_dim =3\n",
    "batch_size = 5\n",
    "params = torch.randn(batch_size, batch_size, batch_size, 4, 4, 4, 32)\n",
    "indices = torch.randint(4, (batch_size, batch_size, batch_size, 12, 3))\n",
    "\n",
    "batch_dims = params.size()[:batch_dim]  # [b1, ..., bn]\n",
    "batch_size = np.cumprod(list(batch_dims))[-1]  # b1 * ... * bn\n",
    "c_dim = params.size()[-1]  # c\n",
    "grid_dims = params.size()[batch_dim:-1]  # [g1, ..., gm]\n",
    "n_indices = indices.size(-2)  # x\n",
    "n_pos = indices.size(-1)  # m\n",
    "\n",
    "# reshape leadning batch dims to a single batch dim\n",
    "params = params.reshape(batch_size, *grid_dims, c_dim)\n",
    "indices = indices.reshape(batch_size, n_indices, n_pos)\n",
    "\n",
    "batch_enumeration = torch.arange(batch_size).unsqueeze(1)\n",
    "gather_dims = [indices[:, :, i] for i in range(len(grid_dims))]\n",
    "gather_dims.insert(0, batch_enumeration)\n",
    "\n",
    "\n"
   ]
  },
  {
   "cell_type": "code",
   "execution_count": 64,
   "id": "df68693e",
   "metadata": {},
   "outputs": [
    {
     "name": "stdout",
     "output_type": "stream",
     "text": [
      "tensor([[[0.6688, 0.5033],\n",
      "         [0.9680, 0.8551],\n",
      "         [0.5141, 0.1596],\n",
      "         [0.1239, 0.5980],\n",
      "         [0.9618, 0.2434]],\n",
      "\n",
      "        [[0.4828, 0.1921],\n",
      "         [0.5933, 0.6344],\n",
      "         [0.5788, 0.8869],\n",
      "         [0.3521, 0.6423],\n",
      "         [0.8749, 0.6521]]])\n"
     ]
    },
    {
     "data": {
      "text/plain": [
       "(tensor([[[[0.6688, 0.5033],\n",
       "           [0.9680, 0.8551],\n",
       "           [0.5141, 0.1596]],\n",
       " \n",
       "          [[0.9680, 0.8551],\n",
       "           [0.5141, 0.1596],\n",
       "           [0.1239, 0.5980]]],\n",
       " \n",
       " \n",
       "         [[[0.5788, 0.8869],\n",
       "           [0.3521, 0.6423],\n",
       "           [0.8749, 0.6521]],\n",
       " \n",
       "          [[0.5788, 0.8869],\n",
       "           [0.3521, 0.6423],\n",
       "           [0.8749, 0.6521]]]]),\n",
       " torch.Size([2, 2, 3, 2]))"
      ]
     },
     "execution_count": 64,
     "metadata": {},
     "output_type": "execute_result"
    }
   ],
   "source": [
    "params = torch.rand(2, 5, 2)\n",
    "print(params)\n",
    "batch_dim = torch.arange(2).unsqueeze(1).unsqueeze(1)\n",
    "dim2 = torch.tensor([ [[0,1,2], [1,2,3]], [[2,3,4], [2,3,4]] ])\n",
    "dims = [batch_dim, dim2]\n",
    "params[dims], params[dims].shape"
   ]
  },
  {
   "cell_type": "code",
   "execution_count": 77,
   "id": "fdf6a756",
   "metadata": {},
   "outputs": [
    {
     "data": {
      "text/plain": [
       "torch.Size([5, 5, 1, 1, 1])"
      ]
     },
     "execution_count": 77,
     "metadata": {},
     "output_type": "execute_result"
    }
   ],
   "source": [
    "sz1 = torch.Size([5 for _ in range(2)])\n",
    "sz2 = torch.Size([1 for _ in range(2)])\n",
    "x = torch.rand(25,1)\n",
    "x.reshape(*sz1, *sz2, 1).shape"
   ]
  },
  {
   "cell_type": "code",
   "execution_count": 3,
   "id": "48d5df04",
   "metadata": {},
   "outputs": [],
   "source": [
    "import torch\n",
    "from neighborhoods import gather_nd_torch_ex"
   ]
  },
  {
   "cell_type": "code",
   "execution_count": 5,
   "id": "ad23c5fe",
   "metadata": {},
   "outputs": [
    {
     "data": {
      "text/plain": [
       "torch.Size([2, 6, 3, 3])"
      ]
     },
     "execution_count": 5,
     "metadata": {},
     "output_type": "execute_result"
    }
   ],
   "source": [
    "params = torch.rand(2,4,4,3)\n",
    "indices = torch.randint(4,(2,6,3,2))\n",
    "out = gather_nd_torch_ex(params,indices,1)\n",
    "out.shape"
   ]
  },
  {
   "cell_type": "code",
   "execution_count": 14,
   "id": "01f4187b",
   "metadata": {},
   "outputs": [
    {
     "data": {
      "text/plain": [
       "torch.Size([4, 2, 2, 3])"
      ]
     },
     "execution_count": 14,
     "metadata": {},
     "output_type": "execute_result"
    }
   ],
   "source": [
    "x = torch.tensor([[1,0,0], [1,0,0]]) # (2,3)\n",
    "x = x.expand(4,2,3)\n",
    "y = torch.tensor([[0,-1,0], [1,0,0], [0,0,1]]) # (3,3)\n",
    "y = y.expand(2,3,3)\n",
    "\n",
    "torch.tensordot(x,y, ([-1], [-1])).shape"
   ]
  },
  {
   "cell_type": "code",
   "execution_count": 8,
   "id": "119b356b",
   "metadata": {},
   "outputs": [
    {
     "data": {
      "text/html": [
       "<div>\n",
       "<style scoped>\n",
       "    .dataframe tbody tr th:only-of-type {\n",
       "        vertical-align: middle;\n",
       "    }\n",
       "\n",
       "    .dataframe tbody tr th {\n",
       "        vertical-align: top;\n",
       "    }\n",
       "\n",
       "    .dataframe thead th {\n",
       "        text-align: right;\n",
       "    }\n",
       "</style>\n",
       "<table border=\"1\" class=\"dataframe\">\n",
       "  <thead>\n",
       "    <tr style=\"text-align: right;\">\n",
       "      <th></th>\n",
       "      <th>dataset_id</th>\n",
       "      <th>UniProt</th>\n",
       "      <th>protein_sequence</th>\n",
       "      <th>nucleotide_sequence</th>\n",
       "      <th>protein_mutation</th>\n",
       "      <th>nucleic_acid_type</th>\n",
       "      <th>Kd</th>\n",
       "      <th>dG</th>\n",
       "      <th>pH</th>\n",
       "      <th>Tm</th>\n",
       "      <th>...</th>\n",
       "      <th>max_min</th>\n",
       "      <th>max_min_judge</th>\n",
       "      <th>dG_ori</th>\n",
       "      <th>pdb_id</th>\n",
       "      <th>len_p1</th>\n",
       "      <th>len_p2</th>\n",
       "      <th>protein_chain</th>\n",
       "      <th>na_chain</th>\n",
       "      <th>identity_protein_seq</th>\n",
       "      <th>identity_na_seq</th>\n",
       "    </tr>\n",
       "  </thead>\n",
       "  <tbody>\n",
       "    <tr>\n",
       "      <th>0</th>\n",
       "      <td>pnat_2082</td>\n",
       "      <td>P06766</td>\n",
       "      <td>MSKRKAPQETLNGGITDMLVELANFEKNVSQAIHKYNAYRKAASVI...</td>\n",
       "      <td>GCCTCGCAGCCGTCCAACCAACATC|GATGTTGGTTGGACGGCTGC...</td>\n",
       "      <td>Y271S</td>\n",
       "      <td>dsDNA</td>\n",
       "      <td>0.2</td>\n",
       "      <td>-0.98</td>\n",
       "      <td>7.7</td>\n",
       "      <td>310.0</td>\n",
       "      <td>...</td>\n",
       "      <td>1.41</td>\n",
       "      <td>bigger_1</td>\n",
       "      <td>-0.99</td>\n",
       "      <td>NONE</td>\n",
       "      <td>NONE</td>\n",
       "      <td>NONE</td>\n",
       "      <td>NONE</td>\n",
       "      <td>NONE</td>\n",
       "      <td>NONE</td>\n",
       "      <td>NONE</td>\n",
       "    </tr>\n",
       "    <tr>\n",
       "      <th>1</th>\n",
       "      <td>pnat_8413</td>\n",
       "      <td>P06766</td>\n",
       "      <td>MSKRKAPQETLNGGITDMLVELANFEKNVSQAIHKYNAYRKAASVI...</td>\n",
       "      <td>GCCTCGCAGCCGTCCAACCAACTCA|TGAGTTGGTTGGACGGCTGC...</td>\n",
       "      <td>Y271S</td>\n",
       "      <td>dsDNA</td>\n",
       "      <td>0.041</td>\n",
       "      <td>-0.99</td>\n",
       "      <td>7.7</td>\n",
       "      <td>310.0</td>\n",
       "      <td>...</td>\n",
       "      <td>1.96</td>\n",
       "      <td>bigger_1</td>\n",
       "      <td>-1.97</td>\n",
       "      <td>NONE</td>\n",
       "      <td>NONE</td>\n",
       "      <td>NONE</td>\n",
       "      <td>NONE</td>\n",
       "      <td>NONE</td>\n",
       "      <td>NONE</td>\n",
       "      <td>NONE</td>\n",
       "    </tr>\n",
       "    <tr>\n",
       "      <th>2</th>\n",
       "      <td>pronab_6471</td>\n",
       "      <td>P06766</td>\n",
       "      <td>MSKRKAPQETLNGGITDMLVELANFEKNVSQAIHKYNAYRKAASVI...</td>\n",
       "      <td>GCCTCGCAGCCGTCCAACCAACATC|GGACGGCATTGGATCGACCA...</td>\n",
       "      <td>Y271A</td>\n",
       "      <td>DNA</td>\n",
       "      <td>0.314</td>\n",
       "      <td>-0.71</td>\n",
       "      <td>7.7</td>\n",
       "      <td>310.0</td>\n",
       "      <td>...</td>\n",
       "      <td>0.00</td>\n",
       "      <td>good</td>\n",
       "      <td>-0.71</td>\n",
       "      <td>NONE</td>\n",
       "      <td>NONE</td>\n",
       "      <td>NONE</td>\n",
       "      <td>NONE</td>\n",
       "      <td>NONE</td>\n",
       "      <td>NONE</td>\n",
       "      <td>NONE</td>\n",
       "    </tr>\n",
       "    <tr>\n",
       "      <th>3</th>\n",
       "      <td>pnat_9619</td>\n",
       "      <td>P06766</td>\n",
       "      <td>MSKRKAPQETLNGGITDMLVELANFEKNVSQAIHKYNAYRKAASVI...</td>\n",
       "      <td>GCCTCGCAGCCGTCCAACCAACATC|GATGTTGGTTGGACGGCTGC...</td>\n",
       "      <td>N279A</td>\n",
       "      <td>dsDNA</td>\n",
       "      <td>0.2</td>\n",
       "      <td>-0.98</td>\n",
       "      <td>7.7</td>\n",
       "      <td>310.0</td>\n",
       "      <td>...</td>\n",
       "      <td>1.41</td>\n",
       "      <td>bigger_1</td>\n",
       "      <td>-0.99</td>\n",
       "      <td>NONE</td>\n",
       "      <td>NONE</td>\n",
       "      <td>NONE</td>\n",
       "      <td>NONE</td>\n",
       "      <td>NONE</td>\n",
       "      <td>NONE</td>\n",
       "      <td>NONE</td>\n",
       "    </tr>\n",
       "    <tr>\n",
       "      <th>4</th>\n",
       "      <td>pnat_12423</td>\n",
       "      <td>P06766</td>\n",
       "      <td>MSKRKAPQETLNGGITDMLVELANFEKNVSQAIHKYNAYRKAASVI...</td>\n",
       "      <td>GCCTCGCAGCCGTCCAACCAACTCA|TGAGTTGGTTGGACGGCTGC...</td>\n",
       "      <td>Y271A</td>\n",
       "      <td>dsDNA</td>\n",
       "      <td>0.98</td>\n",
       "      <td>-0.99</td>\n",
       "      <td>7.7</td>\n",
       "      <td>310.0</td>\n",
       "      <td>...</td>\n",
       "      <td>1.96</td>\n",
       "      <td>bigger_1</td>\n",
       "      <td>-0.01</td>\n",
       "      <td>NONE</td>\n",
       "      <td>NONE</td>\n",
       "      <td>NONE</td>\n",
       "      <td>NONE</td>\n",
       "      <td>NONE</td>\n",
       "      <td>NONE</td>\n",
       "      <td>NONE</td>\n",
       "    </tr>\n",
       "    <tr>\n",
       "      <th>5</th>\n",
       "      <td>pnat_799</td>\n",
       "      <td>P36068</td>\n",
       "      <td>MSKDKDIKVTPGTCELVEQILALLSRYLSSYIHVLNKFISHLRRVA...</td>\n",
       "      <td>GAUAACUGAAUCGAAAGACAUUAUCACG</td>\n",
       "      <td>wild</td>\n",
       "      <td>RNA</td>\n",
       "      <td>0.26</td>\n",
       "      <td>-0.80</td>\n",
       "      <td>NONE</td>\n",
       "      <td>NONE</td>\n",
       "      <td>...</td>\n",
       "      <td>0.00</td>\n",
       "      <td>good</td>\n",
       "      <td>-0.80</td>\n",
       "      <td>5m0i</td>\n",
       "      <td>D:235,C:240,B:238,A:225,H:8,J:7,I:7</td>\n",
       "      <td>E:28,F:28</td>\n",
       "      <td>A_1.B_1.C_1.D_1.H_1.I_1.J_1</td>\n",
       "      <td>E_1.F_1</td>\n",
       "      <td>0.03</td>\n",
       "      <td>0.5</td>\n",
       "    </tr>\n",
       "    <tr>\n",
       "      <th>6</th>\n",
       "      <td>pronab_6481</td>\n",
       "      <td>P06766</td>\n",
       "      <td>MSKRKAPQETLNGGITDMLVELANFEKNVSQAIHKYNAYRKAASVI...</td>\n",
       "      <td>GCCTCGCAGCCGTCCAACCAACATC|GGACGGCATTGGATCGACCA...</td>\n",
       "      <td>wild</td>\n",
       "      <td>DNA</td>\n",
       "      <td>0.2</td>\n",
       "      <td>-0.99</td>\n",
       "      <td>7.7</td>\n",
       "      <td>310.0</td>\n",
       "      <td>...</td>\n",
       "      <td>0.00</td>\n",
       "      <td>good</td>\n",
       "      <td>-0.99</td>\n",
       "      <td>NONE</td>\n",
       "      <td>NONE</td>\n",
       "      <td>NONE</td>\n",
       "      <td>NONE</td>\n",
       "      <td>NONE</td>\n",
       "      <td>NONE</td>\n",
       "      <td>NONE</td>\n",
       "    </tr>\n",
       "    <tr>\n",
       "      <th>7</th>\n",
       "      <td>pronab_6683</td>\n",
       "      <td>P06766</td>\n",
       "      <td>MSKRKAPQETLNGGITDMLVELANFEKNVSQAIHKYNAYRKAASVI...</td>\n",
       "      <td>GCCTCGCAGCCGTCCAACCAACTCA|GGACGGCATTGGATCGAGGA...</td>\n",
       "      <td>Y271S</td>\n",
       "      <td>DNA</td>\n",
       "      <td>0.023</td>\n",
       "      <td>-1.40</td>\n",
       "      <td>7.7</td>\n",
       "      <td>310.0</td>\n",
       "      <td>...</td>\n",
       "      <td>1.84</td>\n",
       "      <td>bigger_1</td>\n",
       "      <td>-2.32</td>\n",
       "      <td>NONE</td>\n",
       "      <td>NONE</td>\n",
       "      <td>NONE</td>\n",
       "      <td>NONE</td>\n",
       "      <td>NONE</td>\n",
       "      <td>NONE</td>\n",
       "      <td>NONE</td>\n",
       "    </tr>\n",
       "    <tr>\n",
       "      <th>8</th>\n",
       "      <td>pnat_12656</td>\n",
       "      <td>P18146</td>\n",
       "      <td>MAAAKAEMQLMSPLQISDPFGSFPHSPTMDNYPKLEEMMLLSNGAP...</td>\n",
       "      <td>GTGTGGGCT|AGCCCACAC</td>\n",
       "      <td>wild</td>\n",
       "      <td>dsDNA</td>\n",
       "      <td>NONE</td>\n",
       "      <td>-0.06</td>\n",
       "      <td>7.5</td>\n",
       "      <td>293.0</td>\n",
       "      <td>...</td>\n",
       "      <td>0.00</td>\n",
       "      <td>good</td>\n",
       "      <td>-0.06</td>\n",
       "      <td>4r2a</td>\n",
       "      <td>A:86</td>\n",
       "      <td>B:10,C:10</td>\n",
       "      <td>A_1</td>\n",
       "      <td>B_1.C_1</td>\n",
       "      <td>0.14</td>\n",
       "      <td>0.37</td>\n",
       "    </tr>\n",
       "    <tr>\n",
       "      <th>9</th>\n",
       "      <td>pnat_3681</td>\n",
       "      <td>P06766</td>\n",
       "      <td>MSKRKAPQETLNGGITDMLVELANFEKNVSQAIHKYNAYRKAASVI...</td>\n",
       "      <td>GCCTCGCAGCCGTCCAACCAACTCA|TGAGTTGGTTGGACGGCTGC...</td>\n",
       "      <td>Y271F</td>\n",
       "      <td>dsDNA</td>\n",
       "      <td>0.98</td>\n",
       "      <td>-0.99</td>\n",
       "      <td>7.7</td>\n",
       "      <td>310.0</td>\n",
       "      <td>...</td>\n",
       "      <td>1.96</td>\n",
       "      <td>bigger_1</td>\n",
       "      <td>-0.01</td>\n",
       "      <td>NONE</td>\n",
       "      <td>NONE</td>\n",
       "      <td>NONE</td>\n",
       "      <td>NONE</td>\n",
       "      <td>NONE</td>\n",
       "      <td>NONE</td>\n",
       "      <td>NONE</td>\n",
       "    </tr>\n",
       "  </tbody>\n",
       "</table>\n",
       "<p>10 rows × 25 columns</p>\n",
       "</div>"
      ],
      "text/plain": [
       "    dataset_id UniProt                                   protein_sequence  \\\n",
       "0    pnat_2082  P06766  MSKRKAPQETLNGGITDMLVELANFEKNVSQAIHKYNAYRKAASVI...   \n",
       "1    pnat_8413  P06766  MSKRKAPQETLNGGITDMLVELANFEKNVSQAIHKYNAYRKAASVI...   \n",
       "2  pronab_6471  P06766  MSKRKAPQETLNGGITDMLVELANFEKNVSQAIHKYNAYRKAASVI...   \n",
       "3    pnat_9619  P06766  MSKRKAPQETLNGGITDMLVELANFEKNVSQAIHKYNAYRKAASVI...   \n",
       "4   pnat_12423  P06766  MSKRKAPQETLNGGITDMLVELANFEKNVSQAIHKYNAYRKAASVI...   \n",
       "5     pnat_799  P36068  MSKDKDIKVTPGTCELVEQILALLSRYLSSYIHVLNKFISHLRRVA...   \n",
       "6  pronab_6481  P06766  MSKRKAPQETLNGGITDMLVELANFEKNVSQAIHKYNAYRKAASVI...   \n",
       "7  pronab_6683  P06766  MSKRKAPQETLNGGITDMLVELANFEKNVSQAIHKYNAYRKAASVI...   \n",
       "8   pnat_12656  P18146  MAAAKAEMQLMSPLQISDPFGSFPHSPTMDNYPKLEEMMLLSNGAP...   \n",
       "9    pnat_3681  P06766  MSKRKAPQETLNGGITDMLVELANFEKNVSQAIHKYNAYRKAASVI...   \n",
       "\n",
       "                                 nucleotide_sequence protein_mutation  \\\n",
       "0  GCCTCGCAGCCGTCCAACCAACATC|GATGTTGGTTGGACGGCTGC...            Y271S   \n",
       "1  GCCTCGCAGCCGTCCAACCAACTCA|TGAGTTGGTTGGACGGCTGC...            Y271S   \n",
       "2  GCCTCGCAGCCGTCCAACCAACATC|GGACGGCATTGGATCGACCA...            Y271A   \n",
       "3  GCCTCGCAGCCGTCCAACCAACATC|GATGTTGGTTGGACGGCTGC...            N279A   \n",
       "4  GCCTCGCAGCCGTCCAACCAACTCA|TGAGTTGGTTGGACGGCTGC...            Y271A   \n",
       "5                       GAUAACUGAAUCGAAAGACAUUAUCACG             wild   \n",
       "6  GCCTCGCAGCCGTCCAACCAACATC|GGACGGCATTGGATCGACCA...             wild   \n",
       "7  GCCTCGCAGCCGTCCAACCAACTCA|GGACGGCATTGGATCGAGGA...            Y271S   \n",
       "8                                GTGTGGGCT|AGCCCACAC             wild   \n",
       "9  GCCTCGCAGCCGTCCAACCAACTCA|TGAGTTGGTTGGACGGCTGC...            Y271F   \n",
       "\n",
       "  nucleic_acid_type     Kd    dG    pH     Tm  ... max_min max_min_judge  \\\n",
       "0             dsDNA    0.2 -0.98   7.7  310.0  ...    1.41      bigger_1   \n",
       "1             dsDNA  0.041 -0.99   7.7  310.0  ...    1.96      bigger_1   \n",
       "2               DNA  0.314 -0.71   7.7  310.0  ...    0.00          good   \n",
       "3             dsDNA    0.2 -0.98   7.7  310.0  ...    1.41      bigger_1   \n",
       "4             dsDNA   0.98 -0.99   7.7  310.0  ...    1.96      bigger_1   \n",
       "5               RNA   0.26 -0.80  NONE   NONE  ...    0.00          good   \n",
       "6               DNA    0.2 -0.99   7.7  310.0  ...    0.00          good   \n",
       "7               DNA  0.023 -1.40   7.7  310.0  ...    1.84      bigger_1   \n",
       "8             dsDNA   NONE -0.06   7.5  293.0  ...    0.00          good   \n",
       "9             dsDNA   0.98 -0.99   7.7  310.0  ...    1.96      bigger_1   \n",
       "\n",
       "  dG_ori pdb_id                               len_p1     len_p2  \\\n",
       "0  -0.99   NONE                                 NONE       NONE   \n",
       "1  -1.97   NONE                                 NONE       NONE   \n",
       "2  -0.71   NONE                                 NONE       NONE   \n",
       "3  -0.99   NONE                                 NONE       NONE   \n",
       "4  -0.01   NONE                                 NONE       NONE   \n",
       "5  -0.80   5m0i  D:235,C:240,B:238,A:225,H:8,J:7,I:7  E:28,F:28   \n",
       "6  -0.99   NONE                                 NONE       NONE   \n",
       "7  -2.32   NONE                                 NONE       NONE   \n",
       "8  -0.06   4r2a                                 A:86  B:10,C:10   \n",
       "9  -0.01   NONE                                 NONE       NONE   \n",
       "\n",
       "                 protein_chain  na_chain identity_protein_seq identity_na_seq  \n",
       "0                         NONE      NONE                 NONE            NONE  \n",
       "1                         NONE      NONE                 NONE            NONE  \n",
       "2                         NONE      NONE                 NONE            NONE  \n",
       "3                         NONE      NONE                 NONE            NONE  \n",
       "4                         NONE      NONE                 NONE            NONE  \n",
       "5  A_1.B_1.C_1.D_1.H_1.I_1.J_1   E_1.F_1                 0.03             0.5  \n",
       "6                         NONE      NONE                 NONE            NONE  \n",
       "7                         NONE      NONE                 NONE            NONE  \n",
       "8                          A_1   B_1.C_1                 0.14            0.37  \n",
       "9                         NONE      NONE                 NONE            NONE  \n",
       "\n",
       "[10 rows x 25 columns]"
      ]
     },
     "execution_count": 8,
     "metadata": {},
     "output_type": "execute_result"
    }
   ],
   "source": [
    "import pandas as pd\n",
    "df = pd.read_csv('data/test/test.csv',sep='\\t')\n",
    "df.head(10)"
   ]
  },
  {
   "cell_type": "code",
   "execution_count": 1,
   "id": "8b5769c6",
   "metadata": {},
   "outputs": [],
   "source": [
    "from preprocessing.protein_chemistry import list_aa, \\\n",
    "  aa_to_index, dictionary_covalent_bonds, list_atoms, atom_type_mass, \\\n",
    "  nucleotide_to_index"
   ]
  },
  {
   "cell_type": "code",
   "execution_count": 3,
   "id": "bf0a960c",
   "metadata": {},
   "outputs": [
    {
     "data": {
      "text/plain": [
       "(15, [6, 7, 9, 10, 12, 5, 11, 9, 10, 9, 9, 9, 8, 10, 12, 7, 8, 8, 15, 13])"
      ]
     },
     "execution_count": 3,
     "metadata": {},
     "output_type": "execute_result"
    }
   ],
   "source": [
    "max_len = 0\n",
    "lengths = []\n",
    "for k, v in dictionary_covalent_bonds.items():\n",
    "    lengths.append(len(v.keys()))\n",
    "max(lengths), lengths"
   ]
  },
  {
   "cell_type": "code",
   "execution_count": 26,
   "id": "2c23e6f0",
   "metadata": {},
   "outputs": [],
   "source": [
    "import torch\n",
    "import numpy as np\n",
    "import torch.nn as nn\n",
    "from modeling.lib import MLP, GlobalGraph"
   ]
  },
  {
   "cell_type": "code",
   "execution_count": 8,
   "id": "a978beef",
   "metadata": {},
   "outputs": [
    {
     "name": "stdout",
     "output_type": "stream",
     "text": [
      "[4, 3, 2, 4, 3]\n",
      "tensor([[[0.0998],\n",
      "         [0.4803],\n",
      "         [0.1310],\n",
      "         [0.4313]],\n",
      "\n",
      "        [[0.8018],\n",
      "         [0.8982],\n",
      "         [0.5441],\n",
      "         [0.0000]],\n",
      "\n",
      "        [[0.4427],\n",
      "         [0.5312],\n",
      "         [0.0000],\n",
      "         [0.0000]],\n",
      "\n",
      "        [[0.4554],\n",
      "         [0.0222],\n",
      "         [0.0872],\n",
      "         [0.4144]],\n",
      "\n",
      "        [[0.5823],\n",
      "         [0.5139],\n",
      "         [0.8875],\n",
      "         [0.0000]]])\n"
     ]
    }
   ],
   "source": [
    "realxs = []\n",
    "lengths = []\n",
    "for i in range(5):\n",
    "    n = int(np.random.randint(1,5,1))\n",
    "    lengths.append(n)\n",
    "    realxs.append(torch.rand(n, 1))\n",
    "print(lengths)\n",
    "xs = torch.zeros([5, max(lengths), 1])\n",
    "for i in range(5):\n",
    "    xs[i, :lengths[i]] = realxs[i]\n",
    "print(xs)"
   ]
  },
  {
   "cell_type": "code",
   "execution_count": 33,
   "id": "b1f4401b",
   "metadata": {},
   "outputs": [
    {
     "name": "stdout",
     "output_type": "stream",
     "text": [
      "torch.Size([5, 4, 4]) tensor([[[ 0.0707, -0.0846,  0.0357, -0.0533],\n",
      "         [ 0.3401, -0.4074,  0.1717, -0.2565],\n",
      "         [ 0.0928, -0.1111,  0.0468, -0.0700],\n",
      "         [ 0.3054, -0.3659,  0.1542, -0.2304]],\n",
      "\n",
      "        [[ 0.5677, -0.6802,  0.2867, -0.4283],\n",
      "         [ 0.6360, -0.7620,  0.3211, -0.4798],\n",
      "         [ 0.3852, -0.4615,  0.1945, -0.2906],\n",
      "         [ 0.0000, -0.0000,  0.0000, -0.0000]],\n",
      "\n",
      "        [[ 0.3135, -0.3756,  0.1583, -0.2365],\n",
      "         [ 0.3761, -0.4506,  0.1899, -0.2837],\n",
      "         [ 0.0000, -0.0000,  0.0000, -0.0000],\n",
      "         [ 0.0000, -0.0000,  0.0000, -0.0000]],\n",
      "\n",
      "        [[ 0.3225, -0.3863,  0.1628, -0.2433],\n",
      "         [ 0.0157, -0.0189,  0.0080, -0.0119],\n",
      "         [ 0.0617, -0.0740,  0.0312, -0.0466],\n",
      "         [ 0.2934, -0.3515,  0.1481, -0.2213]],\n",
      "\n",
      "        [[ 0.4123, -0.4940,  0.2082, -0.3110],\n",
      "         [ 0.3639, -0.4359,  0.1837, -0.2745],\n",
      "         [ 0.6284, -0.7529,  0.3173, -0.4740],\n",
      "         [ 0.0000, -0.0000,  0.0000, -0.0000]]], grad_fn=<UnsafeViewBackward>)\n"
     ]
    }
   ],
   "source": [
    "fc = nn.Linear(1, 4, bias=False)\n",
    "ys = fc(xs)\n",
    "print(ys.shape, ys)"
   ]
  },
  {
   "cell_type": "code",
   "execution_count": 31,
   "id": "43e68397",
   "metadata": {},
   "outputs": [],
   "source": [
    "gg = GlobalGraph(4, num_attention_heads=2)\n",
    "attention_mask = torch.zeros([5, 4, 4])\n",
    "for i in range(5):\n",
    "    assert lengths[i] > 0\n",
    "    attention_mask[i, :lengths[i], :lengths[i]].fill_(1)"
   ]
  },
  {
   "cell_type": "code",
   "execution_count": 35,
   "id": "6ce239c3",
   "metadata": {},
   "outputs": [
    {
     "data": {
      "text/plain": [
       "tensor([[[ 0.2705,  0.3876, -0.2330, -0.0214],\n",
       "         [ 0.2707,  0.3877, -0.2325, -0.0220],\n",
       "         [ 0.2705,  0.3876, -0.2329, -0.0215],\n",
       "         [ 0.2707,  0.3877, -0.2325, -0.0219]],\n",
       "\n",
       "        [[ 0.4991,  0.4248, -0.0778, -0.2200],\n",
       "         [ 0.4991,  0.4248, -0.0777, -0.2201],\n",
       "         [ 0.4989,  0.4248, -0.0781, -0.2197],\n",
       "         [ 0.3979,  0.4083, -0.1342, -0.1478]],\n",
       "\n",
       "        [[ 0.3719,  0.4041, -0.1675, -0.1051],\n",
       "         [ 0.3719,  0.4041, -0.1675, -0.1052],\n",
       "         [ 0.2470,  0.3838, -0.2449, -0.0061],\n",
       "         [ 0.2470,  0.3838, -0.2449, -0.0061]],\n",
       "\n",
       "        [[ 0.2501,  0.3843, -0.2455, -0.0054],\n",
       "         [ 0.2497,  0.3842, -0.2462, -0.0045],\n",
       "         [ 0.2498,  0.3843, -0.2461, -0.0046],\n",
       "         [ 0.2500,  0.3843, -0.2455, -0.0053]],\n",
       "\n",
       "        [[ 0.4559,  0.4178, -0.1067, -0.1831],\n",
       "         [ 0.4559,  0.4178, -0.1067, -0.1830],\n",
       "         [ 0.4561,  0.4178, -0.1063, -0.1836],\n",
       "         [ 0.3676,  0.4034, -0.1574, -0.1182]]], grad_fn=<ViewBackward>)"
      ]
     },
     "execution_count": 35,
     "metadata": {},
     "output_type": "execute_result"
    }
   ],
   "source": [
    "out = gg(ys, attention_mask)\n",
    "out"
   ]
  },
  {
   "cell_type": "code",
   "execution_count": 13,
   "id": "aa8bd2d1",
   "metadata": {},
   "outputs": [
    {
     "name": "stdout",
     "output_type": "stream",
     "text": [
      "tensor([[[1., 1., 1., 1., 0., 0., 0., 0.],\n",
      "         [1., 1., 1., 1., 0., 0., 0., 0.],\n",
      "         [1., 1., 1., 1., 0., 0., 0., 0.],\n",
      "         [1., 1., 1., 1., 0., 0., 0., 0.],\n",
      "         [0., 0., 0., 0., 0., 0., 0., 0.],\n",
      "         [0., 0., 0., 0., 0., 0., 0., 0.],\n",
      "         [0., 0., 0., 0., 0., 0., 0., 0.],\n",
      "         [0., 0., 0., 0., 0., 0., 0., 0.]]])\n"
     ]
    }
   ],
   "source": [
    "att = torch.zeros(1, 8, 8)\n",
    "# att[0][:4][:4].fill_(1)\n",
    "att[0,:4,:4].fill_(1)\n",
    "# att[0][0][:4].fill_(1)\n",
    "# att[0][1][:4].fill_(1)\n",
    "print(att)"
   ]
  },
  {
   "cell_type": "code",
   "execution_count": 9,
   "id": "2bc2655b",
   "metadata": {},
   "outputs": [
    {
     "data": {
      "text/plain": [
       "torch.Size([2, 8])"
      ]
     },
     "execution_count": 9,
     "metadata": {},
     "output_type": "execute_result"
    }
   ],
   "source": [
    "att[0][:2].shape"
   ]
  }
 ],
 "metadata": {
  "kernelspec": {
   "display_name": "Python 3",
   "language": "python",
   "name": "python3"
  },
  "language_info": {
   "codemirror_mode": {
    "name": "ipython",
    "version": 3
   },
   "file_extension": ".py",
   "mimetype": "text/x-python",
   "name": "python",
   "nbconvert_exporter": "python",
   "pygments_lexer": "ipython3",
   "version": "3.8.16"
  }
 },
 "nbformat": 4,
 "nbformat_minor": 5
}
