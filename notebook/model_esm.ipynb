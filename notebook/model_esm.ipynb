{
 "cells": [
  {
   "cell_type": "code",
   "execution_count": 17,
   "id": "69835350",
   "metadata": {},
   "outputs": [],
   "source": [
    "import re\n",
    "import urllib\n",
    "import warnings\n",
    "from argparse import Namespace\n",
    "from pathlib import Path\n",
    "\n",
    "import torch"
   ]
  },
  {
   "cell_type": "code",
   "execution_count": 10,
   "id": "dda253df",
   "metadata": {},
   "outputs": [],
   "source": [
    "model_name = \"esm2_t6_8M_UR50D\"\n",
    "url = f\"https://dl.fbaipublicfiles.com/fair-esm/models/{model_name}.pt\"\n",
    "fn = Path(url).name\n",
    "model_data = torch.load(\n",
    "    f\"{torch.hub.get_dir()}/checkpoints/{fn}\",\n",
    "    map_location=\"cpu\",\n",
    ")"
   ]
  },
  {
   "cell_type": "code",
   "execution_count": 12,
   "id": "11d37606",
   "metadata": {},
   "outputs": [],
   "source": [
    "def upgrade_state_dict(state_dict):\n",
    "    \"\"\"Removes prefixes 'model.encoder.sentence_encoder.' and 'model.encoder.'.\"\"\"\n",
    "    prefixes = [\"encoder.sentence_encoder.\", \"encoder.\"]\n",
    "    pattern = re.compile(\"^\" + \"|\".join(prefixes))\n",
    "    state_dict = {pattern.sub(\"\", name): param for name, param in state_dict.items()}\n",
    "    return state_dict\n",
    "\n",
    "cfg = model_data[\"cfg\"][\"model\"]\n",
    "state_dict = model_data[\"model\"]\n",
    "state_dict = upgrade_state_dict(state_dict)\n",
    "\n",
    "PATH = \"../dataset/checkpoints/esm2_t6_8M_UR50D.pt\"\n",
    "# torch.save({\n",
    "#             'cfg_model': cfg,\n",
    "#             'model': state_dict,\n",
    "#             }, PATH)\n",
    "checkpoint = torch.load(PATH)\n",
    "for k, v in checkpoint['model'].items():\n",
    "    print(k, v.shape)"
   ]
  },
  {
   "cell_type": "code",
   "execution_count": 18,
   "id": "4c5c1c30",
   "metadata": {},
   "outputs": [
    {
     "ename": "ModuleNotFoundError",
     "evalue": "No module named 'modeling'",
     "output_type": "error",
     "traceback": [
      "\u001b[0;31m---------------------------------------------------------------------------\u001b[0m",
      "\u001b[0;31mModuleNotFoundError\u001b[0m                       Traceback (most recent call last)",
      "Cell \u001b[0;32mIn[18], line 1\u001b[0m\n\u001b[0;32m----> 1\u001b[0m \u001b[38;5;28;01mfrom\u001b[39;00m \u001b[38;5;21;01mmodeling\u001b[39;00m\u001b[38;5;21;01m.\u001b[39;00m\u001b[38;5;21;01mesm\u001b[39;00m\u001b[38;5;21;01m.\u001b[39;00m\u001b[38;5;21;01mdata\u001b[39;00m \u001b[38;5;28;01mimport\u001b[39;00m Alphabet\n\u001b[1;32m      2\u001b[0m \u001b[38;5;28;01mfrom\u001b[39;00m \u001b[38;5;21;01mmodeling\u001b[39;00m\u001b[38;5;21;01m.\u001b[39;00m\u001b[38;5;21;01mesm\u001b[39;00m\u001b[38;5;21;01m.\u001b[39;00m\u001b[38;5;21;01mesm2\u001b[39;00m \u001b[38;5;28;01mimport\u001b[39;00m ESM2\n",
      "\u001b[0;31mModuleNotFoundError\u001b[0m: No module named 'modeling'"
     ]
    }
   ],
   "source": [
    "from modeling.esm.data import Alphabet\n",
    "from modeling.esm.esm2 import ESM2"
   ]
  },
  {
   "cell_type": "code",
   "execution_count": null,
   "id": "2328bea3",
   "metadata": {},
   "outputs": [],
   "source": [
    "# import esm\n",
    "# from esm.model.esm2 import ESM2\n",
    "from modeling.esm.esm2 import ESM2\n",
    "\n",
    "alphabet = esm.data.Alphabet.from_architecture(\"ESM-1b\")\n",
    "\n",
    "model = ESM2(\n",
    "    num_layers=cfg.encoder_layers, # 6\n",
    "    embed_dim=cfg.encoder_embed_dim, # 320\n",
    "    attention_heads=cfg.encoder_attention_heads, # 20\n",
    "    alphabet=alphabet,\n",
    "    token_dropout=cfg.token_dropout, # True\n",
    ")"
   ]
  }
 ],
 "metadata": {
  "kernelspec": {
   "display_name": "Python 3",
   "language": "python",
   "name": "python3"
  },
  "language_info": {
   "codemirror_mode": {
    "name": "ipython",
    "version": 3
   },
   "file_extension": ".py",
   "mimetype": "text/x-python",
   "name": "python",
   "nbconvert_exporter": "python",
   "pygments_lexer": "ipython3",
   "version": "3.8.16"
  }
 },
 "nbformat": 4,
 "nbformat_minor": 5
}
