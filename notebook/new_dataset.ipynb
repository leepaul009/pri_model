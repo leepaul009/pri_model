{
 "cells": [
  {
   "cell_type": "code",
   "execution_count": 1,
   "id": "ed5221ea",
   "metadata": {},
   "outputs": [],
   "source": [
    "import numpy as np\n",
    "import pandas as pd\n",
    "import os\n",
    "import matplotlib.pyplot as plt\n",
    "import numpy as np\n",
    "from tqdm import tqdm"
   ]
  },
  {
   "cell_type": "code",
   "execution_count": 2,
   "id": "131e676f",
   "metadata": {},
   "outputs": [
    {
     "name": "stdout",
     "output_type": "stream",
     "text": [
      "1154\n",
      "2240\n"
     ]
    },
    {
     "data": {
      "text/html": [
       "<div>\n",
       "<style scoped>\n",
       "    .dataframe tbody tr th:only-of-type {\n",
       "        vertical-align: middle;\n",
       "    }\n",
       "\n",
       "    .dataframe tbody tr th {\n",
       "        vertical-align: top;\n",
       "    }\n",
       "\n",
       "    .dataframe thead th {\n",
       "        text-align: right;\n",
       "    }\n",
       "</style>\n",
       "<table border=\"1\" class=\"dataframe\">\n",
       "  <thead>\n",
       "    <tr style=\"text-align: right;\">\n",
       "      <th></th>\n",
       "      <th>Motif_ID</th>\n",
       "      <th>Family_Name</th>\n",
       "      <th>protein_sequence</th>\n",
       "      <th>probe_intensity_file</th>\n",
       "    </tr>\n",
       "  </thead>\n",
       "  <tbody>\n",
       "    <tr>\n",
       "      <th>0</th>\n",
       "      <td>M02500_2.00</td>\n",
       "      <td>TCP</td>\n",
       "      <td>TGRKDRHSKVCTAKGPRDRRVRLSAPTAIQFYDVQDRLGFDRPSKA...</td>\n",
       "      <td>M02500_2.00:Zoo_01:6104.txt</td>\n",
       "    </tr>\n",
       "    <tr>\n",
       "      <th>1</th>\n",
       "      <td>M02500_2.00</td>\n",
       "      <td>TCP</td>\n",
       "      <td>TGRKDRHSKVCTAKGPRDRRVRLSAPTAIQFYDVQDRLGFDRPSKA...</td>\n",
       "      <td>M02500_2.00:Zoo_01:6113.txt</td>\n",
       "    </tr>\n",
       "    <tr>\n",
       "      <th>2</th>\n",
       "      <td>M01812_2.00</td>\n",
       "      <td>bZIP</td>\n",
       "      <td>EKALKKIRRKIKNKISAQESRRKKKEYMDSLEKKVESCSTENLELR...</td>\n",
       "      <td>M01812_2.00:Zoo_01:1186.txt</td>\n",
       "    </tr>\n",
       "  </tbody>\n",
       "</table>\n",
       "</div>"
      ],
      "text/plain": [
       "      Motif_ID Family_Name                                   protein_sequence  \\\n",
       "0  M02500_2.00         TCP  TGRKDRHSKVCTAKGPRDRRVRLSAPTAIQFYDVQDRLGFDRPSKA...   \n",
       "1  M02500_2.00         TCP  TGRKDRHSKVCTAKGPRDRRVRLSAPTAIQFYDVQDRLGFDRPSKA...   \n",
       "2  M01812_2.00        bZIP  EKALKKIRRKIKNKISAQESRRKKKEYMDSLEKKVESCSTENLELR...   \n",
       "\n",
       "          probe_intensity_file  \n",
       "0  M02500_2.00:Zoo_01:6104.txt  \n",
       "1  M02500_2.00:Zoo_01:6113.txt  \n",
       "2  M01812_2.00:Zoo_01:1186.txt  "
      ]
     },
     "execution_count": 2,
     "metadata": {},
     "output_type": "execute_result"
    }
   ],
   "source": [
    "root_dir = '../dataset/dna_dataset'\n",
    "sub_dir = 'relative_dna_dnaseq_intensity'\n",
    "madf = pd.read_csv(os.path.join(root_dir, 'relative_dna_proteinseq.txt'), sep='\\t')\n",
    "\n",
    "unique_pseq = np.unique(madf['protein_sequence'].values)\n",
    "print(len(unique_pseq))\n",
    "print(len(madf))\n",
    "madf.head(3)"
   ]
  },
  {
   "cell_type": "code",
   "execution_count": 5,
   "id": "f096f64a",
   "metadata": {},
   "outputs": [
    {
     "data": {
      "text/plain": [
       "({'A',\n",
       "  'C',\n",
       "  'D',\n",
       "  'E',\n",
       "  'F',\n",
       "  'G',\n",
       "  'H',\n",
       "  'I',\n",
       "  'K',\n",
       "  'L',\n",
       "  'M',\n",
       "  'N',\n",
       "  'P',\n",
       "  'Q',\n",
       "  'R',\n",
       "  'S',\n",
       "  'T',\n",
       "  'V',\n",
       "  'W',\n",
       "  'Y'},\n",
       " 20)"
      ]
     },
     "execution_count": 5,
     "metadata": {},
     "output_type": "execute_result"
    }
   ],
   "source": [
    "sss = ''\n",
    "for x in madf['protein_sequence'].values:\n",
    "    sss += str(x)\n",
    "set(sss), len(set(sss))"
   ]
  },
  {
   "cell_type": "code",
   "execution_count": 23,
   "id": "f7ce639d",
   "metadata": {},
   "outputs": [
    {
     "name": "stdout",
     "output_type": "stream",
     "text": [
      "40330\n"
     ]
    },
    {
     "data": {
      "text/plain": [
       "('GCATGCGATAGACCGGCGGTCTCTGCGCAACCACC', '134.3836')"
      ]
     },
     "execution_count": 23,
     "metadata": {},
     "output_type": "execute_result"
    }
   ],
   "source": [
    "subf = os.path.join(root_dir, sub_dir, 'M02500_2.00:Zoo_01:6104.txt')\n",
    "# subdf = pd.read_csv(, sep='\\t')\n",
    "# subdf.columns\n",
    "# subdf\n",
    "f = open(subf, 'r')\n",
    "lines = f.readlines()\n",
    "print(len(lines))\n",
    "for line in lines:\n",
    "    # print(line.rstrip().split('\\t'))\n",
    "    tmp = line.rstrip().split('\\t')\n",
    "    seq, val = tmp[0], tmp[1]\n",
    "seq, val    "
   ]
  },
  {
   "cell_type": "code",
   "execution_count": 12,
   "id": "87c2d2a9",
   "metadata": {},
   "outputs": [
    {
     "data": {
      "text/html": [
       "<div>\n",
       "<style scoped>\n",
       "    .dataframe tbody tr th:only-of-type {\n",
       "        vertical-align: middle;\n",
       "    }\n",
       "\n",
       "    .dataframe tbody tr th {\n",
       "        vertical-align: top;\n",
       "    }\n",
       "\n",
       "    .dataframe thead th {\n",
       "        text-align: right;\n",
       "    }\n",
       "</style>\n",
       "<table border=\"1\" class=\"dataframe\">\n",
       "  <thead>\n",
       "    <tr style=\"text-align: right;\">\n",
       "      <th></th>\n",
       "      <th>ACCCCGCCGCAGCGGTGGTCCCCACAATGACACCT</th>\n",
       "      <th>31209.0625</th>\n",
       "    </tr>\n",
       "  </thead>\n",
       "  <tbody>\n",
       "    <tr>\n",
       "      <th>0</th>\n",
       "      <td>GCGACCATCTCTACAAGGTGGGCCCCACAAGATGT</td>\n",
       "      <td>26232.3984</td>\n",
       "    </tr>\n",
       "    <tr>\n",
       "      <th>1</th>\n",
       "      <td>GTAGGTGGTCCCAGCATGCATTCTTGTAGTCACGG</td>\n",
       "      <td>24828.0507</td>\n",
       "    </tr>\n",
       "    <tr>\n",
       "      <th>2</th>\n",
       "      <td>GAGACCCCGTGTGTACTAAATGGGGACCACATCAG</td>\n",
       "      <td>21840.3222</td>\n",
       "    </tr>\n",
       "    <tr>\n",
       "      <th>3</th>\n",
       "      <td>CGGGCCGGGACCACAGAACCGCCTAGTCTTTCCAT</td>\n",
       "      <td>21717.1406</td>\n",
       "    </tr>\n",
       "    <tr>\n",
       "      <th>4</th>\n",
       "      <td>AACCCCGTTATCAGAAGCACTCGGATCCCGTGTGC</td>\n",
       "      <td>20632.6992</td>\n",
       "    </tr>\n",
       "    <tr>\n",
       "      <th>...</th>\n",
       "      <td>...</td>\n",
       "      <td>...</td>\n",
       "    </tr>\n",
       "    <tr>\n",
       "      <th>40520</th>\n",
       "      <td>TGAAGCGCCTGGAGAAGCCCCGGCGATGCAGAGTG</td>\n",
       "      <td>99.9419</td>\n",
       "    </tr>\n",
       "    <tr>\n",
       "      <th>40521</th>\n",
       "      <td>AGGTCGACAATGAAGCTTGAGCAGAAGCAGCTCCC</td>\n",
       "      <td>96.9615</td>\n",
       "    </tr>\n",
       "    <tr>\n",
       "      <th>40522</th>\n",
       "      <td>TGGAGCGGCGCAATAAGGCACCGCCGTGCGTCACT</td>\n",
       "      <td>94.2133</td>\n",
       "    </tr>\n",
       "    <tr>\n",
       "      <th>40523</th>\n",
       "      <td>ACAGAGTGCAACGATGGAAGTACGGGCGTTTGCTC</td>\n",
       "      <td>94.0335</td>\n",
       "    </tr>\n",
       "    <tr>\n",
       "      <th>40524</th>\n",
       "      <td>AGTGTTACACGACTATACGAAGGGTTTTGACCGAT</td>\n",
       "      <td>91.2026</td>\n",
       "    </tr>\n",
       "  </tbody>\n",
       "</table>\n",
       "<p>40525 rows × 2 columns</p>\n",
       "</div>"
      ],
      "text/plain": [
       "       ACCCCGCCGCAGCGGTGGTCCCCACAATGACACCT  31209.0625\n",
       "0      GCGACCATCTCTACAAGGTGGGCCCCACAAGATGT  26232.3984\n",
       "1      GTAGGTGGTCCCAGCATGCATTCTTGTAGTCACGG  24828.0507\n",
       "2      GAGACCCCGTGTGTACTAAATGGGGACCACATCAG  21840.3222\n",
       "3      CGGGCCGGGACCACAGAACCGCCTAGTCTTTCCAT  21717.1406\n",
       "4      AACCCCGTTATCAGAAGCACTCGGATCCCGTGTGC  20632.6992\n",
       "...                                    ...         ...\n",
       "40520  TGAAGCGCCTGGAGAAGCCCCGGCGATGCAGAGTG     99.9419\n",
       "40521  AGGTCGACAATGAAGCTTGAGCAGAAGCAGCTCCC     96.9615\n",
       "40522  TGGAGCGGCGCAATAAGGCACCGCCGTGCGTCACT     94.2133\n",
       "40523  ACAGAGTGCAACGATGGAAGTACGGGCGTTTGCTC     94.0335\n",
       "40524  AGTGTTACACGACTATACGAAGGGTTTTGACCGAT     91.2026\n",
       "\n",
       "[40525 rows x 2 columns]"
      ]
     },
     "execution_count": 12,
     "metadata": {},
     "output_type": "execute_result"
    }
   ],
   "source": [
    "pd.read_csv(os.path.join(root_dir, sub_dir, 'M02500_2.00:Zoo_01:6113.txt'), sep='\\t')"
   ]
  },
  {
   "cell_type": "code",
   "execution_count": null,
   "id": "053aec1f",
   "metadata": {},
   "outputs": [],
   "source": []
  },
  {
   "cell_type": "code",
   "execution_count": null,
   "id": "ea9859a1",
   "metadata": {},
   "outputs": [],
   "source": []
  }
 ],
 "metadata": {
  "kernelspec": {
   "display_name": "Python 3",
   "language": "python",
   "name": "python3"
  },
  "language_info": {
   "codemirror_mode": {
    "name": "ipython",
    "version": 3
   },
   "file_extension": ".py",
   "mimetype": "text/x-python",
   "name": "python",
   "nbconvert_exporter": "python",
   "pygments_lexer": "ipython3",
   "version": "3.8.16"
  }
 },
 "nbformat": 4,
 "nbformat_minor": 5
}
