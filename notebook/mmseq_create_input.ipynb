{
 "cells": [
  {
   "cell_type": "code",
   "execution_count": 10,
   "id": "765b952d",
   "metadata": {},
   "outputs": [
    {
     "name": "stdout",
     "output_type": "stream",
     "text": [
      "len =  3010\n"
     ]
    },
    {
     "name": "stderr",
     "output_type": "stream",
     "text": [
      "<ipython-input-10-9fd2ec95cb8f>:15: DtypeWarning: Columns (10,12,13,15,37,38,39,40,41,42) have mixed types. Specify dtype option on import or set low_memory=False.\n",
      "  df = pd.read_csv(fpath, sep='\\t')\n"
     ]
    }
   ],
   "source": [
    "import numpy as np\n",
    "import pandas as pd\n",
    "import os\n",
    "import matplotlib.pyplot as plt\n",
    "import numpy as np\n",
    "\n",
    "from tqdm import tqdm\n",
    "\n",
    "# set env\n",
    "np.set_printoptions(suppress=True)\n",
    "pd.set_option('display.max_columns', 100)\n",
    "\n",
    "\n",
    "fpath = '../dataset/_datasets/cluster_res/seq_dg_v02.txt'\n",
    "df = pd.read_csv(fpath, sep='\\t')\n",
    "\n",
    "list_data = list()\n",
    "for k, subdf in df.groupby('protein_index'):\n",
    "    uni_seqs = np.unique(subdf['protein_sequence'].values)\n",
    "    assert len(uni_seqs) == 1\n",
    "    pseq = uni_seqs[0]\n",
    "    list_data.append((k, pseq))\n",
    "print('len = ', len(list_data))\n",
    "\n",
    "with open('mmseq/tmp.fasta', 'a') as file:\n",
    "    for pair in list_data:\n",
    "        k, pseq = pair\n",
    "        file.write('>tr|' + str(k) + '|' + '\\n')\n",
    "        file.write(str(pseq) + '\\n')\n",
    "    "
   ]
  },
  {
   "cell_type": "code",
   "execution_count": 6,
   "id": "11796960",
   "metadata": {},
   "outputs": [
    {
     "data": {
      "text/plain": [
       "('protein_1',\n",
       " 'MARYDLVDRLNTTFRQMEQELAIFAAHLEQHKLLVARVFSLPEVKKEDEHNPLNRIEVKQHLGNDAQSLALRHFRHLFIQQQSENRSSKAAVRLPGVLCYQVDNLSQAALVSHIQHINKLKTTFEHIVTVESELPTAARFEWVHRHLPGLITLNAYRTLTVLHDPATLRFGWANKHIIKNLHRDEVLAQLEKSLKSPRSVAPWTREEWQRKLEREYQDIAALPQNAKLKIKRPVKVQPIARVWYKGDQKQVQHACPTPLIALINRDNGAGVPDVGELLNYDADNVQHRYKPQAQPLRLIIPRLHLYVAD')"
      ]
     },
     "execution_count": 6,
     "metadata": {},
     "output_type": "execute_result"
    }
   ],
   "source": []
  }
 ],
 "metadata": {
  "kernelspec": {
   "display_name": "Python 3",
   "language": "python",
   "name": "python3"
  },
  "language_info": {
   "codemirror_mode": {
    "name": "ipython",
    "version": 3
   },
   "file_extension": ".py",
   "mimetype": "text/x-python",
   "name": "python",
   "nbconvert_exporter": "python",
   "pygments_lexer": "ipython3",
   "version": "3.8.16"
  }
 },
 "nbformat": 4,
 "nbformat_minor": 5
}
