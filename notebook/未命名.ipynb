{
 "cells": [
  {
   "cell_type": "code",
   "execution_count": 1,
   "id": "45f9faad",
   "metadata": {},
   "outputs": [
    {
     "name": "stderr",
     "output_type": "stream",
     "text": [
      "<ipython-input-1-c4304187dbdd>:20: DeprecationWarning: `np.int` is a deprecated alias for the builtin `int`. To silence this warning, use `int` by itself. Doing this will not modify any behavior and is safe. When replacing `np.int`, you may wish to use e.g. `np.int64` or `np.int32` to specify the precision. If you wish to review your current use, check the release note link for additional information.\n",
      "Deprecated in NumPy 1.20; for more details and guidance: https://numpy.org/devdocs/release/1.20.0-notes.html#deprecations\n",
      "  matrix = matrix.astype(np.int)\n",
      "<ipython-input-1-c4304187dbdd>:22: DeprecationWarning: `np.bool` is a deprecated alias for the builtin `bool`. To silence this warning, use `bool` by itself. Doing this will not modify any behavior and is safe. If you specifically wanted the numpy scalar type, use `np.bool_` here.\n",
      "Deprecated in NumPy 1.20; for more details and guidance: https://numpy.org/devdocs/release/1.20.0-notes.html#deprecations\n",
      "  out = np.zeros([L, n_classes], dtype=np.bool)\n"
     ]
    }
   ],
   "source": [
    "import pandas as pd\n",
    "import collections\n",
    "import numpy as np\n",
    "import sys\n",
    "import torch\n",
    "\n",
    "sys.path.append(\"../\")\n",
    "\n",
    "\n",
    "from preprocessing.protein_chemistry import list_atoms,list_atoms_types,VanDerWaalsRadii,atom_mass,atom_type_to_index,atom_to_index,index_to_type,atom_type_mass\n",
    "from preprocessing.protein_chemistry import residue_dictionary,hetresidue_field\n",
    "\n",
    "from preprocessing.graph.frames import get_aa_frameCloud, get_atom_frameCloud\n",
    "from preprocessing import sequence_utils\n",
    "\n",
    "\n",
    "\n",
    "def binarize_categorical(matrix, n_classes, out=None):\n",
    "    L = matrix.shape[0]\n",
    "    matrix = matrix.astype(np.int)\n",
    "    if out is None:\n",
    "        out = np.zeros([L, n_classes], dtype=np.bool)\n",
    "    subset = (matrix>=0) & (matrix<n_classes)\n",
    "    out[np.arange(L)[subset],matrix[subset]] = 1\n",
    "    return out\n",
    "\n",
    "def readData(file_path):\n",
    "  #处理pdb文本，转为dataframe\n",
    "  with open(file = file_path, mode ='r') as f1:\n",
    "    data = f1.read()\n",
    "    data = data.split('\\n')\n",
    "    del data[-3:]\n",
    "\n",
    "  pdb = []\n",
    "  for i in range(len(data)):\n",
    "    element  = data[i].split()\n",
    "    pdb.append(element)\n",
    "\n",
    "  input = pd.DataFrame(pdb)\n",
    "  #定义存放结果的字典\n",
    "  amino_dict = collections.OrderedDict()\n",
    "  atom_dict= collections.OrderedDict()\n",
    "\n",
    "  for  i in range(len(input)):\n",
    "    #判断是否是H原子\n",
    "    if input.loc[i,11] != 'H':\n",
    "      atom_coord = np.array(input.loc[i,6:8].values,dtype= np.float64)\n",
    "      atom_name = input.loc[i,2]\n",
    "      atom_dict[atom_name] = atom_coord\n",
    "    #判断是否为该pdb文件的最后一个原子\n",
    "    if i == len(input)-1:\n",
    "      amino_name = str(input.loc[i,5]) + '_' + input.loc[i, 3]\n",
    "      amino_dict[amino_name] = atom_dict\n",
    "      atom_dict= collections.OrderedDict()\n",
    "    #非最后一个原子情况下判断是否为该氨基酸最后一个原子\n",
    "    else:\n",
    "      if input.loc[i,5] != input.loc[i+1,5]:\n",
    "        amino_name = str(input.loc[i,5]) + '_' + input.loc[i, 3]\n",
    "        amino_dict[amino_name] = atom_dict\n",
    "        atom_dict= collections.OrderedDict()\n",
    "  return amino_dict\n",
    "\n",
    "def processData(amino_dict):\n",
    "  sequence = \"\"\n",
    "  all_coordinates = []\n",
    "  all_atoms = []\n",
    "  all_atom_types = []\n",
    "  for aa_key, atom_dict in amino_dict.items():\n",
    "    _, aa_name = aa_key.split(\"_\")\n",
    "    sequence += residue_dictionary[aa_name]\n",
    "    # List((3,)) ==> (atoms, 3)\n",
    "    residue_atom_coordinates = np.stack([coord for _, coord in atom_dict.items()], axis=0)\n",
    "    # (atoms,)\n",
    "    residue_atoms = [atom_to_index[atom_name] for atom_name in atom_dict.keys()]\n",
    "    residue_atom_type = [atom_type_to_index[atom_name[0]] for atom_name in atom_dict.keys()]\n",
    "\n",
    "    all_coordinates.append(residue_atom_coordinates)\n",
    "    all_atoms.append(residue_atoms)\n",
    "    all_atom_types.append(residue_atom_type)\n",
    "\n",
    "  return sequence, all_coordinates, all_atoms, all_atom_types\n",
    "  \n",
    "\n",
    "def getdData(file_paths):\n",
    "  batch_sequences = []\n",
    "  batch_all_coordinates = []\n",
    "  batch_all_atoms = []\n",
    "  batch_all_atom_types = []\n",
    "  for file_path in file_paths:\n",
    "    amino_dict = readData(file_path)\n",
    "    sequence, all_coordinates, all_atoms, all_atom_types = processData(amino_dict)\n",
    "\n",
    "    batch_sequences.append(sequence)\n",
    "    batch_all_coordinates.append(all_coordinates)\n",
    "    batch_all_atoms.append(all_atoms)\n",
    "    batch_all_atom_types.append(all_atom_types)\n",
    "\n",
    "  return batch_sequences, batch_all_coordinates, batch_all_atoms, batch_all_atom_types\n",
    "\n",
    "\n",
    "\n",
    "file_paths = [\"../dataset/P44_relaxed_rank_002_alphafold2_ptm_model_2_seed_000.pdb\",]\n",
    "batch_sequences, batch_all_coordinates, batch_all_atoms, batch_all_atom_types = getdData(file_paths)\n",
    "\n",
    "sequence = batch_sequences[0]\n",
    "all_coordinates, all_atoms = batch_all_coordinates[0], batch_all_atoms[0]\n",
    "\n",
    "aa_clouds, aa_triplets, aa_indices = get_aa_frameCloud(all_coordinates, all_atoms)\n",
    "\n",
    "nsequence_features = 20\n",
    "aa_attributes = binarize_categorical(\n",
    "    sequence_utils.seq2num(sequence)[0], 20)\n",
    "\n",
    "\n",
    "atom_clouds, atom_triplets, atom_attributes, atom_indices = get_atom_frameCloud(sequence, all_coordinates, all_atoms)\n",
    "\n",
    "\n",
    "########################################\n",
    "from modeling.neighborhoods import FrameBuilder\n",
    "\n",
    "tensor_aa_clouds = torch.Tensor(aa_clouds).unsqueeze(0)\n",
    "tensor_aa_triplets = torch.Tensor(aa_triplets).unsqueeze(0)\n",
    "tensor_aa_triplets = tensor_aa_triplets.long()\n",
    "\n",
    "config = None\n",
    "frame_builder = FrameBuilder(config)\n",
    "\n",
    "inputs = [tensor_aa_clouds, tensor_aa_triplets]\n",
    "frames = frame_builder(inputs)\n"
   ]
  },
  {
   "cell_type": "code",
   "execution_count": 12,
   "id": "acacbb8b",
   "metadata": {},
   "outputs": [],
   "source": [
    "########################################\n",
    "from modeling.neighborhoods import LocalNeighborhood\n",
    "\n",
    "coordinates=['euclidian',]\n",
    "\n",
    "local_neighborhood = LocalNeighborhood(config, Kmax=16, coordinates=coordinates, self_neighborhood=True, index_distance_max=8, nrotations=1)\n",
    "\n",
    "tensor_aa_attributes = torch.Tensor(aa_attributes)\n",
    "tensor_aa_attributes = tensor_aa_attributes.unsqueeze(0)\n",
    "input2localneighborhood = [frames, tensor_aa_attributes]\n",
    "output = local_neighborhood(input2localneighborhood)\n",
    "\n",
    "neighbor_coordinates, neighbors_attributes = output[0][0], output[1]\n",
    "\n",
    "neighbor_coordinates.shape, neighbors_attributes.shape"
   ]
  },
  {
   "cell_type": "code",
   "execution_count": 13,
   "id": "6e805259",
   "metadata": {},
   "outputs": [
    {
     "data": {
      "text/plain": [
       "(torch.Size([1, 518, 16, 3]), torch.Size([1, 518, 16, 20]))"
      ]
     },
     "execution_count": 13,
     "metadata": {},
     "output_type": "execute_result"
    }
   ],
   "source": []
  },
  {
   "cell_type": "code",
   "execution_count": 11,
   "id": "00567709",
   "metadata": {},
   "outputs": [
    {
     "data": {
      "text/plain": [
       "torch.Size([1, 518, 16, 20])"
      ]
     },
     "execution_count": 11,
     "metadata": {},
     "output_type": "execute_result"
    }
   ],
   "source": []
  }
 ],
 "metadata": {
  "kernelspec": {
   "display_name": "Python 3",
   "language": "python",
   "name": "python3"
  },
  "language_info": {
   "codemirror_mode": {
    "name": "ipython",
    "version": 3
   },
   "file_extension": ".py",
   "mimetype": "text/x-python",
   "name": "python",
   "nbconvert_exporter": "python",
   "pygments_lexer": "ipython3",
   "version": "3.8.10"
  }
 },
 "nbformat": 4,
 "nbformat_minor": 5
}
