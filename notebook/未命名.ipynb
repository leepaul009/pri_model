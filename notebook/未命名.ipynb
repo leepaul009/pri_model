{
 "cells": [
  {
   "cell_type": "code",
   "execution_count": 35,
   "id": "dbe58238",
   "metadata": {},
   "outputs": [],
   "source": [
    "import sys\n",
    "import os\n",
    "import copy\n",
    "import math\n",
    "import multiprocessing\n",
    "import pickle\n",
    "import random\n",
    "import zlib\n",
    "import collections\n",
    "from collections import defaultdict\n",
    "from multiprocessing import Process\n",
    "from random import choice\n",
    "import argparse\n",
    "\n",
    "import numpy as np\n",
    "import torch\n",
    "from tqdm import tqdm\n",
    "import pandas as pd\n",
    "\n",
    "sys.path.append(\"../\")\n",
    "\n",
    "\n",
    "from preprocessing.protein_chemistry import list_atoms,list_atoms_types,VanDerWaalsRadii,atom_mass,atom_type_to_index,atom_to_index,index_to_type,atom_type_mass\n",
    "from preprocessing.protein_chemistry import residue_dictionary,hetresidue_field\n",
    "from preprocessing import sequence_utils\n",
    "\n",
    "from modeling.graph.frames import get_aa_frameCloud, get_atom_frameCloud\n",
    "from modeling.graph.neighborhoods import FrameBuilder, LocalNeighborhood\n",
    "\n"
   ]
  },
  {
   "cell_type": "code",
   "execution_count": 36,
   "id": "6d96cb64",
   "metadata": {},
   "outputs": [],
   "source": [
    "def readPdbFile(file_path):\n",
    "  r\"\"\"\n",
    "  read a pdb file\n",
    "  \"\"\"\n",
    "  if not os.path.exists(file_path):\n",
    "    print(\"error: following file not exists, {}\".format(file_path))\n",
    "    return\n",
    "  #处理pdb文本，转为dataframe\n",
    "  with open(file = file_path, mode ='r') as f1:\n",
    "    data = f1.read()\n",
    "    data = data.split('\\n')\n",
    "    del data[-3:]\n",
    "\n",
    "  pdb = []\n",
    "  for i in range(len(data)):\n",
    "    element  = data[i].split()\n",
    "    pdb.append(element)\n",
    "\n",
    "  input = pd.DataFrame(pdb)\n",
    "  #定义存放结果的字典\n",
    "  amino_dict = collections.OrderedDict()\n",
    "  atom_dict= collections.OrderedDict()\n",
    "\n",
    "  for i in range(len(input)):\n",
    "    #判断是否是H原子\n",
    "    if input.loc[i,11] != 'H':\n",
    "      atom_coord = np.array(input.loc[i,6:8].values,dtype= np.float64)\n",
    "      atom_name = input.loc[i,2]\n",
    "      atom_dict[atom_name] = atom_coord\n",
    "    #判断是否为该pdb文件的最后一个原子\n",
    "    if i == len(input)-1:\n",
    "      amino_name = str(input.loc[i,5]) + '_' + input.loc[i, 3]\n",
    "      amino_dict[amino_name] = atom_dict\n",
    "      atom_dict= collections.OrderedDict()\n",
    "    #非最后一个原子情况下判断是否为该氨基酸最后一个原子\n",
    "    else:\n",
    "      if input.loc[i,5] != input.loc[i+1,5]:\n",
    "        amino_name = str(input.loc[i,5]) + '_' + input.loc[i, 3]\n",
    "        amino_dict[amino_name] = atom_dict\n",
    "        atom_dict= collections.OrderedDict()\n",
    "  return amino_dict\n",
    "\n",
    "def processDataPdbFormat(amino_dict):\n",
    "  sequence = \"\"\n",
    "  all_coordinates = []\n",
    "  all_atoms = []\n",
    "  all_atom_types = []\n",
    "  for aa_key, atom_dict in amino_dict.items():\n",
    "    _, aa_name = aa_key.split(\"_\")\n",
    "    sequence += residue_dictionary[aa_name]\n",
    "    # List((3,)) ==> (atoms, 3)\n",
    "    residue_atom_coordinates = np.stack([coord for _, coord in atom_dict.items()], axis=0)\n",
    "    # (atoms,)\n",
    "    residue_atoms = [atom_to_index[atom_name] for atom_name in atom_dict.keys()]\n",
    "    residue_atom_type = [atom_type_to_index[atom_name[0]] for atom_name in atom_dict.keys()]\n",
    "\n",
    "    all_coordinates.append(residue_atom_coordinates)\n",
    "    all_atoms.append(residue_atoms)\n",
    "    all_atom_types.append(residue_atom_type)\n",
    "\n",
    "  return sequence, all_coordinates, all_atoms, all_atom_types\n",
    "\n",
    "def getDataPdbFormat(file_paths):\n",
    "  batch_sequences = []\n",
    "  batch_all_coordinates = []\n",
    "  batch_all_atoms = []\n",
    "  batch_all_atom_types = []\n",
    "  for file_path in file_paths:\n",
    "    amino_dict = readPdbFile(file_path)\n",
    "    sequence, all_coordinates, all_atoms, all_atom_types = processDataPdbFormat(amino_dict)\n",
    "\n",
    "    batch_sequences.append(sequence)\n",
    "    batch_all_coordinates.append(all_coordinates)\n",
    "    batch_all_atoms.append(all_atoms)\n",
    "    batch_all_atom_types.append(all_atom_types)\n",
    "\n",
    "  return batch_sequences, batch_all_coordinates, batch_all_atoms, batch_all_atom_types\n",
    "\n",
    "def binarize_categorical(matrix, n_classes, out=None):\n",
    "  L = matrix.shape[0]\n",
    "  matrix = matrix.astype(np.int32)\n",
    "  if out is None:\n",
    "    out = np.zeros([L, n_classes], dtype=np.bool_)\n",
    "  subset = (matrix>=0) & (matrix<n_classes)\n",
    "  out[np.arange(L)[subset],matrix[subset]] = 1\n",
    "  return out\n"
   ]
  },
  {
   "cell_type": "code",
   "execution_count": 41,
   "id": "56889b29",
   "metadata": {},
   "outputs": [],
   "source": [
    "file_path = \"../dataset/P44_relaxed_rank_002_alphafold2_ptm_model_2_seed_000.pdb\"\n",
    "amino_dict = readPdbFile(file_path)\n",
    "sequence, all_coordinates, all_atoms, all_atom_types = processDataPdbFormat(amino_dict)\n",
    "\n",
    "aa_clouds, aa_triplets, aa_indices = get_aa_frameCloud(all_coordinates, all_atoms)\n",
    "\n",
    "tensor_aa_clouds   = torch.Tensor(aa_clouds).unsqueeze(0)\n",
    "tensor_aa_triplets = torch.Tensor(aa_triplets).unsqueeze(0).long()\n",
    "\n",
    "frame_builder = FrameBuilder(config=None)\n",
    "frames = frame_builder(\n",
    "  [tensor_aa_clouds, tensor_aa_triplets])\n",
    "\n",
    "protein_feat = binarize_categorical(\n",
    "      sequence_utils.seq2num(sequence)[0], 20) # (num_aa, 20)"
   ]
  },
  {
   "cell_type": "code",
   "execution_count": 44,
   "id": "942dc937",
   "metadata": {},
   "outputs": [
    {
     "data": {
      "text/plain": [
       "numpy.ndarray"
      ]
     },
     "execution_count": 44,
     "metadata": {},
     "output_type": "execute_result"
    }
   ],
   "source": [
    "type(protein_feat)"
   ]
  },
  {
   "cell_type": "code",
   "execution_count": 33,
   "id": "b568a706",
   "metadata": {},
   "outputs": [
    {
     "data": {
      "text/plain": [
       "(torch.Size([1, 1037, 3]), torch.Size([1, 518, 3]))"
      ]
     },
     "execution_count": 33,
     "metadata": {},
     "output_type": "execute_result"
    }
   ],
   "source": [
    "tensor_aa_clouds   = torch.Tensor(aa_clouds).unsqueeze(0)\n",
    "tensor_aa_triplets = torch.Tensor(aa_triplets).unsqueeze(0).long()\n",
    "tensor_aa_clouds.shape, tensor_aa_triplets.shape"
   ]
  },
  {
   "cell_type": "code",
   "execution_count": 31,
   "id": "fcecb5a3",
   "metadata": {},
   "outputs": [
    {
     "data": {
      "text/plain": [
       "((1037, 3), (518, 3), (518, 1))"
      ]
     },
     "execution_count": 31,
     "metadata": {},
     "output_type": "execute_result"
    }
   ],
   "source": [
    "aa_clouds.shape, aa_triplets.shape, aa_indices.shape"
   ]
  },
  {
   "cell_type": "code",
   "execution_count": 29,
   "id": "53a3e458",
   "metadata": {},
   "outputs": [
    {
     "data": {
      "text/plain": [
       "4058"
      ]
     },
     "execution_count": 29,
     "metadata": {},
     "output_type": "execute_result"
    }
   ],
   "source": [
    "np.sum([len(x) for x in all_coordinates])"
   ]
  },
  {
   "cell_type": "code",
   "execution_count": 26,
   "id": "5d124dae",
   "metadata": {},
   "outputs": [
    {
     "data": {
      "text/plain": [
       "((4058, 3), (4058, 3), (4058,), (4058, 1))"
      ]
     },
     "execution_count": 26,
     "metadata": {},
     "output_type": "execute_result"
    }
   ],
   "source": [
    "atom_clouds.shape, atom_triplets.shape, atom_attributes.shape, atom_indices.shape"
   ]
  }
 ],
 "metadata": {
  "kernelspec": {
   "display_name": "Python 3",
   "language": "python",
   "name": "python3"
  },
  "language_info": {
   "codemirror_mode": {
    "name": "ipython",
    "version": 3
   },
   "file_extension": ".py",
   "mimetype": "text/x-python",
   "name": "python",
   "nbconvert_exporter": "python",
   "pygments_lexer": "ipython3",
   "version": "3.8.10"
  }
 },
 "nbformat": 4,
 "nbformat_minor": 5
}
