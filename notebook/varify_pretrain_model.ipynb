{
 "cells": [
  {
   "cell_type": "code",
   "execution_count": 1,
   "id": "93406355",
   "metadata": {},
   "outputs": [
    {
     "name": "stderr",
     "output_type": "stream",
     "text": [
      "/home/megvii/anaconda3/envs/paul-py3/lib/python3.8/site-packages/tqdm/auto.py:21: TqdmWarning: IProgress not found. Please update jupyter and ipywidgets. See https://ipywidgets.readthedocs.io/en/stable/user_install.html\n",
      "  from .autonotebook import tqdm as notebook_tqdm\n"
     ]
    }
   ],
   "source": [
    "import torch"
   ]
  },
  {
   "cell_type": "code",
   "execution_count": 2,
   "id": "5911932f",
   "metadata": {},
   "outputs": [],
   "source": [
    "path_esm2_cp = \"../dataset/checkpoints/pmnet/pre_train.2.99000.ckpt\"\n",
    "checkpoint = torch.load(path_esm2_cp, map_location=torch.device('cpu'))"
   ]
  },
  {
   "cell_type": "code",
   "execution_count": 6,
   "id": "77a38448",
   "metadata": {},
   "outputs": [
    {
     "name": "stdout",
     "output_type": "stream",
     "text": [
      "atom_level_sub_graph.layer_0.linear.weight     torch.Size([128, 128])\n",
      "atom_level_sub_graph.layer_0.linear.bias     torch.Size([128])\n",
      "atom_level_sub_graph.layer_0.layer_norm.weight     torch.Size([128])\n",
      "atom_level_sub_graph.layer_0.layer_norm.bias     torch.Size([128])\n",
      "atom_level_sub_graph.layers.0.query.weight     torch.Size([128, 128])\n",
      "atom_level_sub_graph.layers.0.query.bias     torch.Size([128])\n",
      "atom_level_sub_graph.layers.0.key.weight     torch.Size([128, 128])\n",
      "atom_level_sub_graph.layers.0.key.bias     torch.Size([128])\n",
      "atom_level_sub_graph.layers.0.value.weight     torch.Size([128, 128])\n",
      "atom_level_sub_graph.layers.0.value.bias     torch.Size([128])\n",
      "atom_level_sub_graph.layers.1.query.weight     torch.Size([128, 128])\n",
      "atom_level_sub_graph.layers.1.query.bias     torch.Size([128])\n",
      "atom_level_sub_graph.layers.1.key.weight     torch.Size([128, 128])\n",
      "atom_level_sub_graph.layers.1.key.bias     torch.Size([128])\n",
      "atom_level_sub_graph.layers.1.value.weight     torch.Size([128, 128])\n",
      "atom_level_sub_graph.layers.1.value.bias     torch.Size([128])\n",
      "atom_level_sub_graph.layers.2.query.weight     torch.Size([128, 128])\n",
      "atom_level_sub_graph.layers.2.query.bias     torch.Size([128])\n",
      "atom_level_sub_graph.layers.2.key.weight     torch.Size([128, 128])\n",
      "atom_level_sub_graph.layers.2.key.bias     torch.Size([128])\n",
      "atom_level_sub_graph.layers.2.value.weight     torch.Size([128, 128])\n",
      "atom_level_sub_graph.layers.2.value.bias     torch.Size([128])\n",
      "atom_level_sub_graph.layers_2.0.weight     torch.Size([128])\n",
      "atom_level_sub_graph.layers_2.0.bias     torch.Size([128])\n",
      "atom_level_sub_graph.layers_2.1.weight     torch.Size([128])\n",
      "atom_level_sub_graph.layers_2.1.bias     torch.Size([128])\n",
      "atom_level_sub_graph.layers_2.2.weight     torch.Size([128])\n",
      "atom_level_sub_graph.layers_2.2.bias     torch.Size([128])\n",
      "laneGCN_A2L.query.weight     torch.Size([128, 128])\n",
      "laneGCN_A2L.query.bias     torch.Size([128])\n",
      "laneGCN_A2L.key.weight     torch.Size([128, 128])\n",
      "laneGCN_A2L.key.bias     torch.Size([128])\n",
      "laneGCN_A2L.value.weight     torch.Size([128, 128])\n",
      "laneGCN_A2L.value.bias     torch.Size([128])\n",
      "laneGCN_L2L.global_graph.query.weight     torch.Size([64, 128])\n",
      "laneGCN_L2L.global_graph.query.bias     torch.Size([64])\n",
      "laneGCN_L2L.global_graph.key.weight     torch.Size([64, 128])\n",
      "laneGCN_L2L.global_graph.key.bias     torch.Size([64])\n",
      "laneGCN_L2L.global_graph.value.weight     torch.Size([64, 128])\n",
      "laneGCN_L2L.global_graph.value.bias     torch.Size([64])\n",
      "laneGCN_L2L.global_graph2.query.weight     torch.Size([64, 128])\n",
      "laneGCN_L2L.global_graph2.query.bias     torch.Size([64])\n",
      "laneGCN_L2L.global_graph2.key.weight     torch.Size([64, 128])\n",
      "laneGCN_L2L.global_graph2.key.bias     torch.Size([64])\n",
      "laneGCN_L2L.global_graph2.value.weight     torch.Size([64, 128])\n",
      "laneGCN_L2L.global_graph2.value.bias     torch.Size([64])\n",
      "laneGCN_L2A.query.weight     torch.Size([128, 128])\n",
      "laneGCN_L2A.query.bias     torch.Size([128])\n",
      "laneGCN_L2A.key.weight     torch.Size([128, 128])\n",
      "laneGCN_L2A.key.bias     torch.Size([128])\n",
      "laneGCN_L2A.value.weight     torch.Size([128, 128])\n",
      "laneGCN_L2A.value.bias     torch.Size([128])\n",
      "laneGCN_A2A.global_graph.query.weight     torch.Size([64, 128])\n",
      "laneGCN_A2A.global_graph.query.bias     torch.Size([64])\n",
      "laneGCN_A2A.global_graph.key.weight     torch.Size([64, 128])\n",
      "laneGCN_A2A.global_graph.key.bias     torch.Size([64])\n",
      "laneGCN_A2A.global_graph.value.weight     torch.Size([64, 128])\n",
      "laneGCN_A2A.global_graph.value.bias     torch.Size([64])\n",
      "laneGCN_A2A.global_graph2.query.weight     torch.Size([64, 128])\n",
      "laneGCN_A2A.global_graph2.query.bias     torch.Size([64])\n",
      "laneGCN_A2A.global_graph2.key.weight     torch.Size([64, 128])\n",
      "laneGCN_A2A.global_graph2.key.bias     torch.Size([64])\n",
      "laneGCN_A2A.global_graph2.value.weight     torch.Size([64, 128])\n",
      "laneGCN_A2A.global_graph2.value.bias     torch.Size([64])\n",
      "global_graph.global_graph.query.weight     torch.Size([64, 128])\n",
      "global_graph.global_graph.query.bias     torch.Size([64])\n",
      "global_graph.global_graph.key.weight     torch.Size([64, 128])\n",
      "global_graph.global_graph.key.bias     torch.Size([64])\n",
      "global_graph.global_graph.value.weight     torch.Size([64, 128])\n",
      "global_graph.global_graph.value.bias     torch.Size([64])\n",
      "global_graph.global_graph2.query.weight     torch.Size([64, 128])\n",
      "global_graph.global_graph2.query.bias     torch.Size([64])\n",
      "global_graph.global_graph2.key.weight     torch.Size([64, 128])\n",
      "global_graph.global_graph2.key.bias     torch.Size([64])\n",
      "global_graph.global_graph2.value.weight     torch.Size([64, 128])\n",
      "global_graph.global_graph2.value.bias     torch.Size([64])\n",
      "aa_seq_layer.module.weight     torch.Size([64, 20])\n",
      "aa_pos_emb.weights_0     torch.Size([1, 94, 1, 64])\n",
      "aa_pos_emb.weights_1     torch.Size([1, 1, 64, 64])\n",
      "na_seq_norm.weight     torch.Size([64])\n",
      "na_seq_norm.bias     torch.Size([64])\n",
      "prot_chm_layer.module.weight     torch.Size([64, 7])\n",
      "aa_chm_pos_emb.weights_0     torch.Size([1, 94, 1, 64])\n",
      "aa_chm_pos_emb.weights_1     torch.Size([1, 1, 64, 64])\n",
      "na_chm_norm.weight     torch.Size([64])\n",
      "na_chm_norm.bias     torch.Size([64])\n",
      "na_conv2d.conv.weight     torch.Size([8, 1, 3, 5])\n",
      "na_conv2d.conv.bias     torch.Size([8])\n",
      "na_conv2d.bn.weight     torch.Size([8])\n",
      "na_conv2d.bn.bias     torch.Size([8])\n",
      "na_conv2d.bn.running_mean     torch.Size([8])\n",
      "na_conv2d.bn.running_var     torch.Size([8])\n",
      "na_conv2d.bn.num_batches_tracked     torch.Size([])\n",
      "na_fc.weight     torch.Size([128, 32])\n",
      "na_norm.weight     torch.Size([128])\n",
      "na_norm.bias     torch.Size([128])\n",
      "na_pos_emb.weights_0     torch.Size([1, 16, 1, 128])\n",
      "na_pos_emb.weights_1     torch.Size([1, 1, 64, 128])\n",
      "reg_head.weight     torch.Size([128, 256])\n",
      "reg_pred.weight     torch.Size([1, 128])\n"
     ]
    }
   ],
   "source": [
    "for k, v in checkpoint['state_dict'].items():\n",
    "    print(k, \"   \", v.shape)"
   ]
  },
  {
   "cell_type": "code",
   "execution_count": null,
   "id": "ef959460",
   "metadata": {},
   "outputs": [],
   "source": []
  }
 ],
 "metadata": {
  "kernelspec": {
   "display_name": "Python 3",
   "language": "python",
   "name": "python3"
  },
  "language_info": {
   "codemirror_mode": {
    "name": "ipython",
    "version": 3
   },
   "file_extension": ".py",
   "mimetype": "text/x-python",
   "name": "python",
   "nbconvert_exporter": "python",
   "pygments_lexer": "ipython3",
   "version": "3.8.16"
  }
 },
 "nbformat": 4,
 "nbformat_minor": 5
}
