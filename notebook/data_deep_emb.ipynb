{
 "cells": [
  {
   "cell_type": "code",
   "execution_count": 2,
   "id": "22539b3a",
   "metadata": {},
   "outputs": [],
   "source": [
    "import numpy as np\n",
    "import pandas as pd\n",
    "import os\n",
    "import matplotlib.pyplot as plt\n",
    "import numpy as np\n",
    "from tqdm import tqdm\n",
    "np.set_printoptions(suppress=True)\n",
    "pd.set_option('display.max_columns', 100)\n",
    "\n"
   ]
  },
  {
   "cell_type": "code",
   "execution_count": null,
   "id": "465f3429",
   "metadata": {},
   "outputs": [],
   "source": [
    "data_dir = '../dataset/_embedding/'\n",
    "\n",
    "data_file = 'esm.npz'\n",
    "data_file = os.path.join(data_dir, data_file)\n",
    "prot_emb = np.load(data_file ,allow_pickle=True)\n",
    "prot_emb = prot_emb['esm'][()]\n",
    "\n",
    "data_file = 'dnabert.npz'\n",
    "data_file = os.path.join(data_dir, data_file)\n",
    "dna_emb = np.load(data_file,allow_pickle=True)\n",
    "dna_emb = dna_emb['dnabert'][()]\n",
    "\n",
    "data_file = 'dnabert_398_1104_622.npz'\n",
    "data_file = os.path.join(data_dir, data_file)\n",
    "dna_emb_sup = np.load(data_file,allow_pickle=True)\n",
    "dna_emb_sup = dna_emb_sup['dnabert'][()]\n",
    "\n",
    "print(len(dna_emb.keys()))\n",
    "dna_emb.update(dna_emb_sup)\n",
    "print(len(dna_emb.keys()))"
   ]
  },
  {
   "cell_type": "code",
   "execution_count": 30,
   "id": "38868c36",
   "metadata": {},
   "outputs": [],
   "source": [
    "# prot_fea = np.load('esm.npz',allow_pickle=True)\n",
    "# prot_fea = prot_fea['esm'][()]\n",
    "# dna2vec = np.load('dna2vec.npz',allow_pickle=True)\n",
    "# dna2vec = dna2vec['dna2vec'][()]\n",
    "# enhancerbert = np.load('enhancerbert.npz',allow_pickle=True)\n",
    "# enhancerbert = enhancerbert['enhancerbert'][()]\n",
    "# dnabert = np.load('dnabert.npz',allow_pickle=True)\n",
    "# dnabert = dnabert['dnabert'][()]"
   ]
  },
  {
   "cell_type": "code",
   "execution_count": 35,
   "id": "9b798a66",
   "metadata": {},
   "outputs": [
    {
     "name": "stderr",
     "output_type": "stream",
     "text": [
      "100%|██████████| 3010/3010 [00:08<00:00, 340.24it/s]\n"
     ]
    }
   ],
   "source": [
    "prot_dir = 'prot'\n",
    "for k, v in tqdm(prot_emb.items()):\n",
    "    pdir = os.path.join(data_dir, prot_dir, k)\n",
    "    np.savez(pdir, embedding=v)\n",
    "\n",
    "nc_dir = 'nc'\n",
    "for k, v in tqdm(dna_emb.items()):\n",
    "    pdir = os.path.join(data_dir, nc_dir, k)\n",
    "    np.savez(pdir, embedding=v)"
   ]
  },
  {
   "cell_type": "code",
   "execution_count": 4,
   "id": "b2696594",
   "metadata": {},
   "outputs": [],
   "source": [
    "data_dir = '../dataset/_embedding/'\n",
    "nc_dir = 'nc'\n",
    "prot_dir = 'prot'"
   ]
  },
  {
   "cell_type": "code",
   "execution_count": 10,
   "id": "fbfeeb50",
   "metadata": {},
   "outputs": [
    {
     "name": "stdout",
     "output_type": "stream",
     "text": [
      "(543, 2560)\n",
      "(58, 768)\n"
     ]
    }
   ],
   "source": [
    "f = os.path.join(data_dir, prot_dir, 'protein_0.npz')\n",
    "data = np.load(f, allow_pickle=True)\n",
    "print(data['embedding'].shape)\n",
    "f = os.path.join(data_dir, nc_dir, 'Double_DNA_398.npz')\n",
    "data = np.load(f, allow_pickle=True)\n",
    "print(data['embedding'].shape)"
   ]
  },
  {
   "cell_type": "code",
   "execution_count": 2,
   "id": "5324f270",
   "metadata": {},
   "outputs": [
    {
     "name": "stderr",
     "output_type": "stream",
     "text": [
      "/home/megvii/anaconda3/envs/paul-py3/lib/python3.8/site-packages/tqdm/auto.py:21: TqdmWarning: IProgress not found. Please update jupyter and ipywidgets. See https://ipywidgets.readthedocs.io/en/stable/user_install.html\n",
      "  from .autonotebook import tqdm as notebook_tqdm\n"
     ]
    }
   ],
   "source": [
    "import torch"
   ]
  },
  {
   "cell_type": "code",
   "execution_count": 7,
   "id": "27a56abe",
   "metadata": {},
   "outputs": [
    {
     "name": "stdout",
     "output_type": "stream",
     "text": [
      "tensor([[[[0.9582, 0.2535, 0.2100, 0.4666],\n",
      "          [0.4200, 0.3619, 0.4390, 0.6713],\n",
      "          [0.3976, 0.7727, 0.8344, 0.3008],\n",
      "          [0.5936, 0.5642, 0.7480, 0.2994]],\n",
      "\n",
      "         [[0.4449, 0.3568, 0.1383, 0.8400],\n",
      "          [0.1893, 0.8799, 0.6024, 0.9199],\n",
      "          [0.4367, 0.9572, 0.0446, 0.1020],\n",
      "          [0.8079, 0.9061, 0.0587, 0.5517]]],\n",
      "\n",
      "\n",
      "        [[[0.0456, 0.5209, 0.0256, 0.4412],\n",
      "          [0.3497, 0.2734, 0.9989, 0.3368],\n",
      "          [0.0375, 0.5850, 0.8002, 0.6407],\n",
      "          [0.1234, 0.8672, 0.9744, 0.3217]],\n",
      "\n",
      "         [[0.7212, 0.6021, 0.6323, 0.1610],\n",
      "          [0.4791, 0.7481, 0.5966, 0.6056],\n",
      "          [0.7790, 0.1321, 0.3765, 0.8603],\n",
      "          [0.8048, 0.4381, 0.7989, 0.0454]]]])\n",
      "tensor([[False, False,  True,  True],\n",
      "        [False, False, False,  True]])\n"
     ]
    },
    {
     "data": {
      "text/plain": [
       "tensor([[[[0.9582, 0.2535,   -inf,   -inf],\n",
       "          [0.4200, 0.3619,   -inf,   -inf],\n",
       "          [0.3976, 0.7727,   -inf,   -inf],\n",
       "          [0.5936, 0.5642,   -inf,   -inf]],\n",
       "\n",
       "         [[0.4449, 0.3568,   -inf,   -inf],\n",
       "          [0.1893, 0.8799,   -inf,   -inf],\n",
       "          [0.4367, 0.9572,   -inf,   -inf],\n",
       "          [0.8079, 0.9061,   -inf,   -inf]]],\n",
       "\n",
       "\n",
       "        [[[0.0456, 0.5209, 0.0256,   -inf],\n",
       "          [0.3497, 0.2734, 0.9989,   -inf],\n",
       "          [0.0375, 0.5850, 0.8002,   -inf],\n",
       "          [0.1234, 0.8672, 0.9744,   -inf]],\n",
       "\n",
       "         [[0.7212, 0.6021, 0.6323,   -inf],\n",
       "          [0.4791, 0.7481, 0.5966,   -inf],\n",
       "          [0.7790, 0.1321, 0.3765,   -inf],\n",
       "          [0.8048, 0.4381, 0.7989,   -inf]]]])"
      ]
     },
     "execution_count": 7,
     "metadata": {},
     "output_type": "execute_result"
    }
   ],
   "source": [
    "x = torch.rand(2,2,4,4)\n",
    "print(x)\n",
    "m = torch.zeros(2,4, dtype=torch.bool)\n",
    "m[0, 2:] = True\n",
    "m[1, -1] = True\n",
    "print(m)\n",
    "x.masked_fill(m.unsqueeze(1).unsqueeze(2).to(torch.bool), float(\"-inf\"))"
   ]
  },
  {
   "cell_type": "code",
   "execution_count": null,
   "id": "ad920559",
   "metadata": {},
   "outputs": [],
   "source": []
  }
 ],
 "metadata": {
  "kernelspec": {
   "display_name": "Python 3",
   "language": "python",
   "name": "python3"
  },
  "language_info": {
   "codemirror_mode": {
    "name": "ipython",
    "version": 3
   },
   "file_extension": ".py",
   "mimetype": "text/x-python",
   "name": "python",
   "nbconvert_exporter": "python",
   "pygments_lexer": "ipython3",
   "version": "3.8.16"
  }
 },
 "nbformat": 4,
 "nbformat_minor": 5
}
