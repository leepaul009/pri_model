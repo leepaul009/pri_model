{
 "cells": [
  {
   "cell_type": "code",
   "execution_count": 4,
   "id": "ae1bb59d",
   "metadata": {},
   "outputs": [
    {
     "ename": "ModuleNotFoundError",
     "evalue": "No module named 'utilities'",
     "output_type": "error",
     "traceback": [
      "\u001b[0;31m---------------------------------------------------------------------------\u001b[0m",
      "\u001b[0;31mModuleNotFoundError\u001b[0m                       Traceback (most recent call last)",
      "Cell \u001b[0;32mIn[4], line 8\u001b[0m\n\u001b[1;32m      5\u001b[0m \u001b[38;5;28;01mimport\u001b[39;00m \u001b[38;5;21;01mtorch\u001b[39;00m\n\u001b[1;32m      6\u001b[0m \u001b[38;5;28;01mfrom\u001b[39;00m \u001b[38;5;21;01mtorch\u001b[39;00m\u001b[38;5;21;01m.\u001b[39;00m\u001b[38;5;21;01mutils\u001b[39;00m\u001b[38;5;21;01m.\u001b[39;00m\u001b[38;5;21;01mdata\u001b[39;00m\u001b[38;5;21;01m.\u001b[39;00m\u001b[38;5;21;01msampler\u001b[39;00m \u001b[38;5;28;01mimport\u001b[39;00m Sampler\n\u001b[0;32m----> 8\u001b[0m \u001b[38;5;28;01mfrom\u001b[39;00m \u001b[38;5;21;01mutilities\u001b[39;00m \u001b[38;5;28;01mimport\u001b[39;00m comm\n",
      "\u001b[0;31mModuleNotFoundError\u001b[0m: No module named 'utilities'"
     ]
    }
   ],
   "source": [
    "import itertools\n",
    "import math\n",
    "from collections import defaultdict\n",
    "from typing import Optional\n",
    "import torch\n",
    "from torch.utils.data.sampler import Sampler\n",
    "\n",
    "from utilities import comm"
   ]
  },
  {
   "cell_type": "code",
   "execution_count": 8,
   "id": "d78979d3",
   "metadata": {},
   "outputs": [
    {
     "data": {
      "text/plain": [
       "27"
      ]
     },
     "execution_count": 8,
     "metadata": {},
     "output_type": "execute_result"
    }
   ],
   "source": [
    "proteinseq_toks = {\n",
    "    'toks': ['L', 'A', 'G', 'V', 'S', 'E', 'R', 'T', 'I', 'D', 'P', 'K', 'Q', 'N', 'F', 'Y', 'M', 'H', 'W', 'C', 'X', 'B', 'U', 'Z', 'O', '.', '-']\n",
    "}\n",
    "len(proteinseq_toks['toks'])"
   ]
  },
  {
   "cell_type": "code",
   "execution_count": 9,
   "id": "1995d5cb",
   "metadata": {},
   "outputs": [
    {
     "name": "stdout",
     "output_type": "stream",
     "text": [
      "['<null_0>', '<pad>', '<eos>', '<unk>', 'L', 'A', 'G', 'V', 'S', 'E', 'R', 'T', 'I', 'D', 'P', 'K', 'Q', 'N', 'F', 'Y', 'M', 'H', 'W', 'C', 'X', 'B', 'U', 'Z', 'O', '.', '-']\n",
      "['<null_0>', '<pad>', '<eos>', '<unk>', 'L', 'A', 'G', 'V', 'S', 'E', 'R', 'T', 'I', 'D', 'P', 'K', 'Q', 'N', 'F', 'Y', 'M', 'H', 'W', 'C', 'X', 'B', 'U', 'Z', 'O', '.', '-', '<null_1>']\n",
      "['<null_0>', '<pad>', '<eos>', '<unk>', 'L', 'A', 'G', 'V', 'S', 'E', 'R', 'T', 'I', 'D', 'P', 'K', 'Q', 'N', 'F', 'Y', 'M', 'H', 'W', 'C', 'X', 'B', 'U', 'Z', 'O', '.', '-', '<null_1>', '<cls>', '<mask>', '<sep>']\n"
     ]
    }
   ],
   "source": [
    "\n",
    "standard_toks = proteinseq_toks['toks']\n",
    "prepend_toks = [\"<null_0>\", \"<pad>\", \"<eos>\", \"<unk>\"]\n",
    "append_toks = [\"<cls>\", \"<mask>\", \"<sep>\"]\n",
    "\n",
    "\n",
    "standard_toks = list(standard_toks)\n",
    "prepend_toks = list(prepend_toks)\n",
    "append_toks = list(append_toks)\n",
    "\n",
    "all_toks = list(prepend_toks)\n",
    "all_toks.extend(standard_toks)\n",
    "print(all_toks)\n",
    "for i in range((8 - (len(all_toks) % 8)) % 8):\n",
    "    all_toks.append(f\"<null_{i  + 1}>\")\n",
    "print(all_toks)\n",
    "all_toks.extend(append_toks)\n",
    "print(all_toks)"
   ]
  },
  {
   "cell_type": "code",
   "execution_count": null,
   "id": "2c0edfa9",
   "metadata": {},
   "outputs": [],
   "source": [
    "text\n",
    "plit_text = text.split(tok)\n",
    "plit_text"
   ]
  }
 ],
 "metadata": {
  "kernelspec": {
   "display_name": "Python 3",
   "language": "python",
   "name": "python3"
  },
  "language_info": {
   "codemirror_mode": {
    "name": "ipython",
    "version": 3
   },
   "file_extension": ".py",
   "mimetype": "text/x-python",
   "name": "python",
   "nbconvert_exporter": "python",
   "pygments_lexer": "ipython3",
   "version": "3.8.16"
  }
 },
 "nbformat": 4,
 "nbformat_minor": 5
}
