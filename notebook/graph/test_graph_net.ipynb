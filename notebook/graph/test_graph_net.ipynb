{
 "cells": [
  {
   "cell_type": "code",
   "execution_count": 2,
   "id": "4fd0e57f",
   "metadata": {},
   "outputs": [],
   "source": [
    "import pandas as pd\n",
    "import collections\n",
    "import numpy as np\n",
    "import sys\n",
    "import torch\n",
    "\n",
    "sys.path.append(\"../../\")\n",
    "\n",
    "\n",
    "from preprocessing.protein_chemistry import list_atoms,list_atoms_types,VanDerWaalsRadii,atom_mass,atom_type_to_index,atom_to_index,index_to_type,atom_type_mass\n",
    "from preprocessing.protein_chemistry import residue_dictionary,hetresidue_field\n",
    "\n",
    "from modeling.graph.frames import get_aa_frameCloud, get_atom_frameCloud\n",
    "from preprocessing import sequence_utils\n",
    "\n",
    "\n",
    "import os\n",
    "from typing import Sequence, Tuple, List, Union, Dict\n",
    "import pickle\n",
    "import zlib\n",
    "import torch\n",
    "\n",
    "\n",
    "from data.graph.dataset import \\\n",
    "  readPdbFile, processDataPdbFormat, binarize_categorical\n",
    "from preprocessing import sequence_utils\n",
    "\n",
    "from modeling.graph.frames import get_aa_frameCloud, get_atom_frameCloud\n",
    "from modeling.graph.neighborhoods import FrameBuilder\n",
    "\n",
    "\n",
    "import os\n",
    "import time\n",
    "\n",
    "import argparse\n",
    "import pickle\n",
    "import zlib\n",
    "from tqdm import tqdm\n",
    "\n",
    "import numpy as np\n",
    "import pandas as pd\n",
    "\n",
    "\n",
    "import torch\n",
    "import webdataset as wds\n",
    "\n",
    "from torchvision.datasets import ImageFolder\n",
    "from torch.utils.data import DataLoader\n",
    "\n",
    "from modeling.batch_convert.batch_convert import GraphBatchConvert"
   ]
  },
  {
   "cell_type": "code",
   "execution_count": 4,
   "id": "df58177d",
   "metadata": {},
   "outputs": [
    {
     "name": "stdout",
     "output_type": "stream",
     "text": [
      "torch.Size([16, 51, 20]) torch.Size([16, 51, 4, 3]) torch.Size([16])\n"
     ]
    }
   ],
   "source": [
    "dataset_dir = \"/home/paul/workspace/pri_model/dataset\"\n",
    "# use default graph convert\n",
    "default_pdb_file = os.path.join(dataset_dir, \"P44_relaxed_rank_002_alphafold2_ptm_model_2_seed_000.pdb\")\n",
    "batch_convert = GraphBatchConvert(default_pdb_file=default_pdb_file)\n",
    "\n",
    "url = os.path.join(dataset_dir, \"dna_intensity_dataset/example/dna-1k-{000001..000002}.tar\")\n",
    "dataset = wds.WebDataset(url)\n",
    "dataloader = DataLoader(dataset, num_workers=4, batch_size=16, collate_fn=batch_convert)\n",
    "\n",
    "iter_dataloader = iter(dataloader)"
   ]
  },
  {
   "cell_type": "code",
   "execution_count": 6,
   "id": "5d58c69d",
   "metadata": {},
   "outputs": [
    {
     "name": "stdout",
     "output_type": "stream",
     "text": [
      "torch.Size([16, 52, 20]) torch.Size([16, 52, 4, 3]) torch.Size([16])\n"
     ]
    }
   ],
   "source": [
    "tensor_feats, tensor_frames, labels = next(iter_dataloader)\n",
    "print(tensor_feats.shape, tensor_frames.shape, labels.shape)"
   ]
  },
  {
   "cell_type": "code",
   "execution_count": null,
   "id": "7530818a",
   "metadata": {},
   "outputs": [],
   "source": []
  },
  {
   "cell_type": "code",
   "execution_count": null,
   "id": "4598c57c",
   "metadata": {},
   "outputs": [],
   "source": []
  }
 ],
 "metadata": {
  "kernelspec": {
   "display_name": "Python 3",
   "language": "python",
   "name": "python3"
  },
  "language_info": {
   "codemirror_mode": {
    "name": "ipython",
    "version": 3
   },
   "file_extension": ".py",
   "mimetype": "text/x-python",
   "name": "python",
   "nbconvert_exporter": "python",
   "pygments_lexer": "ipython3",
   "version": "3.8.10"
  }
 },
 "nbformat": 4,
 "nbformat_minor": 5
}
