{
 "cells": [
  {
   "cell_type": "code",
   "execution_count": 2,
   "id": "3e6cc300",
   "metadata": {},
   "outputs": [],
   "source": [
    "import sys\n",
    "sys.path.append(\"../../\")\n",
    "\n",
    "import os\n",
    "import time\n",
    "\n",
    "import argparse\n",
    "import pickle\n",
    "import zlib\n",
    "from tqdm import tqdm\n",
    "\n",
    "import numpy as np\n",
    "import pandas as pd\n",
    "\n",
    "\n",
    "import torch\n",
    "import webdataset as wds\n",
    "\n",
    "from torchvision.datasets import ImageFolder\n",
    "from torch.utils.data import DataLoader\n",
    "\n",
    "from modeling.batch_convert.batch_convert import GraphBatchConvert\n",
    "import utils"
   ]
  },
  {
   "cell_type": "code",
   "execution_count": 3,
   "id": "ea50bebf",
   "metadata": {},
   "outputs": [
    {
     "name": "stdout",
     "output_type": "stream",
     "text": [
      "torch.Size([32, 52, 20]) torch.Size([32, 52, 4, 3]) torch.Size([32])\n"
     ]
    }
   ],
   "source": [
    "dataset_dir = \"/home/paul/workspace/pri_model/dataset\"\n",
    "# use default graph convert\n",
    "default_pdb_file = os.path.join(dataset_dir, \"P44_relaxed_rank_002_alphafold2_ptm_model_2_seed_000.pdb\")\n",
    "batch_convert = GraphBatchConvert(default_pdb_file=default_pdb_file)\n",
    "\n",
    "url = os.path.join(dataset_dir, \"dna_intensity_dataset/example/dna-1k-{000001..000002}.tar\")\n",
    "dataset = wds.WebDataset(url).shuffle(1000)\n",
    "dataloader = DataLoader(dataset, num_workers=4, batch_size=32, collate_fn=batch_convert)\n",
    "\n",
    "\n",
    "for step, data in enumerate(dataloader):\n",
    "    tensor_feats, tensor_frames, labels = data\n",
    "    print(tensor_feats.shape, tensor_frames.shape, labels.shape)\n",
    "    \n",
    "    \n",
    "    \n",
    "    break"
   ]
  },
  {
   "cell_type": "code",
   "execution_count": 6,
   "id": "d3a1b71e",
   "metadata": {},
   "outputs": [
    {
     "ename": "TypeError",
     "evalue": "Caught TypeError in DataLoader worker process 0.\nOriginal Traceback (most recent call last):\n  File \"/home/paul/anaconda3/envs/pytorch/lib/python3.8/site-packages/torch/utils/data/_utils/worker.py\", line 287, in _worker_loop\n    data = fetcher.fetch(index)\n  File \"/home/paul/anaconda3/envs/pytorch/lib/python3.8/site-packages/torch/utils/data/_utils/fetch.py\", line 28, in fetch\n    data.append(next(self.dataset_iter))\n  File \"/home/paul/anaconda3/envs/pytorch/lib/python3.8/site-packages/webdataset/pipeline.py\", line 70, in iterator\n    yield from self.iterator1()\n  File \"/home/paul/anaconda3/envs/pytorch/lib/python3.8/site-packages/webdataset/filters.py\", line 306, in _map\n    if handler(exn):\n  File \"/home/paul/anaconda3/envs/pytorch/lib/python3.8/site-packages/webdataset/filters.py\", line 86, in reraise_exception\n    raise exn\n  File \"/home/paul/anaconda3/envs/pytorch/lib/python3.8/site-packages/webdataset/filters.py\", line 304, in _map\n    result = f(sample)\n  File \"/home/paul/anaconda3/envs/pytorch/lib/python3.8/site-packages/webdataset/autodecode.py\", line 562, in __call__\n    return self.decode(sample)\n  File \"/home/paul/anaconda3/envs/pytorch/lib/python3.8/site-packages/webdataset/autodecode.py\", line 553, in decode\n    result[k] = self.decode1(k, v)\n  File \"/home/paul/anaconda3/envs/pytorch/lib/python3.8/site-packages/webdataset/autodecode.py\", line 518, in decode1\n    result = f(key, data)\nTypeError: __init__() takes 1 positional argument but 3 were given\n",
     "output_type": "error",
     "traceback": [
      "\u001b[0;31m---------------------------------------------------------------------------\u001b[0m",
      "\u001b[0;31mTypeError\u001b[0m                                 Traceback (most recent call last)",
      "\u001b[0;32m<ipython-input-6-57ec0972ab32>\u001b[0m in \u001b[0;36m<module>\u001b[0;34m\u001b[0m\n\u001b[1;32m     21\u001b[0m \u001b[0;34m\u001b[0m\u001b[0m\n\u001b[1;32m     22\u001b[0m \u001b[0;34m\u001b[0m\u001b[0m\n\u001b[0;32m---> 23\u001b[0;31m \u001b[0;32mfor\u001b[0m \u001b[0mstep\u001b[0m\u001b[0;34m,\u001b[0m \u001b[0mdata\u001b[0m \u001b[0;32min\u001b[0m \u001b[0menumerate\u001b[0m\u001b[0;34m(\u001b[0m\u001b[0mdataloader\u001b[0m\u001b[0;34m)\u001b[0m\u001b[0;34m:\u001b[0m\u001b[0;34m\u001b[0m\u001b[0;34m\u001b[0m\u001b[0m\n\u001b[0m\u001b[1;32m     24\u001b[0m     \u001b[0mtensor_feats\u001b[0m\u001b[0;34m,\u001b[0m \u001b[0mtensor_frames\u001b[0m\u001b[0;34m,\u001b[0m \u001b[0mlabels\u001b[0m \u001b[0;34m=\u001b[0m \u001b[0mdata\u001b[0m\u001b[0;34m\u001b[0m\u001b[0;34m\u001b[0m\u001b[0m\n\u001b[1;32m     25\u001b[0m     \u001b[0mprint\u001b[0m\u001b[0;34m(\u001b[0m\u001b[0mtensor_feats\u001b[0m\u001b[0;34m.\u001b[0m\u001b[0mshape\u001b[0m\u001b[0;34m,\u001b[0m \u001b[0mtensor_frames\u001b[0m\u001b[0;34m.\u001b[0m\u001b[0mshape\u001b[0m\u001b[0;34m,\u001b[0m \u001b[0mlabels\u001b[0m\u001b[0;34m.\u001b[0m\u001b[0mshape\u001b[0m\u001b[0;34m)\u001b[0m\u001b[0;34m\u001b[0m\u001b[0;34m\u001b[0m\u001b[0m\n",
      "\u001b[0;32m~/anaconda3/envs/pytorch/lib/python3.8/site-packages/torch/utils/data/dataloader.py\u001b[0m in \u001b[0;36m__next__\u001b[0;34m(self)\u001b[0m\n\u001b[1;32m    519\u001b[0m             \u001b[0;32mif\u001b[0m \u001b[0mself\u001b[0m\u001b[0;34m.\u001b[0m\u001b[0m_sampler_iter\u001b[0m \u001b[0;32mis\u001b[0m \u001b[0;32mNone\u001b[0m\u001b[0;34m:\u001b[0m\u001b[0;34m\u001b[0m\u001b[0;34m\u001b[0m\u001b[0m\n\u001b[1;32m    520\u001b[0m                 \u001b[0mself\u001b[0m\u001b[0;34m.\u001b[0m\u001b[0m_reset\u001b[0m\u001b[0;34m(\u001b[0m\u001b[0;34m)\u001b[0m\u001b[0;34m\u001b[0m\u001b[0;34m\u001b[0m\u001b[0m\n\u001b[0;32m--> 521\u001b[0;31m             \u001b[0mdata\u001b[0m \u001b[0;34m=\u001b[0m \u001b[0mself\u001b[0m\u001b[0;34m.\u001b[0m\u001b[0m_next_data\u001b[0m\u001b[0;34m(\u001b[0m\u001b[0;34m)\u001b[0m\u001b[0;34m\u001b[0m\u001b[0;34m\u001b[0m\u001b[0m\n\u001b[0m\u001b[1;32m    522\u001b[0m             \u001b[0mself\u001b[0m\u001b[0;34m.\u001b[0m\u001b[0m_num_yielded\u001b[0m \u001b[0;34m+=\u001b[0m \u001b[0;36m1\u001b[0m\u001b[0;34m\u001b[0m\u001b[0;34m\u001b[0m\u001b[0m\n\u001b[1;32m    523\u001b[0m             \u001b[0;32mif\u001b[0m \u001b[0mself\u001b[0m\u001b[0;34m.\u001b[0m\u001b[0m_dataset_kind\u001b[0m \u001b[0;34m==\u001b[0m \u001b[0m_DatasetKind\u001b[0m\u001b[0;34m.\u001b[0m\u001b[0mIterable\u001b[0m \u001b[0;32mand\u001b[0m\u001b[0;31m \u001b[0m\u001b[0;31m\\\u001b[0m\u001b[0;34m\u001b[0m\u001b[0;34m\u001b[0m\u001b[0m\n",
      "\u001b[0;32m~/anaconda3/envs/pytorch/lib/python3.8/site-packages/torch/utils/data/dataloader.py\u001b[0m in \u001b[0;36m_next_data\u001b[0;34m(self)\u001b[0m\n\u001b[1;32m   1201\u001b[0m             \u001b[0;32melse\u001b[0m\u001b[0;34m:\u001b[0m\u001b[0;34m\u001b[0m\u001b[0;34m\u001b[0m\u001b[0m\n\u001b[1;32m   1202\u001b[0m                 \u001b[0;32mdel\u001b[0m \u001b[0mself\u001b[0m\u001b[0;34m.\u001b[0m\u001b[0m_task_info\u001b[0m\u001b[0;34m[\u001b[0m\u001b[0midx\u001b[0m\u001b[0;34m]\u001b[0m\u001b[0;34m\u001b[0m\u001b[0;34m\u001b[0m\u001b[0m\n\u001b[0;32m-> 1203\u001b[0;31m                 \u001b[0;32mreturn\u001b[0m \u001b[0mself\u001b[0m\u001b[0;34m.\u001b[0m\u001b[0m_process_data\u001b[0m\u001b[0;34m(\u001b[0m\u001b[0mdata\u001b[0m\u001b[0;34m)\u001b[0m\u001b[0;34m\u001b[0m\u001b[0;34m\u001b[0m\u001b[0m\n\u001b[0m\u001b[1;32m   1204\u001b[0m \u001b[0;34m\u001b[0m\u001b[0m\n\u001b[1;32m   1205\u001b[0m     \u001b[0;32mdef\u001b[0m \u001b[0m_try_put_index\u001b[0m\u001b[0;34m(\u001b[0m\u001b[0mself\u001b[0m\u001b[0;34m)\u001b[0m\u001b[0;34m:\u001b[0m\u001b[0;34m\u001b[0m\u001b[0;34m\u001b[0m\u001b[0m\n",
      "\u001b[0;32m~/anaconda3/envs/pytorch/lib/python3.8/site-packages/torch/utils/data/dataloader.py\u001b[0m in \u001b[0;36m_process_data\u001b[0;34m(self, data)\u001b[0m\n\u001b[1;32m   1227\u001b[0m         \u001b[0mself\u001b[0m\u001b[0;34m.\u001b[0m\u001b[0m_try_put_index\u001b[0m\u001b[0;34m(\u001b[0m\u001b[0;34m)\u001b[0m\u001b[0;34m\u001b[0m\u001b[0;34m\u001b[0m\u001b[0m\n\u001b[1;32m   1228\u001b[0m         \u001b[0;32mif\u001b[0m \u001b[0misinstance\u001b[0m\u001b[0;34m(\u001b[0m\u001b[0mdata\u001b[0m\u001b[0;34m,\u001b[0m \u001b[0mExceptionWrapper\u001b[0m\u001b[0;34m)\u001b[0m\u001b[0;34m:\u001b[0m\u001b[0;34m\u001b[0m\u001b[0;34m\u001b[0m\u001b[0m\n\u001b[0;32m-> 1229\u001b[0;31m             \u001b[0mdata\u001b[0m\u001b[0;34m.\u001b[0m\u001b[0mreraise\u001b[0m\u001b[0;34m(\u001b[0m\u001b[0;34m)\u001b[0m\u001b[0;34m\u001b[0m\u001b[0;34m\u001b[0m\u001b[0m\n\u001b[0m\u001b[1;32m   1230\u001b[0m         \u001b[0;32mreturn\u001b[0m \u001b[0mdata\u001b[0m\u001b[0;34m\u001b[0m\u001b[0;34m\u001b[0m\u001b[0m\n\u001b[1;32m   1231\u001b[0m \u001b[0;34m\u001b[0m\u001b[0m\n",
      "\u001b[0;32m~/anaconda3/envs/pytorch/lib/python3.8/site-packages/torch/_utils.py\u001b[0m in \u001b[0;36mreraise\u001b[0;34m(self)\u001b[0m\n\u001b[1;32m    423\u001b[0m             \u001b[0;31m# have message field\u001b[0m\u001b[0;34m\u001b[0m\u001b[0;34m\u001b[0m\u001b[0;34m\u001b[0m\u001b[0m\n\u001b[1;32m    424\u001b[0m             \u001b[0;32mraise\u001b[0m \u001b[0mself\u001b[0m\u001b[0;34m.\u001b[0m\u001b[0mexc_type\u001b[0m\u001b[0;34m(\u001b[0m\u001b[0mmessage\u001b[0m\u001b[0;34m=\u001b[0m\u001b[0mmsg\u001b[0m\u001b[0;34m)\u001b[0m\u001b[0;34m\u001b[0m\u001b[0;34m\u001b[0m\u001b[0m\n\u001b[0;32m--> 425\u001b[0;31m         \u001b[0;32mraise\u001b[0m \u001b[0mself\u001b[0m\u001b[0;34m.\u001b[0m\u001b[0mexc_type\u001b[0m\u001b[0;34m(\u001b[0m\u001b[0mmsg\u001b[0m\u001b[0;34m)\u001b[0m\u001b[0;34m\u001b[0m\u001b[0;34m\u001b[0m\u001b[0m\n\u001b[0m\u001b[1;32m    426\u001b[0m \u001b[0;34m\u001b[0m\u001b[0m\n\u001b[1;32m    427\u001b[0m \u001b[0;34m\u001b[0m\u001b[0m\n",
      "\u001b[0;31mTypeError\u001b[0m: Caught TypeError in DataLoader worker process 0.\nOriginal Traceback (most recent call last):\n  File \"/home/paul/anaconda3/envs/pytorch/lib/python3.8/site-packages/torch/utils/data/_utils/worker.py\", line 287, in _worker_loop\n    data = fetcher.fetch(index)\n  File \"/home/paul/anaconda3/envs/pytorch/lib/python3.8/site-packages/torch/utils/data/_utils/fetch.py\", line 28, in fetch\n    data.append(next(self.dataset_iter))\n  File \"/home/paul/anaconda3/envs/pytorch/lib/python3.8/site-packages/webdataset/pipeline.py\", line 70, in iterator\n    yield from self.iterator1()\n  File \"/home/paul/anaconda3/envs/pytorch/lib/python3.8/site-packages/webdataset/filters.py\", line 306, in _map\n    if handler(exn):\n  File \"/home/paul/anaconda3/envs/pytorch/lib/python3.8/site-packages/webdataset/filters.py\", line 86, in reraise_exception\n    raise exn\n  File \"/home/paul/anaconda3/envs/pytorch/lib/python3.8/site-packages/webdataset/filters.py\", line 304, in _map\n    result = f(sample)\n  File \"/home/paul/anaconda3/envs/pytorch/lib/python3.8/site-packages/webdataset/autodecode.py\", line 562, in __call__\n    return self.decode(sample)\n  File \"/home/paul/anaconda3/envs/pytorch/lib/python3.8/site-packages/webdataset/autodecode.py\", line 553, in decode\n    result[k] = self.decode1(k, v)\n  File \"/home/paul/anaconda3/envs/pytorch/lib/python3.8/site-packages/webdataset/autodecode.py\", line 518, in decode1\n    result = f(key, data)\nTypeError: __init__() takes 1 positional argument but 3 were given\n"
     ]
    }
   ],
   "source": [
    "dataset_dir = \"/home/paul/workspace/pri_model/dataset\"\n",
    "# use default graph convert\n",
    "default_pdb_file = os.path.join(dataset_dir, \"P44_relaxed_rank_002_alphafold2_ptm_model_2_seed_000.pdb\")\n",
    "batch_convert = GraphBatchConvert(default_pdb_file=default_pdb_file)\n",
    "\n",
    "def my_decoder(key, value):\n",
    "    print(key, type(value))\n",
    "    return value\n",
    "\n",
    "class Convert(object):\n",
    "    def __init__(self,):\n",
    "        self.c = 1\n",
    "    def __call__(self, inputs):\n",
    "        key, value = inputs\n",
    "        \n",
    "\n",
    "\n",
    "url = os.path.join(dataset_dir, \"dna_intensity_dataset/example/dna-1k-{000001..000002}.tar\")\n",
    "dataset = wds.WebDataset(url).shuffle(1000).decode(Convert)\n",
    "dataloader = DataLoader(dataset, num_workers=4, batch_size=4)\n",
    "\n",
    "\n",
    "for step, data in enumerate(dataloader):\n",
    "    tensor_feats, tensor_frames, labels = data\n",
    "    print(tensor_feats.shape, tensor_frames.shape, labels.shape)\n",
    "    \n",
    "    \n",
    "    \n",
    "    break"
   ]
  },
  {
   "cell_type": "code",
   "execution_count": null,
   "id": "0a15d1d1",
   "metadata": {},
   "outputs": [],
   "source": []
  },
  {
   "cell_type": "code",
   "execution_count": null,
   "id": "82f80b73",
   "metadata": {},
   "outputs": [],
   "source": []
  }
 ],
 "metadata": {
  "kernelspec": {
   "display_name": "Python 3",
   "language": "python",
   "name": "python3"
  },
  "language_info": {
   "codemirror_mode": {
    "name": "ipython",
    "version": 3
   },
   "file_extension": ".py",
   "mimetype": "text/x-python",
   "name": "python",
   "nbconvert_exporter": "python",
   "pygments_lexer": "ipython3",
   "version": "3.8.10"
  }
 },
 "nbformat": 4,
 "nbformat_minor": 5
}
