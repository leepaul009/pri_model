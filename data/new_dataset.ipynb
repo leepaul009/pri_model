{
 "cells": [
  {
   "cell_type": "code",
   "execution_count": 12,
   "id": "b46100ea",
   "metadata": {},
   "outputs": [
    {
     "name": "stdout",
     "output_type": "stream",
     "text": [
      "1154\n",
      "2240\n"
     ]
    },
    {
     "data": {
      "text/html": [
       "<div>\n",
       "<style scoped>\n",
       "    .dataframe tbody tr th:only-of-type {\n",
       "        vertical-align: middle;\n",
       "    }\n",
       "\n",
       "    .dataframe tbody tr th {\n",
       "        vertical-align: top;\n",
       "    }\n",
       "\n",
       "    .dataframe thead th {\n",
       "        text-align: right;\n",
       "    }\n",
       "</style>\n",
       "<table border=\"1\" class=\"dataframe\">\n",
       "  <thead>\n",
       "    <tr style=\"text-align: right;\">\n",
       "      <th></th>\n",
       "      <th>Motif_ID</th>\n",
       "      <th>Family_Name</th>\n",
       "      <th>protein_sequence</th>\n",
       "      <th>probe_intensity_file</th>\n",
       "    </tr>\n",
       "  </thead>\n",
       "  <tbody>\n",
       "    <tr>\n",
       "      <th>0</th>\n",
       "      <td>M02500_2.00</td>\n",
       "      <td>TCP</td>\n",
       "      <td>TGRKDRHSKVCTAKGPRDRRVRLSAPTAIQFYDVQDRLGFDRPSKA...</td>\n",
       "      <td>M02500_2.00:Zoo_01:6104.txt</td>\n",
       "    </tr>\n",
       "    <tr>\n",
       "      <th>1</th>\n",
       "      <td>M02500_2.00</td>\n",
       "      <td>TCP</td>\n",
       "      <td>TGRKDRHSKVCTAKGPRDRRVRLSAPTAIQFYDVQDRLGFDRPSKA...</td>\n",
       "      <td>M02500_2.00:Zoo_01:6113.txt</td>\n",
       "    </tr>\n",
       "    <tr>\n",
       "      <th>2</th>\n",
       "      <td>M01812_2.00</td>\n",
       "      <td>bZIP</td>\n",
       "      <td>EKALKKIRRKIKNKISAQESRRKKKEYMDSLEKKVESCSTENLELR...</td>\n",
       "      <td>M01812_2.00:Zoo_01:1186.txt</td>\n",
       "    </tr>\n",
       "    <tr>\n",
       "      <th>3</th>\n",
       "      <td>M01812_2.00</td>\n",
       "      <td>bZIP</td>\n",
       "      <td>EKALKKIRRKIKNKISAQESRRKKKEYMDSLEKKVESCSTENLELR...</td>\n",
       "      <td>M01812_2.00:Zoo_01:126.txt</td>\n",
       "    </tr>\n",
       "    <tr>\n",
       "      <th>4</th>\n",
       "      <td>M01674_2.00</td>\n",
       "      <td>AT hook</td>\n",
       "      <td>KRKRGRPRKYEHS</td>\n",
       "      <td>M01674_2.00:Zoo_01:6690.txt</td>\n",
       "    </tr>\n",
       "    <tr>\n",
       "      <th>5</th>\n",
       "      <td>M01674_2.00</td>\n",
       "      <td>AT hook</td>\n",
       "      <td>KRKRGRPRKYEHS</td>\n",
       "      <td>M01674_2.00:Zoo_01:6771.txt</td>\n",
       "    </tr>\n",
       "    <tr>\n",
       "      <th>6</th>\n",
       "      <td>M01704_2.00</td>\n",
       "      <td>bHLH</td>\n",
       "      <td>PGTKACREKLRREKLNDKFMDLSSVLEPGRTPKTDKSAILDDAIRV...</td>\n",
       "      <td>M01704_2.00:Zoo_01:4421.txt</td>\n",
       "    </tr>\n",
       "    <tr>\n",
       "      <th>7</th>\n",
       "      <td>M01704_2.00</td>\n",
       "      <td>bHLH</td>\n",
       "      <td>PGTKACREKLRREKLNDKFMDLSSVLEPGRTPKTDKSAILDDAIRV...</td>\n",
       "      <td>M01704_2.00:Zoo_01:4208.txt</td>\n",
       "    </tr>\n",
       "    <tr>\n",
       "      <th>8</th>\n",
       "      <td>M01993_2.00</td>\n",
       "      <td>Forkhead</td>\n",
       "      <td>KAELPYAQLIYKAFMSTPNKAMTLQDIYQWFRENTEKGKSDTKGWQ...</td>\n",
       "      <td>M01993_2.00:Zoo_01:7862.txt</td>\n",
       "    </tr>\n",
       "    <tr>\n",
       "      <th>9</th>\n",
       "      <td>M01993_2.00</td>\n",
       "      <td>Forkhead</td>\n",
       "      <td>KAELPYAQLIYKAFMSTPNKAMTLQDIYQWFRENTEKGKSDTKGWQ...</td>\n",
       "      <td>M01993_2.00:Zoo_01:7843.txt</td>\n",
       "    </tr>\n",
       "  </tbody>\n",
       "</table>\n",
       "</div>"
      ],
      "text/plain": [
       "      Motif_ID Family_Name                                   protein_sequence  \\\n",
       "0  M02500_2.00         TCP  TGRKDRHSKVCTAKGPRDRRVRLSAPTAIQFYDVQDRLGFDRPSKA...   \n",
       "1  M02500_2.00         TCP  TGRKDRHSKVCTAKGPRDRRVRLSAPTAIQFYDVQDRLGFDRPSKA...   \n",
       "2  M01812_2.00        bZIP  EKALKKIRRKIKNKISAQESRRKKKEYMDSLEKKVESCSTENLELR...   \n",
       "3  M01812_2.00        bZIP  EKALKKIRRKIKNKISAQESRRKKKEYMDSLEKKVESCSTENLELR...   \n",
       "4  M01674_2.00     AT hook                                      KRKRGRPRKYEHS   \n",
       "5  M01674_2.00     AT hook                                      KRKRGRPRKYEHS   \n",
       "6  M01704_2.00        bHLH  PGTKACREKLRREKLNDKFMDLSSVLEPGRTPKTDKSAILDDAIRV...   \n",
       "7  M01704_2.00        bHLH  PGTKACREKLRREKLNDKFMDLSSVLEPGRTPKTDKSAILDDAIRV...   \n",
       "8  M01993_2.00    Forkhead  KAELPYAQLIYKAFMSTPNKAMTLQDIYQWFRENTEKGKSDTKGWQ...   \n",
       "9  M01993_2.00    Forkhead  KAELPYAQLIYKAFMSTPNKAMTLQDIYQWFRENTEKGKSDTKGWQ...   \n",
       "\n",
       "          probe_intensity_file  \n",
       "0  M02500_2.00:Zoo_01:6104.txt  \n",
       "1  M02500_2.00:Zoo_01:6113.txt  \n",
       "2  M01812_2.00:Zoo_01:1186.txt  \n",
       "3   M01812_2.00:Zoo_01:126.txt  \n",
       "4  M01674_2.00:Zoo_01:6690.txt  \n",
       "5  M01674_2.00:Zoo_01:6771.txt  \n",
       "6  M01704_2.00:Zoo_01:4421.txt  \n",
       "7  M01704_2.00:Zoo_01:4208.txt  \n",
       "8  M01993_2.00:Zoo_01:7862.txt  \n",
       "9  M01993_2.00:Zoo_01:7843.txt  "
      ]
     },
     "execution_count": 12,
     "metadata": {},
     "output_type": "execute_result"
    }
   ],
   "source": [
    "import numpy as np\n",
    "import pandas as pd\n",
    "import os\n",
    "import matplotlib.pyplot as plt\n",
    "import numpy as np\n",
    "from tqdm import tqdm\n",
    "\n",
    "root_dir = '../dataset/dna_dataset'\n",
    "sub_dir = 'relative_dna_dnaseq_intensity'\n",
    "madf = pd.read_csv(os.path.join(root_dir, 'relative_dna_proteinseq.txt'), sep='\\t')\n",
    "\n",
    "unique_pseq = np.unique(madf['protein_sequence'].values)\n",
    "print(len(unique_pseq))\n",
    "print(len(madf))\n",
    "madf.head(10)"
   ]
  },
  {
   "cell_type": "code",
   "execution_count": 14,
   "id": "70e762e6",
   "metadata": {},
   "outputs": [
    {
     "name": "stderr",
     "output_type": "stream",
     "text": [
      "100%|██████████| 1154/1154 [00:28<00:00, 40.59it/s]\n"
     ]
    },
    {
     "data": {
      "text/plain": [
       "1154"
      ]
     },
     "execution_count": 14,
     "metadata": {},
     "output_type": "execute_result"
    }
   ],
   "source": [
    "def func(subf):\n",
    "    f = open(subf, 'r')\n",
    "    lines = f.readlines()\n",
    "    vals = list()\n",
    "    for line in lines:\n",
    "        tmp = line.rstrip().split('\\t')\n",
    "        # seq, val = tmp[0], tmp[1]\n",
    "        val = float(tmp[1])\n",
    "        if not isinstance(val, float):\n",
    "            print(\"not float {}\".format(val))\n",
    "            val = 0.0\n",
    "        vals.append(val)\n",
    "    vals = np.array(vals)\n",
    "    return vals\n",
    "\n",
    "ind = 0\n",
    "list_vals = []\n",
    "for k, subdf in tqdm(madf.groupby('protein_sequence')):\n",
    "    #pseq = subdf['protein_sequence'].values[0]\n",
    "    \n",
    "    for f in subdf['probe_intensity_file'].values:\n",
    "        subf = os.path.join(root_dir, sub_dir, f)\n",
    "        vals = func(subf)\n",
    "        list_vals.append(vals)\n",
    "    ind+=1\n",
    "ind"
   ]
  },
  {
   "cell_type": "code",
   "execution_count": 15,
   "id": "27508f83",
   "metadata": {},
   "outputs": [
    {
     "name": "stdout",
     "output_type": "stream",
     "text": [
      "4834.188361720781 10629.057109104138\n"
     ]
    }
   ],
   "source": [
    "final_vals = np.concatenate(list_vals)\n",
    "mean, std = final_vals.mean(), final_vals.std()\n",
    "print(mean, std)"
   ]
  },
  {
   "cell_type": "code",
   "execution_count": 17,
   "id": "b46026f3",
   "metadata": {},
   "outputs": [
    {
     "data": {
      "text/plain": [
       "array([-0.34515076, -0.32738076, -0.40559467, -0.29007674, -0.20763454,\n",
       "        0.54876898,  0.10001012, -0.00829132,  0.37198076, -0.02285666,\n",
       "       -0.4355076 , -0.44561212, -0.12433379, -0.01812538, -0.20566813,\n",
       "       -0.16001768, -0.45045108, -0.36708279, -0.37426508, -0.08293262,\n",
       "       -0.00219208,  0.96916863, -0.25186618,  0.43022424,  0.47007952,\n",
       "       -0.16328158, -0.34254268, -0.30369227, -0.33981316, -0.10488159,\n",
       "       -0.32878434,  0.17027745, -0.21249365, -0.36373988, -0.43960175,\n",
       "        0.85548468, -0.23357441, -0.02171487, -0.4396507 ,  0.92555697,\n",
       "       -0.42612652, -0.36404533, -0.43245461, -0.44989972, -0.34316451,\n",
       "       -0.4413976 , -0.13675979, -0.30345274,  0.76480282, -0.24377511,\n",
       "       -0.0976398 , -0.221019  ,  0.13364337, -0.40543348, -0.28337537,\n",
       "       -0.26320438, -0.30669551, -0.43368089, -0.44980816, -0.32977641,\n",
       "       -0.33629816, -0.0271162 , -0.18508274, -0.44642052, -0.35896731,\n",
       "       -0.42890227,  0.14111202, -0.29730237, -0.21123045,  1.68532871,\n",
       "        0.17125231, -0.00961346, -0.40496734, -0.44362665, -0.42907219,\n",
       "       -0.13058331,  0.20875858, -0.33705398, -0.05720196, -0.35954865,\n",
       "       -0.28564015,  1.02331845, -0.2213603 , -0.30397867,  0.66248472,\n",
       "       -0.43512217, -0.17340719, -0.20478028, -0.42487599, -0.42403147,\n",
       "       -0.34352868, -0.23012584, -0.38644839, -0.21752918, -0.26098051,\n",
       "        0.65661766, -0.30426144, -0.08249755, -0.41117225, -0.43320452])"
      ]
     },
     "execution_count": 17,
     "metadata": {},
     "output_type": "execute_result"
    }
   ],
   "source": [
    "final_vals2 = (final_vals - mean) /  std\n",
    "\n",
    "sz = len(final_vals2)\n",
    "inds = np.arange(sz)\n",
    "shuf_inds = np.random.permutation(sz)\n",
    "final_vals2[inds[shuf_inds[:100]]]"
   ]
  },
  {
   "cell_type": "code",
   "execution_count": 19,
   "id": "2626160b",
   "metadata": {},
   "outputs": [
    {
     "name": "stderr",
     "output_type": "stream",
     "text": [
      "/home/megvii/anaconda3/envs/paul-py3/lib/python3.8/site-packages/sklearn/cluster/_kmeans.py:870: FutureWarning: The default value of `n_init` will change from 10 to 'auto' in 1.4. Set the value of `n_init` explicitly to suppress the warning\n",
      "  warnings.warn(\n"
     ]
    },
    {
     "name": "stdout",
     "output_type": "stream",
     "text": [
      "fit done\n"
     ]
    },
    {
     "name": "stderr",
     "output_type": "stream",
     "text": [
      "100%|██████████| 8/8 [00:00<00:00, 12.08it/s]\n"
     ]
    },
    {
     "data": {
      "text/plain": [
       "{0.9806687660292668: (1.7741456222045462, 0.5540604098584603, 6485921),\n",
       " 5.061624169511751: (7.29276750596195, 3.8141536971006618, 817975),\n",
       " 19.49504281811333: (29.29970319548812, 14.508400402676708, 35554),\n",
       " -0.3340462116534165: (-0.10315338890988351, -3.6053644228655566, 60999887),\n",
       " 2.568771040536042: (3.8141479081483802, 1.774145810367991, 1864191),\n",
       " 9.527953805035844: (14.508210326276398, 7.29279610884448, 156324),\n",
       " 39.11289265753756: (139.04357695022424, 29.302534212498763, 7512),\n",
       " 0.12786895172032997: (0.5540603157767379, -0.10315337009353903, 20418471)}"
      ]
     },
     "execution_count": 19,
     "metadata": {},
     "output_type": "execute_result"
    }
   ],
   "source": [
    "from sklearn.cluster import KMeans\n",
    "\n",
    "bin_info = dict()\n",
    "# TODO: \n",
    "dgs = final_vals2\n",
    "\n",
    "X = dgs.reshape(-1,1)\n",
    "# TODO: make n_cluster a parameters\n",
    "model = KMeans(n_clusters=8)\n",
    "\n",
    "model.fit(X)\n",
    "print('fit done')\n",
    "yhat = model.predict(X)\n",
    "clusters = np.unique(yhat)\n",
    "for cluster in tqdm(clusters):\n",
    "    row_ix = np.where(yhat == cluster)\n",
    "    cur_x = X[row_ix]\n",
    "    # cur_x.mean(), cur_x.max(), cur_x.min(), len(cur_x)\n",
    "    bin_info[cur_x.mean()] = ( cur_x.max(), cur_x.min(), len(cur_x) )\n",
    "\n",
    "bin_info"
   ]
  },
  {
   "cell_type": "code",
   "execution_count": null,
   "id": "8ff9151c",
   "metadata": {},
   "outputs": [],
   "source": []
  }
 ],
 "metadata": {
  "kernelspec": {
   "display_name": "Python 3",
   "language": "python",
   "name": "python3"
  },
  "language_info": {
   "codemirror_mode": {
    "name": "ipython",
    "version": 3
   },
   "file_extension": ".py",
   "mimetype": "text/x-python",
   "name": "python",
   "nbconvert_exporter": "python",
   "pygments_lexer": "ipython3",
   "version": "3.8.16"
  }
 },
 "nbformat": 4,
 "nbformat_minor": 5
}
