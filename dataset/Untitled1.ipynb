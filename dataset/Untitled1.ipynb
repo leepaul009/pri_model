{
 "cells": [
  {
   "cell_type": "code",
   "execution_count": 17,
   "id": "db6cb6dd",
   "metadata": {},
   "outputs": [
    {
     "name": "stdout",
     "output_type": "stream",
     "text": [
      "17199\n"
     ]
    },
    {
     "data": {
      "text/html": [
       "<div>\n",
       "<style scoped>\n",
       "    .dataframe tbody tr th:only-of-type {\n",
       "        vertical-align: middle;\n",
       "    }\n",
       "\n",
       "    .dataframe tbody tr th {\n",
       "        vertical-align: top;\n",
       "    }\n",
       "\n",
       "    .dataframe thead th {\n",
       "        text-align: right;\n",
       "    }\n",
       "</style>\n",
       "<table border=\"1\" class=\"dataframe\">\n",
       "  <thead>\n",
       "    <tr style=\"text-align: right;\">\n",
       "      <th></th>\n",
       "      <th>exp_id</th>\n",
       "      <th>key_complex</th>\n",
       "      <th>UniProt</th>\n",
       "      <th>protein_sequence</th>\n",
       "      <th>nucleotide_sequence</th>\n",
       "      <th>nucleic_acid_type_new</th>\n",
       "      <th>dG</th>\n",
       "      <th>dG_ori</th>\n",
       "      <th>protein_index</th>\n",
       "      <th>key_nucleic_acids</th>\n",
       "      <th>wt_complex</th>\n",
       "      <th>pclass</th>\n",
       "      <th>nuclass</th>\n",
       "      <th>base_class</th>\n",
       "      <th>avg_dist_to_others</th>\n",
       "    </tr>\n",
       "  </thead>\n",
       "  <tbody>\n",
       "    <tr>\n",
       "      <th>0</th>\n",
       "      <td>0</td>\n",
       "      <td>0</td>\n",
       "      <td>P04150</td>\n",
       "      <td>MDSKESLTPGREENPSSVLAQERGDVMDFYKTLRGGATVKVSASSP...</td>\n",
       "      <td>CGCCTCCGGGAGAGCT</td>\n",
       "      <td>ssDNA</td>\n",
       "      <td>-8.79</td>\n",
       "      <td>-8.79</td>\n",
       "      <td>protein_6</td>\n",
       "      <td>Single_DNA_0</td>\n",
       "      <td>True</td>\n",
       "      <td>PCluster_445</td>\n",
       "      <td>SDNACluster_1394</td>\n",
       "      <td>SDNACluster_1394-PCluster_445</td>\n",
       "      <td>3.384718</td>\n",
       "    </tr>\n",
       "    <tr>\n",
       "      <th>1</th>\n",
       "      <td>1</td>\n",
       "      <td>1</td>\n",
       "      <td>P27694</td>\n",
       "      <td>MVGQLSEGAIAAIMQKGDTNIKPILQVINIRPITTGNSPPRYRLLM...</td>\n",
       "      <td>CTCTTCCCCCTCTCCTTCTTGCGCTCTTCCTTCCCCTTCCCT</td>\n",
       "      <td>ssDNA</td>\n",
       "      <td>-7.83</td>\n",
       "      <td>-7.83</td>\n",
       "      <td>protein_12</td>\n",
       "      <td>Single_DNA_1</td>\n",
       "      <td>True</td>\n",
       "      <td>PCluster_446</td>\n",
       "      <td>SDNACluster_1441</td>\n",
       "      <td>SDNACluster_1441-PCluster_446</td>\n",
       "      <td>3.386447</td>\n",
       "    </tr>\n",
       "    <tr>\n",
       "      <th>2</th>\n",
       "      <td>2</td>\n",
       "      <td>2</td>\n",
       "      <td>P27694</td>\n",
       "      <td>MVGQLSEGAIAAIMQKGDTNIKPILQVINIRPITTGNSPPRYRLLM...</td>\n",
       "      <td>CCCTTCTTTCTCTTCCCCCTCTCCTTCTTGCGCTCTTCCTTCCCCT...</td>\n",
       "      <td>ssDNA</td>\n",
       "      <td>-7.99</td>\n",
       "      <td>-7.99</td>\n",
       "      <td>protein_12</td>\n",
       "      <td>Single_DNA_2</td>\n",
       "      <td>True</td>\n",
       "      <td>PCluster_446</td>\n",
       "      <td>SDNACluster_1441</td>\n",
       "      <td>SDNACluster_1441-PCluster_446</td>\n",
       "      <td>3.386447</td>\n",
       "    </tr>\n",
       "  </tbody>\n",
       "</table>\n",
       "</div>"
      ],
      "text/plain": [
       "   exp_id  key_complex UniProt  \\\n",
       "0       0            0  P04150   \n",
       "1       1            1  P27694   \n",
       "2       2            2  P27694   \n",
       "\n",
       "                                    protein_sequence  \\\n",
       "0  MDSKESLTPGREENPSSVLAQERGDVMDFYKTLRGGATVKVSASSP...   \n",
       "1  MVGQLSEGAIAAIMQKGDTNIKPILQVINIRPITTGNSPPRYRLLM...   \n",
       "2  MVGQLSEGAIAAIMQKGDTNIKPILQVINIRPITTGNSPPRYRLLM...   \n",
       "\n",
       "                                 nucleotide_sequence nucleic_acid_type_new  \\\n",
       "0                                   CGCCTCCGGGAGAGCT                 ssDNA   \n",
       "1         CTCTTCCCCCTCTCCTTCTTGCGCTCTTCCTTCCCCTTCCCT                 ssDNA   \n",
       "2  CCCTTCTTTCTCTTCCCCCTCTCCTTCTTGCGCTCTTCCTTCCCCT...                 ssDNA   \n",
       "\n",
       "     dG  dG_ori protein_index key_nucleic_acids  wt_complex        pclass  \\\n",
       "0 -8.79   -8.79     protein_6      Single_DNA_0        True  PCluster_445   \n",
       "1 -7.83   -7.83    protein_12      Single_DNA_1        True  PCluster_446   \n",
       "2 -7.99   -7.99    protein_12      Single_DNA_2        True  PCluster_446   \n",
       "\n",
       "            nuclass                     base_class  avg_dist_to_others  \n",
       "0  SDNACluster_1394  SDNACluster_1394-PCluster_445            3.384718  \n",
       "1  SDNACluster_1441  SDNACluster_1441-PCluster_446            3.386447  \n",
       "2  SDNACluster_1441  SDNACluster_1441-PCluster_446            3.386447  "
      ]
     },
     "execution_count": 17,
     "metadata": {},
     "output_type": "execute_result"
    }
   ],
   "source": [
    "import numpy as np\n",
    "import pandas as pd\n",
    "import os\n",
    "import matplotlib.pyplot as plt\n",
    "import numpy as np\n",
    "\n",
    "from tqdm import tqdm\n",
    "np.set_printoptions(suppress=True)\n",
    "pd.set_option('display.max_columns', 100)\n",
    "import sys\n",
    "np.set_printoptions(threshold=sys.maxsize)\n",
    "### global variable:\n",
    "g_nucleic_acids_types = ['dsDNA', 'dsRNA', 'ssDNA', 'ssRNA']\n",
    "\n",
    "\n",
    "param_load = False\n",
    "data_root = '../data/_datasets/cluster_res'\n",
    "# data_root = 'data/_datasets/cluster_res'\n",
    "output_dir = 'out_v01'\n",
    "\n",
    "# 主要数据\n",
    "# mainf = 'seq_dg_v02.txt'\n",
    "mainf = 'seq_dg_v02_1.txt'\n",
    "wtf = 'wt_v02.tsv'\n",
    "\n",
    "\n",
    "def createDir(p):\n",
    "  if not os.path.exists(p):\n",
    "    print(\"Directory {} doesn't exist, create a new.\".format(p))\n",
    "    os.makedirs(p)\n",
    "\n",
    "output_dir = os.path.join(data_root, output_dir)\n",
    "createDir(output_dir)\n",
    "\n",
    "# mutation_type\n",
    "# exp_id, key_complex\n",
    "# protein_index, key_nucleic_acids\n",
    "# protein_sequence nucleotide_sequence dG \n",
    "list_cols = ['exp_id', 'key_complex', 'UniProt', 'protein_sequence', 'nucleotide_sequence', \n",
    "             'nucleic_acid_type_new', 'dG', 'dG_ori', 'key_nucleic_acids', 'protein_index',\n",
    "            'wt_complex','pclass','nuclass','base_class','avg_dist_to_others']\n",
    "mainf = os.path.join(data_root, mainf)\n",
    "madf = pd.read_csv(mainf, sep='\\t', low_memory=False, usecols=list_cols)\n",
    "print(len(madf))\n",
    "madf.head(3)\n",
    "# wtf = os.path.join(data_root, wtf)\n",
    "# wtdf = pd.read_csv(wtf, sep='\\t', low_memory=False)\n",
    "# print(len(wtdf))\n"
   ]
  },
  {
   "cell_type": "code",
   "execution_count": 33,
   "id": "92cb684d",
   "metadata": {},
   "outputs": [
    {
     "name": "stdout",
     "output_type": "stream",
     "text": [
      "5177\n"
     ]
    },
    {
     "data": {
      "text/html": [
       "<div>\n",
       "<style scoped>\n",
       "    .dataframe tbody tr th:only-of-type {\n",
       "        vertical-align: middle;\n",
       "    }\n",
       "\n",
       "    .dataframe tbody tr th {\n",
       "        vertical-align: top;\n",
       "    }\n",
       "\n",
       "    .dataframe thead th {\n",
       "        text-align: right;\n",
       "    }\n",
       "</style>\n",
       "<table border=\"1\" class=\"dataframe\">\n",
       "  <thead>\n",
       "    <tr style=\"text-align: right;\">\n",
       "      <th></th>\n",
       "      <th>exp_id</th>\n",
       "      <th>key_complex</th>\n",
       "      <th>UniProt</th>\n",
       "      <th>protein_sequence</th>\n",
       "      <th>nucleotide_sequence</th>\n",
       "      <th>nucleic_acid_type_new</th>\n",
       "      <th>dG</th>\n",
       "      <th>dG_ori</th>\n",
       "      <th>protein_index</th>\n",
       "      <th>key_nucleic_acids</th>\n",
       "      <th>wt_complex</th>\n",
       "      <th>pclass</th>\n",
       "      <th>nuclass</th>\n",
       "      <th>base_class</th>\n",
       "      <th>avg_dist_to_others</th>\n",
       "    </tr>\n",
       "  </thead>\n",
       "  <tbody>\n",
       "    <tr>\n",
       "      <th>0</th>\n",
       "      <td>10</td>\n",
       "      <td>10</td>\n",
       "      <td>P17676</td>\n",
       "      <td>MQRLVAWDPACLPLPPPPPAFKSMEVANFYYEADCLAAAYGGKAAP...</td>\n",
       "      <td>TATATTGCGCAATATA</td>\n",
       "      <td>ssDNA</td>\n",
       "      <td>-10.42</td>\n",
       "      <td>-10.42</td>\n",
       "      <td>protein_17</td>\n",
       "      <td>Single_DNA_10</td>\n",
       "      <td>True</td>\n",
       "      <td>PCluster_451</td>\n",
       "      <td>SDNACluster_1115</td>\n",
       "      <td>SDNACluster_1115-PCluster_451</td>\n",
       "      <td>3.749697</td>\n",
       "    </tr>\n",
       "    <tr>\n",
       "      <th>1</th>\n",
       "      <td>12</td>\n",
       "      <td>12</td>\n",
       "      <td>P23909</td>\n",
       "      <td>MSAIENFDAHTPMMQQYLRLKAQHPEILLFYRMGDFYELFYDDAKR...</td>\n",
       "      <td>AAAGCTGGAGCTGAAGCTTAGCTTAGGATCATCGAGGATCGAGCTC...</td>\n",
       "      <td>ssDNA</td>\n",
       "      <td>-9.49</td>\n",
       "      <td>-9.49</td>\n",
       "      <td>protein_19</td>\n",
       "      <td>Single_DNA_12</td>\n",
       "      <td>True</td>\n",
       "      <td>PCluster_453</td>\n",
       "      <td>SDNACluster_204</td>\n",
       "      <td>SDNACluster_204-PCluster_453</td>\n",
       "      <td>3.586935</td>\n",
       "    </tr>\n",
       "    <tr>\n",
       "      <th>2</th>\n",
       "      <td>15</td>\n",
       "      <td>15</td>\n",
       "      <td>O95243</td>\n",
       "      <td>MGTTGLESLSLGDRGAAPTVTSSERLVPDPPNDLRKEDVAMELERV...</td>\n",
       "      <td>GAGGCGCTCGGCGGCAG</td>\n",
       "      <td>ssDNA</td>\n",
       "      <td>-6.50</td>\n",
       "      <td>-6.50</td>\n",
       "      <td>protein_22</td>\n",
       "      <td>Single_DNA_15</td>\n",
       "      <td>True</td>\n",
       "      <td>PCluster_456</td>\n",
       "      <td>SDNACluster_981</td>\n",
       "      <td>SDNACluster_981-PCluster_456</td>\n",
       "      <td>3.622835</td>\n",
       "    </tr>\n",
       "  </tbody>\n",
       "</table>\n",
       "</div>"
      ],
      "text/plain": [
       "   exp_id  key_complex UniProt  \\\n",
       "0      10           10  P17676   \n",
       "1      12           12  P23909   \n",
       "2      15           15  O95243   \n",
       "\n",
       "                                    protein_sequence  \\\n",
       "0  MQRLVAWDPACLPLPPPPPAFKSMEVANFYYEADCLAAAYGGKAAP...   \n",
       "1  MSAIENFDAHTPMMQQYLRLKAQHPEILLFYRMGDFYELFYDDAKR...   \n",
       "2  MGTTGLESLSLGDRGAAPTVTSSERLVPDPPNDLRKEDVAMELERV...   \n",
       "\n",
       "                                 nucleotide_sequence nucleic_acid_type_new  \\\n",
       "0                                   TATATTGCGCAATATA                 ssDNA   \n",
       "1  AAAGCTGGAGCTGAAGCTTAGCTTAGGATCATCGAGGATCGAGCTC...                 ssDNA   \n",
       "2                                  GAGGCGCTCGGCGGCAG                 ssDNA   \n",
       "\n",
       "      dG  dG_ori protein_index key_nucleic_acids  wt_complex        pclass  \\\n",
       "0 -10.42  -10.42    protein_17     Single_DNA_10        True  PCluster_451   \n",
       "1  -9.49   -9.49    protein_19     Single_DNA_12        True  PCluster_453   \n",
       "2  -6.50   -6.50    protein_22     Single_DNA_15        True  PCluster_456   \n",
       "\n",
       "            nuclass                     base_class  avg_dist_to_others  \n",
       "0  SDNACluster_1115  SDNACluster_1115-PCluster_451            3.749697  \n",
       "1   SDNACluster_204   SDNACluster_204-PCluster_453            3.586935  \n",
       "2   SDNACluster_981   SDNACluster_981-PCluster_456            3.622835  "
      ]
     },
     "execution_count": 33,
     "metadata": {},
     "output_type": "execute_result"
    }
   ],
   "source": [
    "import numpy as np\n",
    "import pandas as pd\n",
    "import os\n",
    "import matplotlib.pyplot as plt\n",
    "import numpy as np\n",
    "\n",
    "from tqdm import tqdm\n",
    "np.set_printoptions(suppress=True)\n",
    "pd.set_option('display.max_columns', 100)\n",
    "import sys\n",
    "np.set_printoptions(threshold=sys.maxsize)\n",
    "### global variable:\n",
    "g_nucleic_acids_types = ['dsDNA', 'dsRNA', 'ssDNA', 'ssRNA']\n",
    "\n",
    "\n",
    "param_load = False\n",
    "data_root = '../data/tmp_data/train'\n",
    "mainf = 'train.csv'\n",
    "\n",
    "\n",
    "list_cols = ['exp_id', 'key_complex', 'UniProt', 'protein_sequence', 'nucleotide_sequence', \n",
    "             'nucleic_acid_type_new', 'dG', 'dG_ori', 'key_nucleic_acids', 'protein_index',\n",
    "            'wt_complex','pclass','nuclass','base_class','avg_dist_to_others']\n",
    "mainf = os.path.join(data_root, mainf)\n",
    "madf = pd.read_csv(mainf, sep='\\t', low_memory=False, usecols=list_cols)\n",
    "print(len(madf))\n",
    "madf.head(3)\n",
    "\n"
   ]
  },
  {
   "cell_type": "code",
   "execution_count": 47,
   "id": "2e6afe7f",
   "metadata": {},
   "outputs": [
    {
     "name": "stdout",
     "output_type": "stream",
     "text": [
      "-14.8 : (-13.8, -24.4, 109)\n",
      "-7.5 : (-6.6, -8.3, 942)\n",
      "-11.3 : (-10.7, -12.1, 973)\n",
      "-5.7 : (-3.6, -6.6, 357)\n",
      "-9.0 : (-8.3, -9.6, 1178)\n",
      "-12.8 : (-12.1, -13.8, 431)\n",
      "-1.3 : (-0.0, -2.9, 37)\n",
      "-10.2 : (-9.6, -10.7, 1150)\n"
     ]
    },
    {
     "name": "stderr",
     "output_type": "stream",
     "text": [
      "/home/megvii/anaconda3/envs/paul-py3/lib/python3.8/site-packages/sklearn/cluster/_kmeans.py:870: FutureWarning: The default value of `n_init` will change from 10 to 'auto' in 1.4. Set the value of `n_init` explicitly to suppress the warning\n",
      "  warnings.warn(\n"
     ]
    },
    {
     "data": {
      "text/plain": [
       "{-14.835086763451287: (-13.82, -24.42, 109),\n",
       " -7.543297859164897: (-6.62, -8.3, 942),\n",
       " -11.317045438530975: (-10.745, -12.05, 973),\n",
       " -5.668508803521409: (-3.56, -6.615, 357),\n",
       " -9.045142712291481: (-8.31, -9.605, 1178),\n",
       " -12.78339212870843: (-12.0525, -13.8, 431),\n",
       " -1.324189189189189: (-0.01, -2.85, 37),\n",
       " -10.15739552167639: (-9.61, -10.74, 1150)}"
      ]
     },
     "execution_count": 47,
     "metadata": {},
     "output_type": "execute_result"
    }
   ],
   "source": [
    "from numpy import unique\n",
    "from numpy import where\n",
    "from sklearn.datasets import make_classification\n",
    "from sklearn.cluster import KMeans, MeanShift, DBSCAN, OPTICS\n",
    "\n",
    "\n",
    "X = madf['dG'].values\n",
    "X = X.reshape(-1,1)\n",
    "model = KMeans(n_clusters=8)\n",
    "# model = MeanShift()\n",
    "\n",
    "# 模型拟合\n",
    "model.fit(X)\n",
    "yhat = model.predict(X)\n",
    "\n",
    "clusters = unique(yhat)\n",
    "\n",
    "Xgroups = []\n",
    "bin_info = dict()\n",
    "for cluster in clusters:\n",
    "#     row_ix = where(yhat == cluster)\n",
    "#     Xgroups.append(X[row_ix])\n",
    "#     cur_x = X[row_ix]\n",
    "#     print(\"{:.1f}  {:.1f} - {:.1f}  {}\".format( cur_x.mean(), cur_x.max(), cur_x.min(), len(cur_x) ))\n",
    "    row_ix = np.where(yhat == cluster)\n",
    "    cur_x = X[row_ix]\n",
    "    # cur_x.mean(), cur_x.max(), cur_x.min(), len(cur_x)\n",
    "    bin_info[cur_x.mean()] = ( cur_x.max(), cur_x.min(), len(cur_x) )\n",
    "    print(\"{:.1f} : ({:.1f}, {:.1f}, {})\".format( cur_x.mean(), cur_x.max(), cur_x.min(), len(cur_x) ))\n",
    "bin_info"
   ]
  },
  {
   "cell_type": "code",
   "execution_count": 51,
   "id": "f0944805",
   "metadata": {},
   "outputs": [
    {
     "ename": "RuntimeError",
     "evalue": "running_mean should contain 2 elements not 32",
     "output_type": "error",
     "traceback": [
      "\u001b[0;31m---------------------------------------------------------------------------\u001b[0m",
      "\u001b[0;31mRuntimeError\u001b[0m                              Traceback (most recent call last)",
      "Cell \u001b[0;32mIn[51], line 6\u001b[0m\n\u001b[1;32m      4\u001b[0m layer_norm \u001b[38;5;241m=\u001b[39m nn\u001b[38;5;241m.\u001b[39mBatchNorm1d(\u001b[38;5;241m32\u001b[39m)\n\u001b[1;32m      5\u001b[0m \u001b[38;5;66;03m# isinstance(layer_norm, nn.BatchNorm1d)\u001b[39;00m\n\u001b[0;32m----> 6\u001b[0m \u001b[43mlayer_norm\u001b[49m\u001b[43m(\u001b[49m\u001b[43mx\u001b[49m\u001b[43m)\u001b[49m\u001b[38;5;241m.\u001b[39mshape\n",
      "File \u001b[0;32m~/.local/lib/python3.8/site-packages/torch/nn/modules/module.py:1051\u001b[0m, in \u001b[0;36mModule._call_impl\u001b[0;34m(self, *input, **kwargs)\u001b[0m\n\u001b[1;32m   1047\u001b[0m \u001b[38;5;66;03m# If we don't have any hooks, we want to skip the rest of the logic in\u001b[39;00m\n\u001b[1;32m   1048\u001b[0m \u001b[38;5;66;03m# this function, and just call forward.\u001b[39;00m\n\u001b[1;32m   1049\u001b[0m \u001b[38;5;28;01mif\u001b[39;00m \u001b[38;5;129;01mnot\u001b[39;00m (\u001b[38;5;28mself\u001b[39m\u001b[38;5;241m.\u001b[39m_backward_hooks \u001b[38;5;129;01mor\u001b[39;00m \u001b[38;5;28mself\u001b[39m\u001b[38;5;241m.\u001b[39m_forward_hooks \u001b[38;5;129;01mor\u001b[39;00m \u001b[38;5;28mself\u001b[39m\u001b[38;5;241m.\u001b[39m_forward_pre_hooks \u001b[38;5;129;01mor\u001b[39;00m _global_backward_hooks\n\u001b[1;32m   1050\u001b[0m         \u001b[38;5;129;01mor\u001b[39;00m _global_forward_hooks \u001b[38;5;129;01mor\u001b[39;00m _global_forward_pre_hooks):\n\u001b[0;32m-> 1051\u001b[0m     \u001b[38;5;28;01mreturn\u001b[39;00m \u001b[43mforward_call\u001b[49m\u001b[43m(\u001b[49m\u001b[38;5;241;43m*\u001b[39;49m\u001b[38;5;28;43minput\u001b[39;49m\u001b[43m,\u001b[49m\u001b[43m \u001b[49m\u001b[38;5;241;43m*\u001b[39;49m\u001b[38;5;241;43m*\u001b[39;49m\u001b[43mkwargs\u001b[49m\u001b[43m)\u001b[49m\n\u001b[1;32m   1052\u001b[0m \u001b[38;5;66;03m# Do not call functions when jit is used\u001b[39;00m\n\u001b[1;32m   1053\u001b[0m full_backward_hooks, non_full_backward_hooks \u001b[38;5;241m=\u001b[39m [], []\n",
      "File \u001b[0;32m~/.local/lib/python3.8/site-packages/torch/nn/modules/batchnorm.py:167\u001b[0m, in \u001b[0;36m_BatchNorm.forward\u001b[0;34m(self, input)\u001b[0m\n\u001b[1;32m    160\u001b[0m     bn_training \u001b[38;5;241m=\u001b[39m (\u001b[38;5;28mself\u001b[39m\u001b[38;5;241m.\u001b[39mrunning_mean \u001b[38;5;129;01mis\u001b[39;00m \u001b[38;5;28;01mNone\u001b[39;00m) \u001b[38;5;129;01mand\u001b[39;00m (\u001b[38;5;28mself\u001b[39m\u001b[38;5;241m.\u001b[39mrunning_var \u001b[38;5;129;01mis\u001b[39;00m \u001b[38;5;28;01mNone\u001b[39;00m)\n\u001b[1;32m    162\u001b[0m \u001b[38;5;250m\u001b[39m\u001b[38;5;124mr\u001b[39m\u001b[38;5;124;03m\"\"\"\u001b[39;00m\n\u001b[1;32m    163\u001b[0m \u001b[38;5;124;03mBuffers are only updated if they are to be tracked and we are in training mode. Thus they only need to be\u001b[39;00m\n\u001b[1;32m    164\u001b[0m \u001b[38;5;124;03mpassed when the update should occur (i.e. in training mode when they are tracked), or when buffer stats are\u001b[39;00m\n\u001b[1;32m    165\u001b[0m \u001b[38;5;124;03mused for normalization (i.e. in eval mode when buffers are not None).\u001b[39;00m\n\u001b[1;32m    166\u001b[0m \u001b[38;5;124;03m\"\"\"\u001b[39;00m\n\u001b[0;32m--> 167\u001b[0m \u001b[38;5;28;01mreturn\u001b[39;00m \u001b[43mF\u001b[49m\u001b[38;5;241;43m.\u001b[39;49m\u001b[43mbatch_norm\u001b[49m\u001b[43m(\u001b[49m\n\u001b[1;32m    168\u001b[0m \u001b[43m    \u001b[49m\u001b[38;5;28;43minput\u001b[39;49m\u001b[43m,\u001b[49m\n\u001b[1;32m    169\u001b[0m \u001b[43m    \u001b[49m\u001b[38;5;66;43;03m# If buffers are not to be tracked, ensure that they won't be updated\u001b[39;49;00m\n\u001b[1;32m    170\u001b[0m \u001b[43m    \u001b[49m\u001b[38;5;28;43mself\u001b[39;49m\u001b[38;5;241;43m.\u001b[39;49m\u001b[43mrunning_mean\u001b[49m\n\u001b[1;32m    171\u001b[0m \u001b[43m    \u001b[49m\u001b[38;5;28;43;01mif\u001b[39;49;00m\u001b[43m \u001b[49m\u001b[38;5;129;43;01mnot\u001b[39;49;00m\u001b[43m \u001b[49m\u001b[38;5;28;43mself\u001b[39;49m\u001b[38;5;241;43m.\u001b[39;49m\u001b[43mtraining\u001b[49m\u001b[43m \u001b[49m\u001b[38;5;129;43;01mor\u001b[39;49;00m\u001b[43m \u001b[49m\u001b[38;5;28;43mself\u001b[39;49m\u001b[38;5;241;43m.\u001b[39;49m\u001b[43mtrack_running_stats\u001b[49m\n\u001b[1;32m    172\u001b[0m \u001b[43m    \u001b[49m\u001b[38;5;28;43;01melse\u001b[39;49;00m\u001b[43m \u001b[49m\u001b[38;5;28;43;01mNone\u001b[39;49;00m\u001b[43m,\u001b[49m\n\u001b[1;32m    173\u001b[0m \u001b[43m    \u001b[49m\u001b[38;5;28;43mself\u001b[39;49m\u001b[38;5;241;43m.\u001b[39;49m\u001b[43mrunning_var\u001b[49m\u001b[43m \u001b[49m\u001b[38;5;28;43;01mif\u001b[39;49;00m\u001b[43m \u001b[49m\u001b[38;5;129;43;01mnot\u001b[39;49;00m\u001b[43m \u001b[49m\u001b[38;5;28;43mself\u001b[39;49m\u001b[38;5;241;43m.\u001b[39;49m\u001b[43mtraining\u001b[49m\u001b[43m \u001b[49m\u001b[38;5;129;43;01mor\u001b[39;49;00m\u001b[43m \u001b[49m\u001b[38;5;28;43mself\u001b[39;49m\u001b[38;5;241;43m.\u001b[39;49m\u001b[43mtrack_running_stats\u001b[49m\u001b[43m \u001b[49m\u001b[38;5;28;43;01melse\u001b[39;49;00m\u001b[43m \u001b[49m\u001b[38;5;28;43;01mNone\u001b[39;49;00m\u001b[43m,\u001b[49m\n\u001b[1;32m    174\u001b[0m \u001b[43m    \u001b[49m\u001b[38;5;28;43mself\u001b[39;49m\u001b[38;5;241;43m.\u001b[39;49m\u001b[43mweight\u001b[49m\u001b[43m,\u001b[49m\n\u001b[1;32m    175\u001b[0m \u001b[43m    \u001b[49m\u001b[38;5;28;43mself\u001b[39;49m\u001b[38;5;241;43m.\u001b[39;49m\u001b[43mbias\u001b[49m\u001b[43m,\u001b[49m\n\u001b[1;32m    176\u001b[0m \u001b[43m    \u001b[49m\u001b[43mbn_training\u001b[49m\u001b[43m,\u001b[49m\n\u001b[1;32m    177\u001b[0m \u001b[43m    \u001b[49m\u001b[43mexponential_average_factor\u001b[49m\u001b[43m,\u001b[49m\n\u001b[1;32m    178\u001b[0m \u001b[43m    \u001b[49m\u001b[38;5;28;43mself\u001b[39;49m\u001b[38;5;241;43m.\u001b[39;49m\u001b[43meps\u001b[49m\u001b[43m,\u001b[49m\n\u001b[1;32m    179\u001b[0m \u001b[43m\u001b[49m\u001b[43m)\u001b[49m\n",
      "File \u001b[0;32m~/.local/lib/python3.8/site-packages/torch/nn/functional.py:2281\u001b[0m, in \u001b[0;36mbatch_norm\u001b[0;34m(input, running_mean, running_var, weight, bias, training, momentum, eps)\u001b[0m\n\u001b[1;32m   2278\u001b[0m \u001b[38;5;28;01mif\u001b[39;00m training:\n\u001b[1;32m   2279\u001b[0m     _verify_batch_size(\u001b[38;5;28minput\u001b[39m\u001b[38;5;241m.\u001b[39msize())\n\u001b[0;32m-> 2281\u001b[0m \u001b[38;5;28;01mreturn\u001b[39;00m \u001b[43mtorch\u001b[49m\u001b[38;5;241;43m.\u001b[39;49m\u001b[43mbatch_norm\u001b[49m\u001b[43m(\u001b[49m\n\u001b[1;32m   2282\u001b[0m \u001b[43m    \u001b[49m\u001b[38;5;28;43minput\u001b[39;49m\u001b[43m,\u001b[49m\u001b[43m \u001b[49m\u001b[43mweight\u001b[49m\u001b[43m,\u001b[49m\u001b[43m \u001b[49m\u001b[43mbias\u001b[49m\u001b[43m,\u001b[49m\u001b[43m \u001b[49m\u001b[43mrunning_mean\u001b[49m\u001b[43m,\u001b[49m\u001b[43m \u001b[49m\u001b[43mrunning_var\u001b[49m\u001b[43m,\u001b[49m\u001b[43m \u001b[49m\u001b[43mtraining\u001b[49m\u001b[43m,\u001b[49m\u001b[43m \u001b[49m\u001b[43mmomentum\u001b[49m\u001b[43m,\u001b[49m\u001b[43m \u001b[49m\u001b[43meps\u001b[49m\u001b[43m,\u001b[49m\u001b[43m \u001b[49m\u001b[43mtorch\u001b[49m\u001b[38;5;241;43m.\u001b[39;49m\u001b[43mbackends\u001b[49m\u001b[38;5;241;43m.\u001b[39;49m\u001b[43mcudnn\u001b[49m\u001b[38;5;241;43m.\u001b[39;49m\u001b[43menabled\u001b[49m\n\u001b[1;32m   2283\u001b[0m \u001b[43m\u001b[49m\u001b[43m)\u001b[49m\n",
      "\u001b[0;31mRuntimeError\u001b[0m: running_mean should contain 2 elements not 32"
     ]
    }
   ],
   "source": [
    "import torch\n",
    "import torch.nn as nn\n",
    "x = torch.rand(2, 2, 32)\n",
    "layer_norm = nn.BatchNorm1d(32)\n",
    "# isinstance(layer_norm, nn.BatchNorm1d)\n",
    "layer_norm(x).shape"
   ]
  },
  {
   "cell_type": "code",
   "execution_count": 43,
   "id": "067b3dcd",
   "metadata": {},
   "outputs": [
    {
     "data": {
      "text/plain": [
       "(array([ -8.7975, -12.8825,  -7.32  , -11.295 ,  -5.0175, -19.11  ,\n",
       "         -1.43  , -10.0225]),\n",
       " array([0.6375, 0.8925, 0.83  , 0.685 , 1.4575, 5.31  , 1.42  , 0.5825]))"
      ]
     },
     "execution_count": 43,
     "metadata": {},
     "output_type": "execute_result"
    }
   ],
   "source": [
    "list_ctr = []\n",
    "list_half_w = []\n",
    "for k, v in bin_info.items():\n",
    "    mean_x = k\n",
    "    max_x, min_x, len_x = v\n",
    "    ctr = (max_x + min_x) / 2.0\n",
    "    half_w = np.abs(max_x - min_x) / 2.0\n",
    "    list_ctr.append(ctr)\n",
    "    list_half_w.append(half_w)\n",
    "    \n",
    "bin_ctrs = np.array(list_ctr) # (n_bins, )\n",
    "bin_half_w = np.array(list_half_w) # (n_bins, )\n",
    "\n",
    "bin_ctrs, bin_half_w"
   ]
  },
  {
   "cell_type": "code",
   "execution_count": 44,
   "id": "16eaba10",
   "metadata": {},
   "outputs": [
    {
     "data": {
      "text/plain": [
       "(array([-19.11  , -12.8825, -11.295 , -10.0225,  -8.7975,  -7.32  ,\n",
       "         -5.0175,  -1.43  ]),\n",
       " array([5.31  , 0.8925, 0.685 , 0.5825, 0.6375, 0.83  , 1.4575, 1.42  ]))"
      ]
     },
     "execution_count": 44,
     "metadata": {},
     "output_type": "execute_result"
    }
   ],
   "source": [
    "sorted_ids = np.argsort(bin_ctrs)\n",
    "bin_ctrs = bin_ctrs[sorted_ids]\n",
    "bin_half_w = bin_half_w[sorted_ids]\n",
    "\n",
    "bin_ctrs, bin_half_w"
   ]
  },
  {
   "cell_type": "code",
   "execution_count": 7,
   "id": "7f64085d",
   "metadata": {},
   "outputs": [
    {
     "name": "stdout",
     "output_type": "stream",
     "text": [
      "-24.42 -0.01\n"
     ]
    },
    {
     "data": {
      "image/png": "[encoded data removed]",
      "text/plain": [
       "<Figure size 432x288 with 1 Axes>"
      ]
     },
     "metadata": {
      "needs_background": "light"
     },
     "output_type": "display_data"
    }
   ],
   "source": [
    "# madf.hist(column='dG')\n",
    "dgs = madf['dG'].values\n",
    "print(dgs.min(), dgs.max())\n",
    "out = plt.hist(dgs, bins=50)"
   ]
  },
  {
   "cell_type": "code",
   "execution_count": 8,
   "id": "70d3ae9e",
   "metadata": {},
   "outputs": [
    {
     "data": {
      "text/plain": [
       "18"
      ]
     },
     "execution_count": 8,
     "metadata": {},
     "output_type": "execute_result"
    }
   ],
   "source": [
    "bins = []\n",
    "bins.append([-24., 4])\n",
    "bins.append([-20., 4])\n",
    "bins.append([-17., 2])\n",
    "# (-16.5, 1) -> (-4.5, 1)\n",
    "for x in np.arange(-16.5, -3.5, 1):\n",
    "  bins.append([x, 1])\n",
    "bins.append([-3., 2])\n",
    "bins.append([-1., 2])\n",
    "num_bins = len(bins)\n",
    "num_bins"
   ]
  },
  {
   "cell_type": "code",
   "execution_count": 12,
   "id": "51fc125d",
   "metadata": {},
   "outputs": [
    {
     "data": {
      "text/plain": [
       "array([-15, -13, -11,  -9,  -7])"
      ]
     },
     "execution_count": 12,
     "metadata": {},
     "output_type": "execute_result"
    }
   ],
   "source": [
    "np.arange(-15, -5, 2)"
   ]
  },
  {
   "cell_type": "code",
   "execution_count": 10,
   "id": "538aa97c",
   "metadata": {},
   "outputs": [
    {
     "name": "stdout",
     "output_type": "stream",
     "text": [
      "3 -24.42 ~ -23.93  0.49\n",
      "0 -23.93 ~ -23.44  0.49\n",
      "0 -23.44 ~ -22.96  0.49\n",
      "0 -22.96 ~ -22.47  0.49\n",
      "0 -22.47 ~ -21.98  0.49\n",
      "0 -21.98 ~ -21.49  0.49\n",
      "2 -21.49 ~ -21.00  0.49\n",
      "0 -21.00 ~ -20.51  0.49\n",
      "0 -20.51 ~ -20.03  0.49\n",
      "0 -20.03 ~ -19.54  0.49\n",
      "0 -19.54 ~ -19.05  0.49\n",
      "0 -19.05 ~ -18.56  0.49\n",
      "0 -18.56 ~ -18.07  0.49\n",
      "2 -18.07 ~ -17.59  0.49\n",
      "5 -17.59 ~ -17.10  0.49\n",
      "12 -17.10 ~ -16.61  0.49\n",
      "13 -16.61 ~ -16.12  0.49\n",
      "44 -16.12 ~ -15.63  0.49\n",
      "75 -15.63 ~ -15.14  0.49\n",
      "108 -15.14 ~ -14.66  0.49\n",
      "171 -14.66 ~ -14.17  0.49\n",
      "154 -14.17 ~ -13.68  0.49\n",
      "329 -13.68 ~ -13.19  0.49\n",
      "381 -13.19 ~ -12.70  0.49\n",
      "605 -12.70 ~ -12.22  0.49\n",
      "704 -12.22 ~ -11.73  0.49\n",
      "1258 -11.73 ~ -11.24  0.49\n",
      "1449 -11.24 ~ -10.75  0.49\n",
      "1531 -10.75 ~ -10.26  0.49\n",
      "1561 -10.26 ~ -9.77  0.49\n",
      "1881 -9.77 ~ -9.29  0.49\n",
      "1626 -9.29 ~ -8.80  0.49\n",
      "1157 -8.80 ~ -8.31  0.49\n",
      "1021 -8.31 ~ -7.82  0.49\n",
      "904 -7.82 ~ -7.33  0.49\n",
      "649 -7.33 ~ -6.84  0.49\n",
      "524 -6.84 ~ -6.36  0.49\n",
      "320 -6.36 ~ -5.87  0.49\n",
      "255 -5.87 ~ -5.38  0.49\n",
      "152 -5.38 ~ -4.89  0.49\n",
      "145 -4.89 ~ -4.40  0.49\n",
      "49 -4.40 ~ -3.92  0.49\n",
      "28 -3.92 ~ -3.43  0.49\n",
      "3 -3.43 ~ -2.94  0.49\n",
      "4 -2.94 ~ -2.45  0.49\n",
      "19 -2.45 ~ -1.96  0.49\n",
      "6 -1.96 ~ -1.47  0.49\n",
      "17 -1.47 ~ -0.99  0.49\n",
      "24 -0.99 ~ -0.50  0.49\n"
     ]
    }
   ],
   "source": [
    "szs, bins,_ = out\n",
    "for i in range(len(szs)-1):\n",
    "    print(\"{} {:.2f} ~ {:.2f}  {:.2f}\".format(int(szs[i]), bins[i], bins[i+1], bins[i+1]-bins[i]))"
   ]
  },
  {
   "cell_type": "code",
   "execution_count": null,
   "id": "8e59c4f8",
   "metadata": {},
   "outputs": [],
   "source": [
    "def do_group(target_ids, mapping, output):\n",
    "    print(\"do\")\n",
    "    dgs = np.array([dg for dg, cid in zip(mapping[\"dg\"], mapping[\"complex_ids\"]) if cid in target_ids])\n",
    "    cids = np.array([cid for cid in mapping[\"complex_ids\"] if cid in target_ids])\n",
    "    assert(len(dgs) == len(cids))\n",
    "    if len(dgs) == 0:\n",
    "        return\n",
    "    \n",
    "    id_max = np.argmax(dgs)\n",
    "    id_min = np.argmin(dgs)\n",
    "    ids_group1 = np.where(dgs[id_max] - dgs < 1.0)[0]\n",
    "    ids_group2 = np.where(dgs - dgs[id_min] < 1.0)[0]\n",
    "    print(cids)\n",
    "    cids_group1 = cids[ids_group1]\n",
    "    cids_group2 = cids[ids_group2]\n",
    "    output.append({'cids': cids_group1, 'dgs': dgs[ids_group1]})\n",
    "    output.append({'cids': cids_group2, 'dgs': dgs[ids_group2]})\n",
    "    \n",
    "    # compute other_ids with cids_group1 and cids_group2\n",
    "    mark = np.logical_and(dgs[id_max] - dgs >= 1.0, dgs - dgs[id_min] >= 1.0)\n",
    "    other_ids = np.where(mark)\n",
    "    other_cids = cids[other_ids]\n",
    "    \n",
    "    if len(other_ids) > 0:\n",
    "        do_group(other_cids, mapping, output)\n",
    "    \n",
    "\n",
    "cids = cluster2info['cluster_pair_1787']['complex_ids']\n",
    "print(len(cids))\n",
    "mapping = cluster2info['cluster_pair_1787']\n",
    "groups = []\n",
    "do_group(cids, mapping, groups)\n",
    "print(groups, sum([len(x) for x in groups]))"
   ]
  },
  {
   "cell_type": "code",
   "execution_count": 30,
   "id": "058b3364",
   "metadata": {},
   "outputs": [
    {
     "data": {
      "text/plain": [
       "[array([2]), array([5]), array([0, 4]), array([1, 3])]"
      ]
     },
     "execution_count": 30,
     "metadata": {},
     "output_type": "execute_result"
    }
   ],
   "source": [
    "def valueCluster(d, xs, ids, out):\n",
    "    if len(xs) == 0:\n",
    "        return\n",
    "    x_max = xs.max()\n",
    "    mask = np.abs(x_max - xs) < d\n",
    "    pos_ids = np.where(mask)[0]\n",
    "    neg_ids = np.where(~mask)[0]\n",
    "    out.append(ids[pos_ids])\n",
    "    valueCluster(d, xs[neg_ids], ids[neg_ids], out)\n",
    "\n",
    "out = []\n",
    "xs = np.array([ -9.54, -12.13, -4.6, -12.13, -9.54, -6])\n",
    "ids = np.arange(len(xs))\n",
    "valueCluster(1.0, xs, ids, out)\n",
    "out"
   ]
  },
  {
   "cell_type": "code",
   "execution_count": 32,
   "id": "225853c5",
   "metadata": {},
   "outputs": [
    {
     "name": "stdout",
     "output_type": "stream",
     "text": [
      "[-20.02 -20.01 -14.9  -14.89]\n",
      "[-10.81  -6.71]\n",
      "[-10.37  -6.28]\n",
      "[-11.63  -7.53]\n",
      "[-10.6  -6.5]\n",
      "[-10.86  -6.76]\n",
      "[-11.4  -7.3]\n",
      "[-4.7  -8.96]\n",
      "[-13.87  -5.14  -5.18]\n",
      "[-12.69  -8.51]\n",
      "[-11.07  -4.85]\n",
      "[-13.76  -9.6 ]\n",
      "[-15.    -9.54]\n",
      "[ -9.54 -14.94]\n",
      "[-15.25  -9.54]\n",
      "[-14.37  -9.54]\n",
      "[-16.01  -9.54]\n",
      "[ -8.65 -12.78]\n",
      "[ -7.23 -12.78]\n",
      "[ -8.41 -12.78]\n",
      "[-17.43 -12.04]\n",
      "[ -7.72 -11.84  -7.71 -11.83]\n",
      "[ -7.18 -11.26  -7.17 -11.25]\n",
      "[-9.68 -4.39]\n",
      "[-11.31  -7.  ]\n",
      "[-11.31  -7.  ]\n",
      "[-13.32  -6.41]\n",
      "[-9.35 -4.51]\n",
      "[ -6.28 -10.45]\n",
      "[-14.16  -9.54]\n",
      "[ -9.54 -13.7 ]\n",
      "[-14.37  -9.54]\n",
      "[ -9.54 -14.31]\n",
      "[ -9.54 -13.85]\n",
      "[-14.84  -6.9 ]\n",
      "[ -6.65 -12.15]\n",
      "[ -6.65 -10.69]\n",
      "[ -6.65 -10.9   -6.64 -10.89]\n",
      "[-9.65 -4.5 ]\n",
      "[-8.85 -4.58]\n",
      "[-8.85 -4.58]\n",
      "[-0.06 -9.07]\n",
      "[-0.06 -9.07]\n",
      "[-0.13 -9.15]\n",
      "[-0.13 -9.15]\n",
      "[-0.21 -9.24]\n",
      "[-0.13 -9.15]\n",
      "[-0.13 -9.15]\n",
      "[ -7.9  -12.23]\n",
      "[ -6.12 -12.23]\n",
      "[ -7.9  -12.23]\n",
      "[ -7.91 -12.23]\n",
      "[ -9.31 -15.92]\n",
      "[-10.54 -15.92]\n",
      "[-14.08  -8.94]\n",
      "[-11.15  -7.11]\n",
      "[-10.41 -17.46 -11.01 -16.91]\n",
      "[ -7.94 -12.2   -7.94 -12.2 ]\n",
      "[-7.26 -0.98]\n",
      "[-8.21 -4.02]\n",
      "[-10.86  -2.  ]\n",
      "[ -9.96 -15.01]\n",
      "[-4.7  -8.96]\n",
      "[-9.86 -4.01]\n",
      "[-9.93 -4.05]\n",
      "[-9.63 -4.08]\n",
      "[-9.74 -4.22]\n",
      "[-10.59 -14.9 ]\n",
      "[-13.86  -5.14]\n",
      "[-15.79  -9.45 -15.86]\n",
      "[-15.85  -9.45 -15.86]\n",
      "[-12.69  -8.51]\n",
      "[ -3.22  -3.22 -10.77 -10.77]\n",
      "[ -9.8  -15.06]\n",
      "[-13.    -2.    -3.75 -11.4 ]\n",
      "[ -7.9  -12.21 -12.2   -7.89]\n",
      "[ -7.42 -11.67 -11.66  -7.41]\n",
      "[-14.51  -7.35]\n",
      "[-12.69  -8.2 ]\n",
      "[-12.82  -7.45]\n",
      "[-10.93  -6.24]\n",
      "[-11.18  -7.11]\n",
      "[-11.18  -7.11]\n",
      "[-11.18  -7.11]\n",
      "[-11.18  -7.11]\n",
      "[-10.63 -14.66]\n",
      "[-10.63 -14.66]\n",
      "[-14.66 -10.63]\n",
      "[-13.59  -6.82]\n",
      "[-12.28 -16.76]\n",
      "[-12.28 -16.76]\n",
      "[-12.28 -16.76]\n",
      "[-12.28 -16.76]\n",
      "[-12.28 -16.76]\n",
      "[-10.63 -14.66]\n",
      "[-16.96 -12.38]\n",
      "[ -3.75  -2.   -13.01 -11.4 ]\n",
      "[ -4.16 -11.93 -11.93  -4.16]\n",
      "[-10.87  -2.  ]\n",
      "[ -3.89  -9.66  -4.83 -12.21]\n",
      "[ -6.9  -14.85]\n",
      "[ -6.84 -11.78 -11.78  -6.84]\n",
      "[-17.44 -10.55]\n",
      "[-13.44  -6.73  -6.73 -13.44 -13.43 -13.43]\n",
      "[-10.93  -6.24]\n",
      "[-11.26  -1.74 -10.99]\n",
      "[-10.52 -10.73  -1.07]\n",
      "[ -2.68 -10.32]\n",
      "[-10.59 -10.52  -3.22]\n",
      "[-10.86  -3.35 -10.76]\n",
      "[-11.71  -2.81 -11.66]\n",
      "[ -3.89 -12.2   -9.65  -4.83]\n",
      "[ -6.82 -11.36]\n",
      "[-12.36  -7.38]\n",
      "[ -6.51 -10.93]\n",
      "[-12.03  -6.35]\n",
      "[-11.23 -11.53  -2.81]\n",
      "[-11.26 -11.47]\n"
     ]
    }
   ],
   "source": [
    "def f(d):\n",
    "    return np.max(d, 2.0)\n",
    "\n",
    "remain_idxs = []\n",
    "for k, sdf in madf.groupby('key_complex'):\n",
    "    if len(sdf) <= 1:\n",
    "        continue\n",
    "    ref_dgs = sdf['dG'].values\n",
    "    idx = sdf['dG_ori'].index\n",
    "    dgs = sdf['dG_ori'].values\n",
    "    if np.abs(dgs.max() - dgs.min()) < 0.5:\n",
    "        continue\n",
    "    diffs = np.abs(dgs - ref_dgs)\n",
    "    if diffs.max() < 0.5:\n",
    "        continue\n",
    "    # z_score = (x - mean) / std\n",
    "    # zsc = np.abs( (dgs - dgs.mean()) / dgs.var() )\n",
    "    \n",
    "    rem_ids = np.where(diffs < 2.0)[0]\n",
    "    if len(rem_ids) == 0:\n",
    "#         print(ref_dgs[0], dgs)\n",
    "        out = []\n",
    "        ids = np.arange(len(dgs))\n",
    "        valueCluster(2.0, dgs, ids, out)\n",
    "        ts = [i for i, x in enumerate(out) if len(x) == 1]\n",
    "        remove = False\n",
    "        if len(ts) == 1:\n",
    "            t = ts[0]\n",
    "            for g in out:\n",
    "                if len(g) > 1:\n",
    "                    if np.abs(dgs[g].mean() - dgs[t]) > 5.0:\n",
    "                        remove = True\n",
    "        if remove:\n",
    "            gs = [x for x in out if len(x) != 1]\n",
    "            gs = np.concatenate(gs)\n",
    "            idx = idx[gs]\n",
    "            dgs = dgs[gs]\n",
    "        print(dgs)\n",
    "    else:\n",
    "        idx = idx[rem_ids]\n",
    "        dgs = dgs[rem_ids]\n",
    "        remain_idxs.append(idx)\n",
    "#     print(dgs)\n",
    "\n"
   ]
  },
  {
   "cell_type": "code",
   "execution_count": 14,
   "id": "482cf1ce",
   "metadata": {},
   "outputs": [
    {
     "data": {
      "text/plain": [
       "(array([3.77358491, 3.77358491]), array([-7.9 , -7.37]))"
      ]
     },
     "execution_count": 14,
     "metadata": {},
     "output_type": "execute_result"
    }
   ],
   "source": []
  },
  {
   "cell_type": "code",
   "execution_count": 70,
   "id": "a4374faa",
   "metadata": {},
   "outputs": [
    {
     "name": "stdout",
     "output_type": "stream",
     "text": [
      "(2, 18)\n"
     ]
    },
    {
     "data": {
      "text/plain": [
       "tensor([[-24.0000, -20.0000, -17.0000, -16.5000, -15.5000, -14.5000, -13.5000,\n",
       "         -12.5000, -11.5000, -10.5000,  -9.5000,  -8.5000,  -7.5000,  -6.5000,\n",
       "          -5.5000,  -4.5000,  -3.0000,  -1.0000],\n",
       "        [-24.0000, -20.0000, -17.0000, -16.5000, -15.5000, -14.5000, -13.5000,\n",
       "         -12.5000, -11.5000, -10.5000,  -9.5000,  -8.5000,  -7.5000,  -6.5000,\n",
       "          -5.5000,  -4.5000,  -3.0000,  -1.0000]])"
      ]
     },
     "execution_count": 70,
     "metadata": {},
     "output_type": "execute_result"
    }
   ],
   "source": [
    "bins = []\n",
    "bins.append([-24., 4])\n",
    "bins.append([-20., 4])\n",
    "bins.append([-17., 2])\n",
    "# (-16.5, 1) -> (-4.5, 1)\n",
    "for x in np.arange(-16.5, -3.5, 1):\n",
    "  bins.append([x, 1])\n",
    "bins.append([-3., 2])\n",
    "bins.append([-1., 2])\n",
    "num_bins = len(bins)\n",
    "bin_ctrs = np.array([x[0] for x in bins])\n",
    "bin_half_widths = np.array([x[1]/2.0 for x in bins])\n",
    "\n",
    "bin_ctrs2= np.array([bin_ctrs, bin_ctrs])\n",
    "print(bin_ctrs2.shape)\n",
    "bin_ctrs2 = torch.tensor(bin_ctrs2, dtype=torch.float32)\n",
    "bin_ctrs2"
   ]
  },
  {
   "cell_type": "code",
   "execution_count": 77,
   "id": "730d5692",
   "metadata": {},
   "outputs": [
    {
     "data": {
      "text/plain": [
       "2"
      ]
     },
     "execution_count": 77,
     "metadata": {},
     "output_type": "execute_result"
    }
   ],
   "source": [
    "x.shape[0]"
   ]
  },
  {
   "cell_type": "code",
   "execution_count": 75,
   "id": "5ab3a8d0",
   "metadata": {},
   "outputs": [
    {
     "data": {
      "text/plain": [
       "tensor([-20., -17.])"
      ]
     },
     "execution_count": 75,
     "metadata": {},
     "output_type": "execute_result"
    }
   ],
   "source": [
    "x = torch.tensor([0,1])\n",
    "y = torch.tensor([1,2])\n",
    "bin_ctrs2[x,y]"
   ]
  },
  {
   "cell_type": "code",
   "execution_count": 59,
   "id": "ef8c50ab",
   "metadata": {},
   "outputs": [
    {
     "name": "stdout",
     "output_type": "stream",
     "text": [
      "tensor([[0.1272, 0.1978, 0.2574, 0.1482, 0.2695],\n",
      "        [0.2100, 0.2182, 0.2004, 0.2015, 0.1698],\n",
      "        [0.2951, 0.1459, 0.2028, 0.1923, 0.1639]])\n"
     ]
    },
    {
     "data": {
      "text/plain": [
       "tensor([4, 1, 0])"
      ]
     },
     "execution_count": 59,
     "metadata": {},
     "output_type": "execute_result"
    }
   ],
   "source": [
    "import torch\n",
    "import torch.nn.functional as F\n",
    "\n",
    "scores = torch.rand(3, 5)\n",
    "probs = F.softmax(scores, dim=-1)\n",
    "print(probs)\n",
    "ids = torch.argmax(probs, dim=-1, keepdim=False) \n",
    "ids"
   ]
  }
 ],
 "metadata": {
  "kernelspec": {
   "display_name": "Python 3",
   "language": "python",
   "name": "python3"
  },
  "language_info": {
   "codemirror_mode": {
    "name": "ipython",
    "version": 3
   },
   "file_extension": ".py",
   "mimetype": "text/x-python",
   "name": "python",
   "nbconvert_exporter": "python",
   "pygments_lexer": "ipython3",
   "version": "3.8.16"
  }
 },
 "nbformat": 4,
 "nbformat_minor": 5
}
