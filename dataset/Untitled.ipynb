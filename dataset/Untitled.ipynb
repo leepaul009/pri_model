{
 "cells": [
  {
   "cell_type": "code",
   "execution_count": 56,
   "id": "0fc8f5b3",
   "metadata": {
    "scrolled": true
   },
   "outputs": [
    {
     "name": "stdout",
     "output_type": "stream",
     "text": [
      "0 1737 3088 0\n",
      "1 1416 1850 1416\n",
      "2 240 561 480\n",
      "3 297 496 891\n",
      "4 105 345 420\n",
      "5 101 293 505\n",
      "6 37 124 222\n",
      "7 55 207 385\n",
      "8 41 305 328\n",
      "9 31 159 279\n",
      "10 25 167 250\n",
      "11 13 68 143\n",
      "12 15 124 180\n",
      "13 14 79 182\n",
      "14 10 99 140\n",
      "15 10 96 150\n",
      "16 11 111 176\n",
      "17 6 59 102\n",
      "18 4 11 72\n",
      "19 3 16 57\n",
      "20 7 70 140\n",
      "21 4 35 84\n",
      "22 1 22 22\n",
      "23 2 14 46\n",
      "24 2 19 48\n",
      "25 1 24 25\n",
      "26 6 57 156\n",
      "27 6 88 162\n",
      "28 5 89 140\n",
      "29 1 1 29\n",
      "30 3 39 90\n",
      "31 2 40 62\n",
      "32 1 2 32\n",
      "33 2 15 66\n",
      "34 1 17 34\n",
      "35 2 13 70\n",
      "36 1 16 36\n",
      "37 1 40 37\n",
      "39 1 7 39\n",
      "41 1 3 41\n",
      "48 1 18 48\n",
      "49 2 93 98\n",
      "52 1 13 52\n",
      "64 1 32 64\n",
      "138 1 37 138\n"
     ]
    }
   ],
   "source": [
    "import numpy as np\n",
    "import pandas as pd\n",
    "import os\n",
    "import matplotlib.pyplot as plt\n",
    "import numpy as np\n",
    "\n",
    "from tqdm import tqdm\n",
    "\n",
    "# set env\n",
    "np.set_printoptions(suppress=True)\n",
    "pd.set_option('display.max_columns', 100)\n",
    "import sys\n",
    "np.set_printoptions(threshold=sys.maxsize)\n",
    "\n",
    "cls_df = pd.read_csv('../data/_datasets/cluster_res/out_v01/cluster.csv', sep='\\t')\n",
    "\n",
    "max_same_n = cls_df['size_except_complex'].values.max()\n",
    "for i in range(max_same_n+1):\n",
    "    mask = cls_df['size_except_complex'] == i\n",
    "    tmp = cls_df[mask]\n",
    "    uniq_sz = np.sum(cls_df[mask]['size_unique_complex'].values)\n",
    "    excp_sz = np.sum(cls_df[mask]['size_except_complex'].values)\n",
    "    if len(tmp) > 0:\n",
    "        print(\"{} {} {} {}\".format(i, len(tmp), uniq_sz,excp_sz))"
   ]
  },
  {
   "cell_type": "code",
   "execution_count": 51,
   "id": "8b1f96e6",
   "metadata": {},
   "outputs": [
    {
     "name": "stdout",
     "output_type": "stream",
     "text": [
      "2.685605261111081 5.274135473727999 3.6521699565881116\n"
     ]
    },
    {
     "data": {
      "text/plain": [
       "(1256, 1737)"
      ]
     },
     "execution_count": 51,
     "metadata": {},
     "output_type": "execute_result"
    }
   ],
   "source": [
    "mask = cls_df['size_except_complex'] == 0\n",
    "avg_ds = cls_df[mask]['avg_distance'].values\n",
    "print(avg_ds.min(), avg_ds.max(), avg_ds.mean())\n",
    "len( np.where(avg_ds < 3.8)[0] ), len(avg_ds)"
   ]
  },
  {
   "cell_type": "code",
   "execution_count": 52,
   "id": "dde4e2aa",
   "metadata": {},
   "outputs": [
    {
     "data": {
      "text/plain": [
       "array([[<Axes: title={'center': 'avg_distance'}>]], dtype=object)"
      ]
     },
     "execution_count": 52,
     "metadata": {},
     "output_type": "execute_result"
    },
    {
     "data": {
      "image/png": "[encoded data removed]",
      "text/plain": [
       "<Figure size 432x288 with 1 Axes>"
      ]
     },
     "metadata": {
      "needs_background": "light"
     },
     "output_type": "display_data"
    }
   ],
   "source": [
    "\n",
    "\n",
    "cls_df.hist(column='avg_distance')"
   ]
  },
  {
   "cell_type": "code",
   "execution_count": 53,
   "id": "fb588b3c",
   "metadata": {},
   "outputs": [
    {
     "data": {
      "text/plain": [
       "array([[<Axes: title={'center': 'avg_distance'}>]], dtype=object)"
      ]
     },
     "execution_count": 53,
     "metadata": {},
     "output_type": "execute_result"
    },
    {
     "data": {
      "image/png": "[encoded data removed]",
      "text/plain": [
       "<Figure size 432x288 with 1 Axes>"
      ]
     },
     "metadata": {
      "needs_background": "light"
     },
     "output_type": "display_data"
    }
   ],
   "source": [
    "mask = cls_df['size_except_complex'] == 0\n",
    "\n",
    "cls_df[mask].hist(column='avg_distance')"
   ]
  },
  {
   "cell_type": "code",
   "execution_count": 54,
   "id": "677f61c6",
   "metadata": {},
   "outputs": [
    {
     "name": "stdout",
     "output_type": "stream",
     "text": [
      "Mean:  95.9090909090909\n",
      "\n",
      "Standard deviation:  285.9117646933799\n",
      "\n",
      "Outliers  :  [1000]\n"
     ]
    }
   ],
   "source": [
    "import numpy as np\n",
    "\n",
    "data =[1, 2, 3, 4,5,6,7, 8, 9,10,1000]\n",
    "\n",
    "mean = np.mean(data)\n",
    "std = np.std(data)\n",
    "\n",
    "threshold = 3\n",
    "outliers = []\n",
    "for x in data:\n",
    "    z_score = (x - mean) / std\n",
    "    if abs(z_score) > threshold:\n",
    "        outliers.append(x)\n",
    "print(\"Mean: \",mean)\n",
    "print(\"\\nStandard deviation: \",std)\n",
    "print(\"\\nOutliers  : \", outliers)"
   ]
  }
 ],
 "metadata": {
  "kernelspec": {
   "display_name": "Python 3",
   "language": "python",
   "name": "python3"
  },
  "language_info": {
   "codemirror_mode": {
    "name": "ipython",
    "version": 3
   },
   "file_extension": ".py",
   "mimetype": "text/x-python",
   "name": "python",
   "nbconvert_exporter": "python",
   "pygments_lexer": "ipython3",
   "version": "3.8.16"
  }
 },
 "nbformat": 4,
 "nbformat_minor": 5
}
