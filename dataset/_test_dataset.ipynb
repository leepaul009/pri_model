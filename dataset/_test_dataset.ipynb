{
 "cells": [
  {
   "cell_type": "code",
   "execution_count": 2,
   "id": "94d06e12",
   "metadata": {},
   "outputs": [
    {
     "data": {
      "text/html": [
       "<div>\n",
       "<style scoped>\n",
       "    .dataframe tbody tr th:only-of-type {\n",
       "        vertical-align: middle;\n",
       "    }\n",
       "\n",
       "    .dataframe tbody tr th {\n",
       "        vertical-align: top;\n",
       "    }\n",
       "\n",
       "    .dataframe thead th {\n",
       "        text-align: right;\n",
       "    }\n",
       "</style>\n",
       "<table border=\"1\" class=\"dataframe\">\n",
       "  <thead>\n",
       "    <tr style=\"text-align: right;\">\n",
       "      <th></th>\n",
       "      <th>dataset_id</th>\n",
       "      <th>UniProt</th>\n",
       "      <th>protein_sequence</th>\n",
       "      <th>nucleotide_sequence</th>\n",
       "      <th>protein_mutation</th>\n",
       "      <th>nucleic_acid_type</th>\n",
       "      <th>Kd</th>\n",
       "      <th>dG</th>\n",
       "      <th>pH</th>\n",
       "      <th>Tm</th>\n",
       "      <th>...</th>\n",
       "      <th>max_min</th>\n",
       "      <th>max_min_judge</th>\n",
       "      <th>dG_ori</th>\n",
       "      <th>pdb_id</th>\n",
       "      <th>len_p1</th>\n",
       "      <th>len_p2</th>\n",
       "      <th>protein_chain</th>\n",
       "      <th>na_chain</th>\n",
       "      <th>identity_protein_seq</th>\n",
       "      <th>identity_na_seq</th>\n",
       "    </tr>\n",
       "  </thead>\n",
       "  <tbody>\n",
       "    <tr>\n",
       "      <th>0</th>\n",
       "      <td>pnat_12637</td>\n",
       "      <td>P18146</td>\n",
       "      <td>MAAAKAEMQLMSPLQISDPFGSFPHSPTMDNYPKLEEMMLLSNGAP...</td>\n",
       "      <td>GTGTGGGCG|CGCCCACAC</td>\n",
       "      <td>wild</td>\n",
       "      <td>dsDNA</td>\n",
       "      <td>NONE</td>\n",
       "      <td>-0.11</td>\n",
       "      <td>7.5</td>\n",
       "      <td>293.0</td>\n",
       "      <td>...</td>\n",
       "      <td>0.0</td>\n",
       "      <td>good</td>\n",
       "      <td>-0.11</td>\n",
       "      <td>4r2a</td>\n",
       "      <td>A:86</td>\n",
       "      <td>B:10,C:10</td>\n",
       "      <td>A_1</td>\n",
       "      <td>B_1.C_1</td>\n",
       "      <td>0.14</td>\n",
       "      <td>0.32</td>\n",
       "    </tr>\n",
       "    <tr>\n",
       "      <th>1</th>\n",
       "      <td>pnat_12656</td>\n",
       "      <td>P18146</td>\n",
       "      <td>MAAAKAEMQLMSPLQISDPFGSFPHSPTMDNYPKLEEMMLLSNGAP...</td>\n",
       "      <td>GTGTGGGCT|AGCCCACAC</td>\n",
       "      <td>wild</td>\n",
       "      <td>dsDNA</td>\n",
       "      <td>NONE</td>\n",
       "      <td>-0.06</td>\n",
       "      <td>7.5</td>\n",
       "      <td>293.0</td>\n",
       "      <td>...</td>\n",
       "      <td>0.0</td>\n",
       "      <td>good</td>\n",
       "      <td>-0.06</td>\n",
       "      <td>4r2a</td>\n",
       "      <td>A:86</td>\n",
       "      <td>B:10,C:10</td>\n",
       "      <td>A_1</td>\n",
       "      <td>B_1.C_1</td>\n",
       "      <td>0.14</td>\n",
       "      <td>0.37</td>\n",
       "    </tr>\n",
       "    <tr>\n",
       "      <th>2</th>\n",
       "      <td>pnat_1</td>\n",
       "      <td>P16525</td>\n",
       "      <td>MARYDLVDRLNTTFRQMEQELAIFAAHLEQHKLLVARVFSLPEVKK...</td>\n",
       "      <td>TATGTTGTAACTAAAG|CTTTAGTTACAACATA</td>\n",
       "      <td>wild</td>\n",
       "      <td>dsDNA</td>\n",
       "      <td>0.00704</td>\n",
       "      <td>-3.01</td>\n",
       "      <td>7.9</td>\n",
       "      <td>305.0</td>\n",
       "      <td>...</td>\n",
       "      <td>0.0</td>\n",
       "      <td>good</td>\n",
       "      <td>-3.01</td>\n",
       "      <td>2i06</td>\n",
       "      <td>A:305</td>\n",
       "      <td>B:15,C:14</td>\n",
       "      <td>A_1</td>\n",
       "      <td>B_1.C_1</td>\n",
       "      <td>0.5</td>\n",
       "      <td>0.37</td>\n",
       "    </tr>\n",
       "  </tbody>\n",
       "</table>\n",
       "<p>3 rows × 25 columns</p>\n",
       "</div>"
      ],
      "text/plain": [
       "   dataset_id UniProt                                   protein_sequence  \\\n",
       "0  pnat_12637  P18146  MAAAKAEMQLMSPLQISDPFGSFPHSPTMDNYPKLEEMMLLSNGAP...   \n",
       "1  pnat_12656  P18146  MAAAKAEMQLMSPLQISDPFGSFPHSPTMDNYPKLEEMMLLSNGAP...   \n",
       "2      pnat_1  P16525  MARYDLVDRLNTTFRQMEQELAIFAAHLEQHKLLVARVFSLPEVKK...   \n",
       "\n",
       "                 nucleotide_sequence protein_mutation nucleic_acid_type  \\\n",
       "0                GTGTGGGCG|CGCCCACAC             wild             dsDNA   \n",
       "1                GTGTGGGCT|AGCCCACAC             wild             dsDNA   \n",
       "2  TATGTTGTAACTAAAG|CTTTAGTTACAACATA             wild             dsDNA   \n",
       "\n",
       "        Kd    dG   pH     Tm  ... max_min max_min_judge dG_ori pdb_id  len_p1  \\\n",
       "0     NONE -0.11  7.5  293.0  ...     0.0          good  -0.11   4r2a    A:86   \n",
       "1     NONE -0.06  7.5  293.0  ...     0.0          good  -0.06   4r2a    A:86   \n",
       "2  0.00704 -3.01  7.9  305.0  ...     0.0          good  -3.01   2i06   A:305   \n",
       "\n",
       "      len_p2 protein_chain  na_chain identity_protein_seq identity_na_seq  \n",
       "0  B:10,C:10           A_1   B_1.C_1                 0.14            0.32  \n",
       "1  B:10,C:10           A_1   B_1.C_1                 0.14            0.37  \n",
       "2  B:15,C:14           A_1   B_1.C_1                  0.5            0.37  \n",
       "\n",
       "[3 rows x 25 columns]"
      ]
     },
     "execution_count": 2,
     "metadata": {},
     "output_type": "execute_result"
    }
   ],
   "source": [
    "import numpy as np\n",
    "import pandas as pd\n",
    "import os\n",
    "\n",
    "data_dir = '../data/'\n",
    "data_file = 'seq_dg_identity_230404.csv'\n",
    "data_file = os.path.join(data_dir, data_file)\n",
    "df = pd.read_csv(data_file, sep='\\t')\n",
    "df.head(3)"
   ]
  },
  {
   "cell_type": "code",
   "execution_count": 3,
   "id": "103b2edc",
   "metadata": {},
   "outputs": [
    {
     "name": "stdout",
     "output_type": "stream",
     "text": [
      "781\n"
     ]
    }
   ],
   "source": [
    "set_uni_prot = set()\n",
    "for i in range(len(df)):\n",
    "    up_id = df.loc[i]['UniProt']\n",
    "    set_uni_prot.add(up_id)\n",
    "print(len(set_uni_prot))"
   ]
  },
  {
   "cell_type": "code",
   "execution_count": 4,
   "id": "5f6022be",
   "metadata": {},
   "outputs": [
    {
     "data": {
      "text/plain": [
       "{'A', 'C', 'G', 'T', 'U', '|'}"
      ]
     },
     "execution_count": 4,
     "metadata": {},
     "output_type": "execute_result"
    }
   ],
   "source": [
    "n = len(df)\n",
    "ss = set()\n",
    "for i in range(n):\n",
    "    rdna_seq = df.loc[i]['nucleotide_sequence']\n",
    "    for it in rdna_seq:\n",
    "        ss.add(it)\n",
    "ss"
   ]
  },
  {
   "cell_type": "code",
   "execution_count": 5,
   "id": "7ea21efe",
   "metadata": {},
   "outputs": [
    {
     "data": {
      "text/plain": [
       "(7095, 10166)"
      ]
     },
     "execution_count": 5,
     "metadata": {},
     "output_type": "execute_result"
    }
   ],
   "source": [
    "n = len(df)\n",
    "ss = set()\n",
    "n_double_seq = 0\n",
    "n_single_seq = 0\n",
    "for i in range(n):\n",
    "    rdna_seq = df.loc[i]['nucleotide_sequence']\n",
    "    if '|' in rdna_seq:\n",
    "        n_double_seq+=1\n",
    "    else:\n",
    "        n_single_seq+=1\n",
    "n_double_seq, n_single_seq"
   ]
  },
  {
   "cell_type": "code",
   "execution_count": 6,
   "id": "7ca25901",
   "metadata": {},
   "outputs": [],
   "source": [
    "def binarize_categorical(matrix, n_classes, out=None):\n",
    "    L = matrix.shape[0]\n",
    "    matrix = matrix.astype(np.int32)\n",
    "    if out is None:\n",
    "        out = np.zeros([L, n_classes], dtype=np.bool_)\n",
    "    subset = (matrix>=0) & (matrix<n_classes)\n",
    "    out[np.arange(L)[subset],matrix[subset]] = 1\n",
    "    return out"
   ]
  },
  {
   "cell_type": "code",
   "execution_count": 7,
   "id": "a933a9e3",
   "metadata": {},
   "outputs": [
    {
     "name": "stdout",
     "output_type": "stream",
     "text": [
      "(9, 4)\n",
      "(9, 4)\n"
     ]
    },
    {
     "data": {
      "text/plain": [
       "(18, 4)"
      ]
     },
     "execution_count": 7,
     "metadata": {},
     "output_type": "execute_result"
    }
   ],
   "source": [
    "rdna_seq = df.loc[0]['nucleotide_sequence']\n",
    "\n",
    "\n",
    "rdna_map = {'A':0, 'T':1, 'C':2, 'G':3, 'U':3}\n",
    "rdna_seqs = None\n",
    "if '|' in rdna_seq:\n",
    "    rdna_seqs = rdna_seq.split('|')\n",
    "else:\n",
    "    rdna_seqs = [rdna_seq]\n",
    "\n",
    "rdna_attributes = list()\n",
    "for seq in rdna_seqs:\n",
    "    seq_int = [rdna_map[x] for x in seq]\n",
    "    seq_int = np.array(seq_int)\n",
    "    seq_mat = binarize_categorical(seq_int, 4).astype(np.float32)\n",
    "    print(seq_mat.shape)\n",
    "    rdna_attributes.append(seq_mat)\n",
    "np.concatenate(rdna_attributes).shape"
   ]
  },
  {
   "cell_type": "code",
   "execution_count": null,
   "id": "43e30404",
   "metadata": {},
   "outputs": [],
   "source": []
  },
  {
   "cell_type": "code",
   "execution_count": 8,
   "id": "7123411b",
   "metadata": {
    "scrolled": true
   },
   "outputs": [
    {
     "data": {
      "text/html": [
       "<div>\n",
       "<style scoped>\n",
       "    .dataframe tbody tr th:only-of-type {\n",
       "        vertical-align: middle;\n",
       "    }\n",
       "\n",
       "    .dataframe tbody tr th {\n",
       "        vertical-align: top;\n",
       "    }\n",
       "\n",
       "    .dataframe thead th {\n",
       "        text-align: right;\n",
       "    }\n",
       "</style>\n",
       "<table border=\"1\" class=\"dataframe\">\n",
       "  <thead>\n",
       "    <tr style=\"text-align: right;\">\n",
       "      <th></th>\n",
       "      <th>8mer</th>\n",
       "      <th>8mer.1</th>\n",
       "      <th>Alx3_3418.2</th>\n",
       "      <th>Alx4_1744.1</th>\n",
       "      <th>Arx_1738.2</th>\n",
       "      <th>Bapx1_2343.1</th>\n",
       "      <th>Barhl1_2590.2</th>\n",
       "      <th>Barhl2_3868.1</th>\n",
       "      <th>Barx1_2877.1</th>\n",
       "      <th>Barx2_3447.2</th>\n",
       "      <th>...</th>\n",
       "      <th>Tcf1_2666.2</th>\n",
       "      <th>Tcf2_0913.2</th>\n",
       "      <th>Tgif1_2342.2</th>\n",
       "      <th>Tgif2_3451.1</th>\n",
       "      <th>Titf1_1722.2</th>\n",
       "      <th>Tlx2_3498.2</th>\n",
       "      <th>Uncx4.1_2281.2</th>\n",
       "      <th>Vax1_3499.1</th>\n",
       "      <th>Vax2_3500.1</th>\n",
       "      <th>Vsx1_1728.1</th>\n",
       "    </tr>\n",
       "  </thead>\n",
       "  <tbody>\n",
       "    <tr>\n",
       "      <th>0</th>\n",
       "      <td>AAAAAAAA</td>\n",
       "      <td>TTTTTTTT</td>\n",
       "      <td>2.3401</td>\n",
       "      <td>1.7044</td>\n",
       "      <td>2.5305</td>\n",
       "      <td>0.7962</td>\n",
       "      <td>1.8823</td>\n",
       "      <td>3.2222</td>\n",
       "      <td>1.2282</td>\n",
       "      <td>2.0546</td>\n",
       "      <td>...</td>\n",
       "      <td>1.4632</td>\n",
       "      <td>-0.0636</td>\n",
       "      <td>1.2235</td>\n",
       "      <td>0.0742</td>\n",
       "      <td>2.0043</td>\n",
       "      <td>0.5475</td>\n",
       "      <td>1.3708</td>\n",
       "      <td>1.6994</td>\n",
       "      <td>2.2566</td>\n",
       "      <td>3.3771</td>\n",
       "    </tr>\n",
       "    <tr>\n",
       "      <th>1</th>\n",
       "      <td>AAAAAAAC</td>\n",
       "      <td>GTTTTTTT</td>\n",
       "      <td>1.3416</td>\n",
       "      <td>1.4467</td>\n",
       "      <td>0.9565</td>\n",
       "      <td>0.0567</td>\n",
       "      <td>1.8291</td>\n",
       "      <td>2.4403</td>\n",
       "      <td>0.9911</td>\n",
       "      <td>1.2143</td>\n",
       "      <td>...</td>\n",
       "      <td>1.1287</td>\n",
       "      <td>1.0444</td>\n",
       "      <td>-0.2575</td>\n",
       "      <td>0.9416</td>\n",
       "      <td>0.3597</td>\n",
       "      <td>-0.2338</td>\n",
       "      <td>0.9116</td>\n",
       "      <td>1.2902</td>\n",
       "      <td>0.9958</td>\n",
       "      <td>1.2923</td>\n",
       "    </tr>\n",
       "    <tr>\n",
       "      <th>2</th>\n",
       "      <td>AAAAAAAG</td>\n",
       "      <td>CTTTTTTT</td>\n",
       "      <td>1.3386</td>\n",
       "      <td>1.0929</td>\n",
       "      <td>1.4749</td>\n",
       "      <td>1.1892</td>\n",
       "      <td>1.0593</td>\n",
       "      <td>1.4076</td>\n",
       "      <td>0.3329</td>\n",
       "      <td>1.2362</td>\n",
       "      <td>...</td>\n",
       "      <td>0.5170</td>\n",
       "      <td>0.4963</td>\n",
       "      <td>0.3452</td>\n",
       "      <td>0.2785</td>\n",
       "      <td>2.1461</td>\n",
       "      <td>-0.3770</td>\n",
       "      <td>0.3261</td>\n",
       "      <td>1.0687</td>\n",
       "      <td>0.3439</td>\n",
       "      <td>2.3979</td>\n",
       "    </tr>\n",
       "  </tbody>\n",
       "</table>\n",
       "<p>3 rows × 180 columns</p>\n",
       "</div>"
      ],
      "text/plain": [
       "       8mer    8mer.1  Alx3_3418.2  Alx4_1744.1  Arx_1738.2  Bapx1_2343.1  \\\n",
       "0  AAAAAAAA  TTTTTTTT       2.3401       1.7044      2.5305        0.7962   \n",
       "1  AAAAAAAC  GTTTTTTT       1.3416       1.4467      0.9565        0.0567   \n",
       "2  AAAAAAAG  CTTTTTTT       1.3386       1.0929      1.4749        1.1892   \n",
       "\n",
       "   Barhl1_2590.2  Barhl2_3868.1  Barx1_2877.1  Barx2_3447.2  ...  Tcf1_2666.2  \\\n",
       "0         1.8823         3.2222        1.2282        2.0546  ...       1.4632   \n",
       "1         1.8291         2.4403        0.9911        1.2143  ...       1.1287   \n",
       "2         1.0593         1.4076        0.3329        1.2362  ...       0.5170   \n",
       "\n",
       "   Tcf2_0913.2  Tgif1_2342.2  Tgif2_3451.1  Titf1_1722.2  Tlx2_3498.2  \\\n",
       "0      -0.0636        1.2235        0.0742        2.0043       0.5475   \n",
       "1       1.0444       -0.2575        0.9416        0.3597      -0.2338   \n",
       "2       0.4963        0.3452        0.2785        2.1461      -0.3770   \n",
       "\n",
       "   Uncx4.1_2281.2  Vax1_3499.1  Vax2_3500.1  Vsx1_1728.1  \n",
       "0          1.3708       1.6994       2.2566       3.3771  \n",
       "1          0.9116       1.2902       0.9958       1.2923  \n",
       "2          0.3261       1.0687       0.3439       2.3979  \n",
       "\n",
       "[3 rows x 180 columns]"
      ]
     },
     "execution_count": 8,
     "metadata": {},
     "output_type": "execute_result"
    }
   ],
   "source": [
    "# data_file = 'seq_dg_identity_230404.csv'\n",
    "data_file = 'table_hox_zscore_102107.txt'\n",
    "data_file = os.path.join(data_dir, data_file)\n",
    "df = pd.read_csv(data_file, sep='\\t')\n",
    "df.head(3)"
   ]
  },
  {
   "cell_type": "code",
   "execution_count": 9,
   "id": "0076b356",
   "metadata": {},
   "outputs": [
    {
     "name": "stdout",
     "output_type": "stream",
     "text": [
      "['Alx3', 'Alx4', 'Arx', 'Bapx1', 'Barhl1', 'Barhl2', 'Barx1', 'Barx2', 'Bsx', 'Cart1', 'Cart1', 'Cdx1', 'Cdx2', 'Cphx', 'Crx', 'Cutl1', 'Cutl1', 'Dbx1', 'Dbx2', 'Dlx1', 'Dlx2', 'Dlx3', 'Dlx4', 'Dlx5', 'Dmbx1', 'Dobox4', 'Dobox5', 'Duxl', 'Emx2', 'En1', 'En2', 'Esx1', 'Evx1', 'Evx2', 'Gbx1', 'Gbx2', 'Gsc', 'Gsh2', 'Hdx', 'Hlx1', 'Hlxb9', 'Hmbox1', 'Hmx1', 'Hmx2', 'Hmx3', 'Homez', 'Hoxa1', 'Hoxa10', 'Hoxa11', 'Hoxa13', 'Hoxa2', 'Hoxa3', 'Hoxa4', 'Hoxa5', 'Hoxa6', 'Hoxa7', 'Hoxa7', 'Hoxa9', 'Hoxb13', 'Hoxb3', 'Hoxb4', 'Hoxb5', 'Hoxb6', 'Hoxb7', 'Hoxb8', 'Hoxb9', 'Hoxc10', 'Hoxc11', 'Hoxc12', 'Hoxc13', 'Hoxc4', 'Hoxc5', 'Hoxc6', 'Hoxc8', 'Hoxc9', 'Hoxd1', 'Hoxd10', 'Hoxd11', 'Hoxd12', 'Hoxd13', 'Hoxd3', 'Hoxd8', 'Ipf1', 'Irx2', 'Irx3', 'Irx3', 'Irx4', 'Irx5', 'Irx6', 'Isl2', 'Isx', 'Lbx2', 'Lhx1', 'Lhx2', 'Lhx3', 'Lhx4', 'Lhx5', 'Lhx6', 'Lhx6', 'Lhx8', 'Lhx9', 'Lmx1a', 'Lmx1b', 'Meis1', 'Meox1', 'Mrg1', 'Mrg2', 'Msx1', 'Msx2', 'Msx3', 'Nkx1-1', 'Nkx1-2', 'Nkx2-2', 'Nkx2-3', 'Nkx2-4', 'Nkx2-5', 'Nkx2-6', 'Nkx2-9', 'Nkx3-1', 'Nkx6-1', 'Nkx6-1', 'Nkx6-3', 'Obox1', 'Obox2', 'Obox3', 'Obox5', 'Obox5', 'Obox6', 'Og2x', 'Otp', 'Otx1', 'Otx2', 'Pax4', 'Pax6', 'Pax7', 'Pbx1', 'Phox2a', 'Phox2b', 'Pitx1', 'Pitx2', 'Pitx3', 'Pknox1', 'Pknox2', 'Pou1f1', 'Pou2f1', 'Pou2f2', 'Pou2f3', 'Pou3f1', 'Pou3f2', 'Pou3f3', 'Pou3f4', 'Pou4f3', 'Pou6f1', 'Pou6f1', 'Prop1', 'Prrx1', 'Prrx2', 'Rax', 'Rhox11', 'Rhox11', 'Rhox6', 'Shox2', 'Six1', 'Six2', 'Six3', 'Six4', 'Six6', 'Six6', 'Tcf1', 'Tcf2', 'Tgif1', 'Tgif2', 'Titf1', 'Tlx2', 'Uncx4.1', 'Vax1', 'Vax2', 'Vsx1']\n"
     ]
    }
   ],
   "source": [
    "prots = [x for x in df.keys()][2:]\n",
    "prots = [x.split('_')[0] for x in prots]\n",
    "print(prots)"
   ]
  },
  {
   "cell_type": "code",
   "execution_count": 19,
   "id": "48bf62e8",
   "metadata": {},
   "outputs": [],
   "source": [
    "data_dir2 = '_datasets'\n",
    "data_file = 'homeodomains_mouse.fa'\n",
    "data_file = os.path.join(data_dir, data_dir2, data_file)\n",
    "f = open(data_file, 'r')\n",
    "Lines = f.readlines()\n",
    "\n",
    "prot2seq = dict()\n",
    "name = None\n",
    "for line in Lines:\n",
    "    if line[0] == '>':\n",
    "        name = line[1:-1]\n",
    "    else:\n",
    "        if name is not None and name in prots:\n",
    "            prot2seq[name] = line[:-1]\n",
    "        name = None\n",
    "map2seq = {x:prot2seq[x] for x in prots if x in prot2seq.keys()}"
   ]
  },
  {
   "cell_type": "code",
   "execution_count": 23,
   "id": "f4c25e51",
   "metadata": {},
   "outputs": [],
   "source": [
    "prot_keys = [x for x in df.keys()][2:]\n",
    "mapping = {\n",
    "    'protein_sequence' : [],\n",
    "    'nucleotide_sequence' : [],\n",
    "    'zscore' : [],\n",
    "}\n",
    "for i in range(len(df)):\n",
    "    \n",
    "    # items = [df.loc[i][k] for k in prot_keys if k.split('_')[0] in map2seq.keys()]\n",
    "    for k in prot_keys:\n",
    "        orig_k = k\n",
    "        k = k.split('_')[0]\n",
    "        if k in map2seq.keys():\n",
    "            p_seq = map2seq[k]\n",
    "            n_seq = df.loc[i]['8mer'] + '|' + df.loc[i]['8mer.1']\n",
    "            z = df.loc[i][orig_k]\n",
    "            mapping['protein_sequence'].append(p_seq)\n",
    "            mapping['nucleotide_sequence'].append(n_seq)\n",
    "            mapping['zscore'].append(z)\n",
    "            \n",
    "out_df = pd.DataFrame(mapping)\n",
    "out_df.to_csv('../data/hox_zscore.csv', index=False)"
   ]
  },
  {
   "cell_type": "code",
   "execution_count": null,
   "id": "4b4a0645",
   "metadata": {},
   "outputs": [],
   "source": []
  }
 ],
 "metadata": {
  "kernelspec": {
   "display_name": "Python 3",
   "language": "python",
   "name": "python3"
  },
  "language_info": {
   "codemirror_mode": {
    "name": "ipython",
    "version": 3
   },
   "file_extension": ".py",
   "mimetype": "text/x-python",
   "name": "python",
   "nbconvert_exporter": "python",
   "pygments_lexer": "ipython3",
   "version": "3.8.16"
  }
 },
 "nbformat": 4,
 "nbformat_minor": 5
}
